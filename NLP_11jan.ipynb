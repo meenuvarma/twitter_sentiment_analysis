{
 "cells": [
  {
   "cell_type": "markdown",
   "metadata": {},
   "source": [
    "# Step 1: Business Problem :"
   ]
  },
  {
   "cell_type": "markdown",
   "metadata": {},
   "source": [
    "### WittyWicky Inc. is a consulting firm that designs brand strategy for a lot of product startups. Their modus operandi is to gain the pulse of competing products and the associated sentiment from social media. Social media has profound impact in capturing the potential customers and thus there are a lot of consulting firms that operate in the digital strategy space. Whether it is to design a marketing campaign or look at the effect of marketing campaigns on user engagement or sentiment, it is a very valuable tool.Manual assessment of sentiment is very time consuming and automatic sentiment analysis would deliver a lot of value"
   ]
  },
  {
   "cell_type": "markdown",
   "metadata": {},
   "source": [
    "# Step 2: Transformed into Data Science Problem:"
   ]
  },
  {
   "cell_type": "markdown",
   "metadata": {},
   "source": [
    "### There are four categories of sentiments through which we can analyse & predict sentiment of customers associated from Social Media :\n",
    "    #0-Negative\n",
    "    #1-Neutral\n",
    "    #2-Positive\n",
    "    #3-Unknown (can't tell)"
   ]
  },
  {
   "cell_type": "markdown",
   "metadata": {},
   "source": [
    "# Exploratory Data Analysis (EDA):"
   ]
  },
  {
   "cell_type": "markdown",
   "metadata": {},
   "source": [
    "### Importing necessary Libraries:"
   ]
  },
  {
   "cell_type": "code",
   "execution_count": 376,
   "metadata": {},
   "outputs": [],
   "source": [
    "import pandas as pd\n",
    "import matplotlib.pyplot as plt\n",
    "import seaborn as sns\n",
    "import numpy as np\n",
    "import nltk\n",
    "from wordcloud import WordCloud\n",
    "from nltk.corpus import stopwords\n",
    "from nltk import word_tokenize, pos_tag\n",
    "from sklearn.feature_extraction.text import CountVectorizer, TfidfVectorizer\n",
    "from sklearn.model_selection import train_test_split, cross_val_predict\n",
    "from nltk.stem import WordNetLemmatizer\n",
    "import re\n",
    "from sklearn.naive_bayes import GaussianNB, MultinomialNB, BernoulliNB\n",
    "from sklearn.preprocessing import LabelEncoder\n",
    "from sklearn.ensemble import RandomForestClassifier\n",
    "from sklearn.metrics import classification_report, accuracy_score,confusion_matrix,precision_score,f1_score,recall_score\n",
    "from sklearn.linear_model import LogisticRegression\n",
    "from sklearn.model_selection import train_test_split, GridSearchCV,cross_val_score,cross_val_predict\n",
    "from sklearn.feature_selection import RFE\n",
    "from imblearn.over_sampling import SMOTE\n"
   ]
  },
  {
   "cell_type": "code",
   "execution_count": 377,
   "metadata": {},
   "outputs": [],
   "source": [
    "train=pd.read_csv(\"/Users/shilpyjain/Downloads/data/train.csv\")"
   ]
  },
  {
   "cell_type": "code",
   "execution_count": 378,
   "metadata": {},
   "outputs": [
    {
     "data": {
      "text/html": [
       "<div>\n",
       "<style scoped>\n",
       "    .dataframe tbody tr th:only-of-type {\n",
       "        vertical-align: middle;\n",
       "    }\n",
       "\n",
       "    .dataframe tbody tr th {\n",
       "        vertical-align: top;\n",
       "    }\n",
       "\n",
       "    .dataframe thead th {\n",
       "        text-align: right;\n",
       "    }\n",
       "</style>\n",
       "<table border=\"1\" class=\"dataframe\">\n",
       "  <thead>\n",
       "    <tr style=\"text-align: right;\">\n",
       "      <th></th>\n",
       "      <th>tweet_id</th>\n",
       "      <th>tweet</th>\n",
       "      <th>sentiment</th>\n",
       "    </tr>\n",
       "  </thead>\n",
       "  <tbody>\n",
       "    <tr>\n",
       "      <th>0</th>\n",
       "      <td>1701</td>\n",
       "      <td>#sxswnui #sxsw #apple defining language of tou...</td>\n",
       "      <td>1</td>\n",
       "    </tr>\n",
       "    <tr>\n",
       "      <th>1</th>\n",
       "      <td>1851</td>\n",
       "      <td>Learning ab Google doodles! All doodles should...</td>\n",
       "      <td>1</td>\n",
       "    </tr>\n",
       "    <tr>\n",
       "      <th>2</th>\n",
       "      <td>2689</td>\n",
       "      <td>one of the most in-your-face ex. of stealing t...</td>\n",
       "      <td>2</td>\n",
       "    </tr>\n",
       "    <tr>\n",
       "      <th>3</th>\n",
       "      <td>4525</td>\n",
       "      <td>This iPhone #SXSW app would b pretty awesome i...</td>\n",
       "      <td>0</td>\n",
       "    </tr>\n",
       "    <tr>\n",
       "      <th>4</th>\n",
       "      <td>3604</td>\n",
       "      <td>Line outside the Apple store in Austin waiting...</td>\n",
       "      <td>1</td>\n",
       "    </tr>\n",
       "  </tbody>\n",
       "</table>\n",
       "</div>"
      ],
      "text/plain": [
       "   tweet_id                                              tweet  sentiment\n",
       "0      1701  #sxswnui #sxsw #apple defining language of tou...          1\n",
       "1      1851  Learning ab Google doodles! All doodles should...          1\n",
       "2      2689  one of the most in-your-face ex. of stealing t...          2\n",
       "3      4525  This iPhone #SXSW app would b pretty awesome i...          0\n",
       "4      3604  Line outside the Apple store in Austin waiting...          1"
      ]
     },
     "execution_count": 378,
     "metadata": {},
     "output_type": "execute_result"
    }
   ],
   "source": [
    "train.head(5)"
   ]
  },
  {
   "cell_type": "code",
   "execution_count": 379,
   "metadata": {},
   "outputs": [
    {
     "data": {
      "text/plain": [
       "(7274, 3)"
      ]
     },
     "execution_count": 379,
     "metadata": {},
     "output_type": "execute_result"
    }
   ],
   "source": [
    "train.shape"
   ]
  },
  {
   "cell_type": "code",
   "execution_count": 380,
   "metadata": {},
   "outputs": [
    {
     "name": "stdout",
     "output_type": "stream",
     "text": [
      "<class 'pandas.core.frame.DataFrame'>\n",
      "RangeIndex: 7274 entries, 0 to 7273\n",
      "Data columns (total 3 columns):\n",
      "tweet_id     7274 non-null int64\n",
      "tweet        7273 non-null object\n",
      "sentiment    7274 non-null int64\n",
      "dtypes: int64(2), object(1)\n",
      "memory usage: 170.6+ KB\n"
     ]
    }
   ],
   "source": [
    "train.info()"
   ]
  },
  {
   "cell_type": "code",
   "execution_count": 381,
   "metadata": {},
   "outputs": [],
   "source": [
    "# Define Utiliy Functions\n",
    "def data_insights_report(data=pd.DataFrame()):\n",
    "    report = pd.DataFrame()\n",
    "    report['Columns'] = data.columns\n",
    "    report['Data_Types'] = data.dtypes.values\n",
    "    report['Unique_Count'] = data.nunique().values\n",
    "    report['NAN_Count'] = data.isna().sum().values\n",
    "\n",
    "    tempdf = data.describe().apply(lambda x: round(x,2), axis=1).T\n",
    "    pd.merge(report,tempdf.reset_index().rename(columns={'index':'Columns'}), on='Columns')\n",
    "\n",
    "    return report.join(tempdf, on='Columns')"
   ]
  },
  {
   "cell_type": "code",
   "execution_count": 382,
   "metadata": {},
   "outputs": [
    {
     "data": {
      "text/html": [
       "<div>\n",
       "<style scoped>\n",
       "    .dataframe tbody tr th:only-of-type {\n",
       "        vertical-align: middle;\n",
       "    }\n",
       "\n",
       "    .dataframe tbody tr th {\n",
       "        vertical-align: top;\n",
       "    }\n",
       "\n",
       "    .dataframe thead th {\n",
       "        text-align: right;\n",
       "    }\n",
       "</style>\n",
       "<table border=\"1\" class=\"dataframe\">\n",
       "  <thead>\n",
       "    <tr style=\"text-align: right;\">\n",
       "      <th></th>\n",
       "      <th>Columns</th>\n",
       "      <th>Data_Types</th>\n",
       "      <th>Unique_Count</th>\n",
       "      <th>NAN_Count</th>\n",
       "      <th>count</th>\n",
       "      <th>mean</th>\n",
       "      <th>std</th>\n",
       "      <th>min</th>\n",
       "      <th>25%</th>\n",
       "      <th>50%</th>\n",
       "      <th>75%</th>\n",
       "      <th>max</th>\n",
       "    </tr>\n",
       "  </thead>\n",
       "  <tbody>\n",
       "    <tr>\n",
       "      <th>0</th>\n",
       "      <td>tweet_id</td>\n",
       "      <td>int64</td>\n",
       "      <td>7274</td>\n",
       "      <td>0</td>\n",
       "      <td>7274.0</td>\n",
       "      <td>4531.74</td>\n",
       "      <td>2617.86</td>\n",
       "      <td>2.0</td>\n",
       "      <td>2261.5</td>\n",
       "      <td>4530.5</td>\n",
       "      <td>6796.75</td>\n",
       "      <td>9092.0</td>\n",
       "    </tr>\n",
       "    <tr>\n",
       "      <th>1</th>\n",
       "      <td>tweet</td>\n",
       "      <td>object</td>\n",
       "      <td>7255</td>\n",
       "      <td>1</td>\n",
       "      <td>NaN</td>\n",
       "      <td>NaN</td>\n",
       "      <td>NaN</td>\n",
       "      <td>NaN</td>\n",
       "      <td>NaN</td>\n",
       "      <td>NaN</td>\n",
       "      <td>NaN</td>\n",
       "      <td>NaN</td>\n",
       "    </tr>\n",
       "    <tr>\n",
       "      <th>2</th>\n",
       "      <td>sentiment</td>\n",
       "      <td>int64</td>\n",
       "      <td>4</td>\n",
       "      <td>0</td>\n",
       "      <td>7274.0</td>\n",
       "      <td>1.30</td>\n",
       "      <td>0.61</td>\n",
       "      <td>0.0</td>\n",
       "      <td>1.0</td>\n",
       "      <td>1.0</td>\n",
       "      <td>2.00</td>\n",
       "      <td>3.0</td>\n",
       "    </tr>\n",
       "  </tbody>\n",
       "</table>\n",
       "</div>"
      ],
      "text/plain": [
       "     Columns Data_Types  Unique_Count  NAN_Count   count     mean      std  \\\n",
       "0   tweet_id      int64          7274          0  7274.0  4531.74  2617.86   \n",
       "1      tweet     object          7255          1     NaN      NaN      NaN   \n",
       "2  sentiment      int64             4          0  7274.0     1.30     0.61   \n",
       "\n",
       "   min     25%     50%      75%     max  \n",
       "0  2.0  2261.5  4530.5  6796.75  9092.0  \n",
       "1  NaN     NaN     NaN      NaN     NaN  \n",
       "2  0.0     1.0     1.0     2.00     3.0  "
      ]
     },
     "execution_count": 382,
     "metadata": {},
     "output_type": "execute_result"
    }
   ],
   "source": [
    "data_insights_report(train)"
   ]
  },
  {
   "cell_type": "markdown",
   "metadata": {},
   "source": [
    "## 3.1 Checking target variable is balanced or imbalanced:"
   ]
  },
  {
   "cell_type": "code",
   "execution_count": 383,
   "metadata": {},
   "outputs": [
    {
     "data": {
      "text/plain": [
       "<matplotlib.axes._subplots.AxesSubplot at 0x1a410254e0>"
      ]
     },
     "execution_count": 383,
     "metadata": {},
     "output_type": "execute_result"
    },
    {
     "data": {
      "image/png": "[encoded data removed]",
      "text/plain": [
       "<Figure size 432x288 with 1 Axes>"
      ]
     },
     "metadata": {
      "needs_background": "light"
     },
     "output_type": "display_data"
    }
   ],
   "source": [
    "sns.countplot(train.sentiment)"
   ]
  },
  {
   "cell_type": "code",
   "execution_count": 384,
   "metadata": {
    "scrolled": true
   },
   "outputs": [
    {
     "data": {
      "text/plain": [
       "1    59.27\n",
       "2    32.75\n",
       "0     6.27\n",
       "3     1.72\n",
       "Name: sentiment, dtype: float64"
      ]
     },
     "execution_count": 384,
     "metadata": {},
     "output_type": "execute_result"
    }
   ],
   "source": [
    "round(train.sentiment.value_counts(normalize=True)*100,2)"
   ]
  },
  {
   "cell_type": "markdown",
   "metadata": {},
   "source": [
    "## Inference :\n",
    "#Data is highly imbalanced as there is 60 % response is neutral(1) . \n",
    "#negative (0) & unknown (3) are significantly low values"
   ]
  },
  {
   "cell_type": "markdown",
   "metadata": {},
   "source": [
    "## 3.2 tweet counts v/s Sentiment :"
   ]
  },
  {
   "cell_type": "code",
   "execution_count": 385,
   "metadata": {},
   "outputs": [],
   "source": [
    "train2=train.copy()"
   ]
  },
  {
   "cell_type": "code",
   "execution_count": 386,
   "metadata": {},
   "outputs": [
    {
     "data": {
      "text/plain": [
       "5"
      ]
     },
     "execution_count": 386,
     "metadata": {},
     "output_type": "execute_result"
    }
   ],
   "source": [
    "len('tweet')"
   ]
  },
  {
   "cell_type": "code",
   "execution_count": 387,
   "metadata": {},
   "outputs": [],
   "source": [
    "tweet_per_sentiment=train2.groupby(['sentiment'])['tweet'].count()"
   ]
  },
  {
   "cell_type": "code",
   "execution_count": 388,
   "metadata": {},
   "outputs": [
    {
     "data": {
      "text/plain": [
       "sentiment\n",
       "0     456\n",
       "1    4310\n",
       "2    2382\n",
       "3     125\n",
       "Name: tweet, dtype: int64"
      ]
     },
     "execution_count": 388,
     "metadata": {},
     "output_type": "execute_result"
    }
   ],
   "source": [
    "tweet_per_sentiment"
   ]
  },
  {
   "cell_type": "code",
   "execution_count": 389,
   "metadata": {},
   "outputs": [
    {
     "data": {
      "text/plain": [
       "sentiment\n",
       "0     6.268903\n",
       "1    59.252131\n",
       "2    32.746769\n",
       "3     1.718449\n",
       "Name: tweet, dtype: float64"
      ]
     },
     "execution_count": 389,
     "metadata": {},
     "output_type": "execute_result"
    }
   ],
   "source": [
    "(tweet_per_sentiment/train2['tweet'].shape)*100"
   ]
  },
  {
   "cell_type": "code",
   "execution_count": 390,
   "metadata": {},
   "outputs": [
    {
     "data": {
      "text/plain": [
       "Text(0, 0.5, 'Number of tweets')"
      ]
     },
     "execution_count": 390,
     "metadata": {},
     "output_type": "execute_result"
    },
    {
     "data": {
      "image/png": "[encoded data removed]",
      "text/plain": [
       "<Figure size 842.4x667.44 with 1 Axes>"
      ]
     },
     "metadata": {
      "needs_background": "light"
     },
     "output_type": "display_data"
    }
   ],
   "source": [
    "f, ax = plt.subplots(figsize=(11.7, 9.27))\n",
    "tweet_per_sentiment.plot.bar()\n",
    "plt.xlabel(\"Sentiments\")\n",
    "plt.ylabel(\"Number of tweets\")\n"
   ]
  },
  {
   "cell_type": "markdown",
   "metadata": {},
   "source": [
    "### Inference :\n",
    "#There are 4310 tweets out of 7255 are only associated with Neutral(1) response\n",
    "#There are 456 & 125 are associated with negative (0) & unknown(3)\n",
    "#There are 2382 tweets associated with Positive(2)"
   ]
  },
  {
   "cell_type": "markdown",
   "metadata": {},
   "source": [
    "## 3.3 Checking Null values:"
   ]
  },
  {
   "cell_type": "code",
   "execution_count": 391,
   "metadata": {},
   "outputs": [
    {
     "data": {
      "text/plain": [
       "tweet    1\n",
       "dtype: int64"
      ]
     },
     "execution_count": 391,
     "metadata": {},
     "output_type": "execute_result"
    }
   ],
   "source": [
    "null_columns=train2.columns[train2.isnull().any()]\n",
    "train2[null_columns].isnull().sum()"
   ]
  },
  {
   "cell_type": "code",
   "execution_count": 392,
   "metadata": {},
   "outputs": [
    {
     "name": "stdout",
     "output_type": "stream",
     "text": [
      "     tweet\n",
      "1274   NaN\n"
     ]
    }
   ],
   "source": [
    "#to check single null column:\n",
    "print(train2[train2[\"tweet\"].isnull()][null_columns])"
   ]
  },
  {
   "cell_type": "code",
   "execution_count": 393,
   "metadata": {},
   "outputs": [
    {
     "name": "stdout",
     "output_type": "stream",
     "text": [
      "     tweet\n",
      "1274   NaN\n"
     ]
    }
   ],
   "source": [
    "#if you want to check all null columns :\n",
    "print(train2[train2.isnull().any(axis=1)][null_columns].head())"
   ]
  },
  {
   "cell_type": "code",
   "execution_count": 394,
   "metadata": {
    "scrolled": true
   },
   "outputs": [
    {
     "data": {
      "text/html": [
       "<div>\n",
       "<style scoped>\n",
       "    .dataframe tbody tr th:only-of-type {\n",
       "        vertical-align: middle;\n",
       "    }\n",
       "\n",
       "    .dataframe tbody tr th {\n",
       "        vertical-align: top;\n",
       "    }\n",
       "\n",
       "    .dataframe thead th {\n",
       "        text-align: right;\n",
       "    }\n",
       "</style>\n",
       "<table border=\"1\" class=\"dataframe\">\n",
       "  <thead>\n",
       "    <tr style=\"text-align: right;\">\n",
       "      <th></th>\n",
       "      <th>tweet_id</th>\n",
       "      <th>tweet</th>\n",
       "      <th>sentiment</th>\n",
       "    </tr>\n",
       "  </thead>\n",
       "  <tbody>\n",
       "    <tr>\n",
       "      <th>1274</th>\n",
       "      <td>6</td>\n",
       "      <td>NaN</td>\n",
       "      <td>1</td>\n",
       "    </tr>\n",
       "  </tbody>\n",
       "</table>\n",
       "</div>"
      ],
      "text/plain": [
       "      tweet_id tweet  sentiment\n",
       "1274         6   NaN          1"
      ]
     },
     "execution_count": 394,
     "metadata": {},
     "output_type": "execute_result"
    }
   ],
   "source": [
    "train2[train2['tweet_id']==6]"
   ]
  },
  {
   "cell_type": "markdown",
   "metadata": {},
   "source": [
    "### Inference :\n",
    "There is only one null tweet in full dataset with tweet id :6 and it has sentiment neutral(1)"
   ]
  },
  {
   "cell_type": "markdown",
   "metadata": {},
   "source": [
    "## 3.4 : Checking Duplicate tweets : (not in lower case)"
   ]
  },
  {
   "cell_type": "code",
   "execution_count": 395,
   "metadata": {},
   "outputs": [],
   "source": [
    "dup_tweets=train2[train2['tweet'].duplicated()]"
   ]
  },
  {
   "cell_type": "code",
   "execution_count": 396,
   "metadata": {
    "scrolled": true
   },
   "outputs": [
    {
     "data": {
      "text/html": [
       "<div>\n",
       "<style scoped>\n",
       "    .dataframe tbody tr th:only-of-type {\n",
       "        vertical-align: middle;\n",
       "    }\n",
       "\n",
       "    .dataframe tbody tr th {\n",
       "        vertical-align: top;\n",
       "    }\n",
       "\n",
       "    .dataframe thead th {\n",
       "        text-align: right;\n",
       "    }\n",
       "</style>\n",
       "<table border=\"1\" class=\"dataframe\">\n",
       "  <thead>\n",
       "    <tr style=\"text-align: right;\">\n",
       "      <th></th>\n",
       "      <th>tweet_id</th>\n",
       "      <th>tweet</th>\n",
       "      <th>sentiment</th>\n",
       "    </tr>\n",
       "  </thead>\n",
       "  <tbody>\n",
       "    <tr>\n",
       "      <th>1473</th>\n",
       "      <td>6300</td>\n",
       "      <td>RT @mention Marissa Mayer: Google Will Connect...</td>\n",
       "      <td>1</td>\n",
       "    </tr>\n",
       "    <tr>\n",
       "      <th>1832</th>\n",
       "      <td>6298</td>\n",
       "      <td>RT @mention Marissa Mayer: Google Will Connect...</td>\n",
       "      <td>2</td>\n",
       "    </tr>\n",
       "    <tr>\n",
       "      <th>2039</th>\n",
       "      <td>5880</td>\n",
       "      <td>RT @mention Google to Launch Major New Social ...</td>\n",
       "      <td>1</td>\n",
       "    </tr>\n",
       "    <tr>\n",
       "      <th>2165</th>\n",
       "      <td>3813</td>\n",
       "      <td>Win free ipad 2 from webdoc.com #sxsw RT</td>\n",
       "      <td>2</td>\n",
       "    </tr>\n",
       "    <tr>\n",
       "      <th>2823</th>\n",
       "      <td>6293</td>\n",
       "      <td>RT @mention Marissa Mayer: Google Will Connect...</td>\n",
       "      <td>2</td>\n",
       "    </tr>\n",
       "    <tr>\n",
       "      <th>2855</th>\n",
       "      <td>6294</td>\n",
       "      <td>RT @mention Marissa Mayer: Google Will Connect...</td>\n",
       "      <td>1</td>\n",
       "    </tr>\n",
       "    <tr>\n",
       "      <th>3194</th>\n",
       "      <td>5881</td>\n",
       "      <td>RT @mention Google to Launch Major New Social ...</td>\n",
       "      <td>1</td>\n",
       "    </tr>\n",
       "    <tr>\n",
       "      <th>3267</th>\n",
       "      <td>3814</td>\n",
       "      <td>Win free iPad 2 from webdoc.com #sxsw RT</td>\n",
       "      <td>2</td>\n",
       "    </tr>\n",
       "    <tr>\n",
       "      <th>3867</th>\n",
       "      <td>6296</td>\n",
       "      <td>RT @mention Marissa Mayer: Google Will Connect...</td>\n",
       "      <td>2</td>\n",
       "    </tr>\n",
       "    <tr>\n",
       "      <th>4180</th>\n",
       "      <td>5341</td>\n",
       "      <td>RT @mention ÷¼ Happy Woman's Day! Make love, ...</td>\n",
       "      <td>1</td>\n",
       "    </tr>\n",
       "    <tr>\n",
       "      <th>4237</th>\n",
       "      <td>6299</td>\n",
       "      <td>RT @mention Marissa Mayer: Google Will Connect...</td>\n",
       "      <td>1</td>\n",
       "    </tr>\n",
       "    <tr>\n",
       "      <th>4334</th>\n",
       "      <td>468</td>\n",
       "      <td>Before It Even Begins, Apple Wins #SXSW {link}</td>\n",
       "      <td>2</td>\n",
       "    </tr>\n",
       "    <tr>\n",
       "      <th>4346</th>\n",
       "      <td>6297</td>\n",
       "      <td>RT @mention Marissa Mayer: Google Will Connect...</td>\n",
       "      <td>1</td>\n",
       "    </tr>\n",
       "    <tr>\n",
       "      <th>4616</th>\n",
       "      <td>5879</td>\n",
       "      <td>RT @mention Google to Launch Major New Social ...</td>\n",
       "      <td>1</td>\n",
       "    </tr>\n",
       "    <tr>\n",
       "      <th>5130</th>\n",
       "      <td>2232</td>\n",
       "      <td>Marissa Mayer: Google Will Connect the Digital...</td>\n",
       "      <td>1</td>\n",
       "    </tr>\n",
       "    <tr>\n",
       "      <th>5490</th>\n",
       "      <td>20</td>\n",
       "      <td>Need to buy an iPad2 while I'm in Austin at #s...</td>\n",
       "      <td>2</td>\n",
       "    </tr>\n",
       "    <tr>\n",
       "      <th>5821</th>\n",
       "      <td>17</td>\n",
       "      <td>I just noticed DST is coming this weekend. How...</td>\n",
       "      <td>0</td>\n",
       "    </tr>\n",
       "    <tr>\n",
       "      <th>6955</th>\n",
       "      <td>5338</td>\n",
       "      <td>RT @mention ÷¼ GO BEYOND BORDERS! ÷_ {link} ...</td>\n",
       "      <td>1</td>\n",
       "    </tr>\n",
       "  </tbody>\n",
       "</table>\n",
       "</div>"
      ],
      "text/plain": [
       "      tweet_id                                              tweet  sentiment\n",
       "1473      6300  RT @mention Marissa Mayer: Google Will Connect...          1\n",
       "1832      6298  RT @mention Marissa Mayer: Google Will Connect...          2\n",
       "2039      5880  RT @mention Google to Launch Major New Social ...          1\n",
       "2165      3813           Win free ipad 2 from webdoc.com #sxsw RT          2\n",
       "2823      6293  RT @mention Marissa Mayer: Google Will Connect...          2\n",
       "2855      6294  RT @mention Marissa Mayer: Google Will Connect...          1\n",
       "3194      5881  RT @mention Google to Launch Major New Social ...          1\n",
       "3267      3814           Win free iPad 2 from webdoc.com #sxsw RT          2\n",
       "3867      6296  RT @mention Marissa Mayer: Google Will Connect...          2\n",
       "4180      5341  RT @mention ÷¼ Happy Woman's Day! Make love, ...          1\n",
       "4237      6299  RT @mention Marissa Mayer: Google Will Connect...          1\n",
       "4334       468     Before It Even Begins, Apple Wins #SXSW {link}          2\n",
       "4346      6297  RT @mention Marissa Mayer: Google Will Connect...          1\n",
       "4616      5879  RT @mention Google to Launch Major New Social ...          1\n",
       "5130      2232  Marissa Mayer: Google Will Connect the Digital...          1\n",
       "5490        20  Need to buy an iPad2 while I'm in Austin at #s...          2\n",
       "5821        17  I just noticed DST is coming this weekend. How...          0\n",
       "6955      5338  RT @mention ÷¼ GO BEYOND BORDERS! ÷_ {link} ...          1"
      ]
     },
     "execution_count": 396,
     "metadata": {},
     "output_type": "execute_result"
    }
   ],
   "source": [
    "dup_tweets"
   ]
  },
  {
   "cell_type": "code",
   "execution_count": 397,
   "metadata": {},
   "outputs": [
    {
     "data": {
      "text/plain": [
       "18"
      ]
     },
     "execution_count": 397,
     "metadata": {},
     "output_type": "execute_result"
    }
   ],
   "source": [
    "len(dup_tweets)"
   ]
  },
  {
   "cell_type": "code",
   "execution_count": 398,
   "metadata": {},
   "outputs": [
    {
     "data": {
      "text/plain": [
       "12"
      ]
     },
     "execution_count": 398,
     "metadata": {},
     "output_type": "execute_result"
    }
   ],
   "source": [
    "dup_tweets.tweet.nunique()"
   ]
  },
  {
   "cell_type": "markdown",
   "metadata": {},
   "source": [
    "### Inference :\n",
    "#There are some duplicate records which have different sentiment scores \n",
    "#so we need to take care of theses records it may create wrong results"
   ]
  },
  {
   "cell_type": "markdown",
   "metadata": {},
   "source": [
    "![title](Desktop/img.png)"
   ]
  },
  {
   "cell_type": "markdown",
   "metadata": {},
   "source": [
    "## 3.5 : Create A word Cloud for each sentiment :"
   ]
  },
  {
   "cell_type": "code",
   "execution_count": 399,
   "metadata": {},
   "outputs": [
    {
     "data": {
      "image/png": "[encoded data removed]",
      "text/plain": [
       "<Figure size 720x720 with 1 Axes>"
      ]
     },
     "metadata": {
      "needs_background": "light"
     },
     "output_type": "display_data"
    },
    {
     "data": {
      "image/png": "[encoded data removed]",
      "text/plain": [
       "<Figure size 720x720 with 1 Axes>"
      ]
     },
     "metadata": {
      "needs_background": "light"
     },
     "output_type": "display_data"
    },
    {
     "data": {
      "image/png": "[encoded data removed]",
      "text/plain": [
       "<Figure size 720x720 with 1 Axes>"
      ]
     },
     "metadata": {
      "needs_background": "light"
     },
     "output_type": "display_data"
    },
    {
     "data": {
      "image/png": "[encoded data removed]",
      "text/plain": [
       "<Figure size 720x720 with 1 Axes>"
      ]
     },
     "metadata": {
      "needs_background": "light"
     },
     "output_type": "display_data"
    }
   ],
   "source": [
    "sentiments = [0, 1, 2, 3]\n",
    "cloud = WordCloud(background_color=\"white\", max_words=20, stopwords=stopwords.words('english'))\n",
    "def draw_word_clouds(dataframe):\n",
    "    for i in sentiments:\n",
    "        category = cloud.generate(dataframe.loc[dataframe['sentiment'] == i, 'tweet'].str.cat(sep='\\n'))\n",
    "        plt.figure(figsize=(10,10))\n",
    "        plt.imshow(category)\n",
    "        plt.axis(\"off\")\n",
    "        plt.title(i)\n",
    "        plt.show()\n",
    "draw_word_clouds(train2)"
   ]
  },
  {
   "cell_type": "markdown",
   "metadata": {},
   "source": [
    "### Inference :\n",
    "Some words are common in all like : sxsw,mention,ipad,iphone,google (most common words)"
   ]
  },
  {
   "cell_type": "markdown",
   "metadata": {},
   "source": [
    "# Step 4 : Basic Feature Extraction :"
   ]
  },
  {
   "cell_type": "markdown",
   "metadata": {},
   "source": [
    "### Basic feature extraction using text data:\n",
    "#Number of uppercase words\n",
    "#Number of words\n",
    "#Number of characters\n",
    "#Average word length\n",
    "#Number of stopwords\n",
    "#Number of special characters : # , @mention ,RT\n",
    "#Number of numerics\n",
    "#Number of nouns\n",
    "#number of verbs\n",
    "#number of adjectives\n"
   ]
  },
  {
   "cell_type": "markdown",
   "metadata": {},
   "source": [
    "## 4.1 Number of words in uppercase in tweets. & their impact on sentiment :"
   ]
  },
  {
   "cell_type": "code",
   "execution_count": 400,
   "metadata": {},
   "outputs": [
    {
     "data": {
      "text/html": [
       "<div>\n",
       "<style scoped>\n",
       "    .dataframe tbody tr th:only-of-type {\n",
       "        vertical-align: middle;\n",
       "    }\n",
       "\n",
       "    .dataframe tbody tr th {\n",
       "        vertical-align: top;\n",
       "    }\n",
       "\n",
       "    .dataframe thead th {\n",
       "        text-align: right;\n",
       "    }\n",
       "</style>\n",
       "<table border=\"1\" class=\"dataframe\">\n",
       "  <thead>\n",
       "    <tr style=\"text-align: right;\">\n",
       "      <th></th>\n",
       "      <th>tweet</th>\n",
       "      <th>upper</th>\n",
       "    </tr>\n",
       "  </thead>\n",
       "  <tbody>\n",
       "    <tr>\n",
       "      <th>0</th>\n",
       "      <td>#sxswnui #sxsw #apple defining language of tou...</td>\n",
       "      <td>0</td>\n",
       "    </tr>\n",
       "    <tr>\n",
       "      <th>1</th>\n",
       "      <td>Learning ab Google doodles! All doodles should...</td>\n",
       "      <td>0</td>\n",
       "    </tr>\n",
       "    <tr>\n",
       "      <th>2</th>\n",
       "      <td>one of the most in-your-face ex. of stealing t...</td>\n",
       "      <td>2</td>\n",
       "    </tr>\n",
       "    <tr>\n",
       "      <th>3</th>\n",
       "      <td>This iPhone #SXSW app would b pretty awesome i...</td>\n",
       "      <td>1</td>\n",
       "    </tr>\n",
       "    <tr>\n",
       "      <th>4</th>\n",
       "      <td>Line outside the Apple store in Austin waiting...</td>\n",
       "      <td>1</td>\n",
       "    </tr>\n",
       "  </tbody>\n",
       "</table>\n",
       "</div>"
      ],
      "text/plain": [
       "                                               tweet  upper\n",
       "0  #sxswnui #sxsw #apple defining language of tou...      0\n",
       "1  Learning ab Google doodles! All doodles should...      0\n",
       "2  one of the most in-your-face ex. of stealing t...      2\n",
       "3  This iPhone #SXSW app would b pretty awesome i...      1\n",
       "4  Line outside the Apple store in Austin waiting...      1"
      ]
     },
     "execution_count": 400,
     "metadata": {},
     "output_type": "execute_result"
    }
   ],
   "source": [
    "train2['upper'] = train2['tweet'].apply(lambda x: len([str(x) for x in str(x).split() if str(x).isupper()]))\n",
    "train2[['tweet','upper']].head()"
   ]
  },
  {
   "cell_type": "markdown",
   "metadata": {},
   "source": [
    "### Impact of uppercase words on Sentiment :"
   ]
  },
  {
   "cell_type": "code",
   "execution_count": 401,
   "metadata": {
    "scrolled": true
   },
   "outputs": [
    {
     "name": "stdout",
     "output_type": "stream",
     "text": [
      "sentiment\n",
      "0    1.1\n",
      "1    1.2\n",
      "2    1.2\n",
      "3    1.2\n",
      "Name: upper, dtype: float64\n"
     ]
    }
   ],
   "source": [
    "upper_sentiment=round((train2['upper'].groupby(train2['sentiment']).mean()),1)\n",
    "print(upper_sentiment)"
   ]
  },
  {
   "cell_type": "code",
   "execution_count": 402,
   "metadata": {},
   "outputs": [
    {
     "data": {
      "text/plain": [
       "Text(0, 0.5, 'Average uppercase word count')"
      ]
     },
     "execution_count": 402,
     "metadata": {},
     "output_type": "execute_result"
    },
    {
     "data": {
      "image/png": "[encoded data removed]",
      "text/plain": [
       "<Figure size 842.4x667.44 with 1 Axes>"
      ]
     },
     "metadata": {
      "needs_background": "light"
     },
     "output_type": "display_data"
    }
   ],
   "source": [
    "f, ax = plt.subplots(figsize=(11.7, 9.27))\n",
    "upper_sentiment.plot.bar()\n",
    "plt.xlabel(\"sentiment\")\n",
    "plt.ylabel(\"Average uppercase word count\")"
   ]
  },
  {
   "cell_type": "markdown",
   "metadata": {},
   "source": [
    "### Inference :\n",
    "almost same number of Uppercase words has been used in all tweets according to respective sentiments"
   ]
  },
  {
   "cell_type": "markdown",
   "metadata": {},
   "source": [
    "## Extraction Of Emoji/emoticons from tweet :"
   ]
  },
  {
   "cell_type": "code",
   "execution_count": 403,
   "metadata": {},
   "outputs": [],
   "source": [
    "#HappyEmoticons\n",
    "emoticons_happy = set([\n",
    "    ':-)', ':)', ';)',';-)', ':o)', ':]', ':3', ':c)', ':>', '=]', '8)', '=)', ':}',\n",
    "    ':^)', ':-D', ':D', '8-D', '8D', 'x-D', 'xD', 'X-D', 'XD', '=-D', '=D',\n",
    "    '=-3', '=3', ':-))', \":'-)\", \":')\", ':*', ':^*', '>:P', ':-P', ':P', 'X-P',\n",
    "    'x-p', 'xp', 'XP', ':-p', ':p', '=p', ':-b', ':b', '>:)', '>;)', '>:-)',\n",
    "    '<3'\n",
    "    ])"
   ]
  },
  {
   "cell_type": "code",
   "execution_count": 404,
   "metadata": {},
   "outputs": [],
   "source": [
    "# Sad Emoticons\n",
    "emoticons_sad = set([\n",
    "    ':L', ':-/', '>:/', ':S', '>:[', ':@', ':-(', ':[', ':-||', '=L', ':<',\n",
    "    ':-[', ':-<', '=\\\\', '=/', '>:(', ':(', '>.<', \":'-(\", \":'(\", ':\\\\', ':-c',\n",
    "    ':c', ':{', '>:\\\\', ';('\n",
    "    ])"
   ]
  },
  {
   "cell_type": "code",
   "execution_count": 405,
   "metadata": {},
   "outputs": [],
   "source": [
    "#combine sad and happy emoticons\n",
    "emoticons = emoticons_happy.union(emoticons_sad)"
   ]
  },
  {
   "cell_type": "code",
   "execution_count": 406,
   "metadata": {},
   "outputs": [],
   "source": [
    "import emoji\n",
    "import re\n",
    "import string\n",
    "\n",
    "def extract_emoji(text):\n",
    "\n",
    "    emoji_list = []\n",
    "    text=text.replace(\".\",\"\")\n",
    "    word_split = text.split(\" \")\n",
    "    for w in word_split:\n",
    "        if w  in emoticons and w not in string.punctuation:\n",
    "            emoji_list.append(w)\n",
    "            print(emoji_list,text)\n",
    "            return ' '.join(emoji_list)"
   ]
  },
  {
   "cell_type": "code",
   "execution_count": 407,
   "metadata": {},
   "outputs": [
    {
     "name": "stdout",
     "output_type": "stream",
     "text": [
      "[':)'] RT @mention Any iPAD2's left at the Apple store at #SXSW? Anyone know? :)\n",
      "[':)'] Awwww yeah!!! RT @mention Congrats to @mention on winning the last @mention #iPad case for her boyfriend aw :) #SXSW #cbatsxsw\n",
      "[';-)'] Photo: By far, the best #sxsw accessory is an ipad Followed closely by a margarita ;-) {link}\n",
      "[':)'] @mention Hey Mark, no sleep for you at #sxsw! Bring me home a shiny new iPad, would ya? :) @mention\n",
      "[':('] I won an iPad at #SXSW! Nah I'm lying, I bought this shit myself :( {link}\n",
      "[':)'] Getting hip to new Android apps in preparation for #Hangover3, also known as #SXSW @mention @mention and @mention apps rock my socks :)\n",
      "[':P'] RT @mention Microsoft to launch IE9 at #SXSW: {link} Here you go @mention Maybe you can get MS to install on the  ipad :P\n",
      "[';)'] Props to GSDM and the big G (google) at #SXSW Great crowd and agency space but Bluezoom can give them a run ;) {link}\n",
      "[':)'] @mention yay :) thank you! what do you do? #pushio #sxsw #ipad\n",
      "[':('] shoot, my ipad will not display any search results :( will have to go through questions later #osmpw #sxsw\n",
      "[':)'] @mention - re: &quot;lack of #SXSW newsworthy announcements&quot; Unless you count Google Circles :) #googlecircles\n",
      "[';)'] OK #Sxsw tweeps on my flight, no one freak out I'm going to be reading a book A real one No iPad, no kindle - just paper ;) #analog\n",
      "[':)'] RT @mention Apple autocorrect is so weird Ogilvy autocorrects to idiocy #ogilvynotes #sxsw :)\n",
      "[':-('] #SXSW crowd in Austin swarms for iPad 2 launch {link} via @mention - sadly I wasn't one of them :-(\n",
      "[':-)'] Remaining iPad 2 stock at #sxsw Apple store Come get one :-)  {link}\n",
      "[':('] @mention I would have been a #SXSW ambassador since I'm going to be everywhere but you only have iphone &amp; Android listed for mobile :(\n",
      "[';-)'] #sxsw tip of the day (again ;-) turn your iphone screen brightness down way down #conservebatterylife #peace @mention\n",
      "[':)'] Sweet :) RT @mention Bday pressie for myself: iPhone 4 @mention got a matching one Now we can fit in with hipsters #sxsw this wkd ;)\n",
      "[':-)'] iPad 2 - is now available for online ordering Go get urs :-) #Sxsw\n",
      "[':('] Will I be the only one at #sxsw with a blackberry, a dell &amp; no iPad? Feeling like a dork @mention a geek conference Does that make sense? :(\n",
      "[':)'] iPad2? RT @mention Droid &amp; Mac here :) RT @mention My #agnerd confession, using laptop, iPad &amp; blackberry to follow #SXSW\n",
      "[':)'] @mention good thing there's a mobile apple store at #sxsw :)\n",
      "[':)'] Not going to #SXSW ? Doesnt matter, its not the only place giving away #Apple products :) {link}\n",
      "[';)'] Soooo do you think Apple will have a mobile store for iPad sales at #SXSW on Friday?!?! @mention @mention @mention @mention ;)\n",
      "[':)'] #sxsw @mention #devops: @mention (umm Meant, go Google &quot;why complex systems fail&quot;, written by doctor reads like IT guy :)\n",
      "[':)'] RE: temp Apple store--great move, they really need help with brand recognition :) In all seriousness, pretty cool #SXSW\n",
      "[':)'] We have a winner? :) RT: @mention This is awesome How I got an iPad 2 during #SXSW! {link} via @mention @mention\n",
      "[':)'] Very happy that Discovr has been named as one of the top ten must-have apps for iPad 2 :) I just have to fight my way thru the queue! #sxsw\n",
      "[':)'] Just got one! RT @mention Waiting in line at an Apple Store? Check in and you just might find a new item :) #SXSW {link}\n",
      "[':-)'] me too :-) RT @mention Look everyone! Zomg @mention got an iPad 2 on the first day! #sxsw {link}\n",
      "[':)'] RT @mention RT @mention :) RT @mention &quot;Google before you tweet&quot; is the new &quot;think before you speak&quot; - Mark Belinsky, #911tweets panel at #SXSW\n",
      "[':)'] #SXSW Tip#2 Use your smartphone's Google Maps App when you land in Austin to find the next $1 bus downtown :) {link}\n",
      "[':)'] Can I tweet this if I only use APPLE :) RT @mention Microsoft's DPE will b SXSWi &amp; Tweeting @mention #microsoft &amp; #sxsw\n",
      "[':)'] @mention i know this is a premature tweet, but i'd love to see pics of the apple pop up store at #sxsw :)\n",
      "[';)'] @mention Doh! I can share a pic of the update on my iPad since I'm not at #SXSW - if you'll mail me a shirt ;)\n",
      "[':-('] #SXSW crowd in Austin swarms for iPad 2 launch {link} via @mention - sadly I wasn't one of them :-( (via @mention\n",
      "[':('] SHITE APP :( RT @mention New #UberSocial for #iPhone now in the App Store includes UberGuide to #SXSW sponsoÛ_ (cont) {link}\n",
      "[';)'] I just loaded up the GroupMe app for the iPhone Load me up #sxsw brethren ;) {link}\n",
      "[':)'] It's also on Android :) RT @mention Foodspotting's hit iPhone app finds the foods you crave {link}  #cnnmoneysxsw #sxsw\n",
      "[':D'] Congrats to Kenny, who now enjoys a spanking new @mention case for his iPad!  Look how happy he is!  :D #SXSW #CBatSXSW {link}\n",
      "[':)'] :) RT @mention Quantter is launching an iPhone app soon We're participating to LaunchRock comp at #sxsw {link}\n",
      "[':('] Grrrr @mention not muting #sxsw as thought on web or iphone :(\n",
      "[':)'] Google's #SxSW party theme is &quot;Party like it's 1986&quot; :) (@mention Maggie Mae's) [pic]: {link}\n",
      "[':-('] Summary of my Twitter stream right now: Japan OMG! / #Android / #SXSW / Engadget :-( / effing Republicans! / iPad2 / alcohol\n",
      "[';-)'] Someone's buying herself a present ;-) RT @mention Apple Is Opening A Pop-Up Store In Austin For #SXSW {link}\n",
      "[':-)'] Why should/shouldn't I get an iPad 2? Discuss :-) #SXSW\n",
      "[':)'] :) RT @mention Love it @mention at #sxsw: &quot;apple comes up w/ cool technology no one's ever heard of because they don't go to conferences&quot;\n",
      "[';)'] so for people back home - seems that #sxsw is putting together a pop-up apple store for people to get the ipad2 today ;)\n",
      "[':)'] Hmmmm more oppty to get an iPad 2 while at #SXSW? {link}  - stop tempting me!!!  :)\n",
      "[':)'] RT @mention :) RT @mention Love it @mention at #sxsw: &quot;apple comes up w/ cool technology no one's ever heard of because they don't go to conferences&quot;\n",
      "[':)'] Nice, im heading to barton creek to get a mackbook pro :) RT @mention Waiting outside the #SXSW Apple store for my #iPad2\r\n",
      "#woohoo\n",
      "[':)'] If you're in Austin today, please join @mention @mention and myself talking iPad 2 and #SxSW  here: {link} :)\n",
      "[':)'] There are lots of other Google efforts helping Japan! and many other global issues :)  RT @mention RT @mention wtf is up w/people at #sxsw\n",
      "[':)'] The line to buy an iPad 2 stretches 2 blocks Not getting one today :) #SXSW\n",
      "[':-)'] @mention So did u make it to the Google party at #SXSW  :-)\n",
      "[':)'] RT @mention Here is a list of all the music performers at #SXSW {link}   I used jQuery to screen-scrape it :)\n",
      "[':)'] RT @mention :) RT @mention Quantter is launching an iPhone app soon We're participating to LaunchRock comp at #sxsw {link}\n",
      "[':)'] RT @mention only 9? #SXSW right-brain #mwrc11 left-brain?? :) RT @mention @mention at #SXSW 9 out of 10 attendees have Mac or iPad\n",
      "[';)'] @mention #Apple is setting up a special temp store just for us at #sxsw in Downtown #Austin ;) #ipad2 {link}\n",
      "[':P'] The line was too long the other day but I'm just curious anyway :P #sxsw (@mention Apple Store, SXSW w/ 4 others) {link}\n",
      "[':)'] I am desperate to charge my iPad as I lost my charger, does anyone know where I can connect to a charger? #SXSW thanks :)\n",
      "[':)'] Here is a list of all the music performers at #SXSW {link}   I used jQuery to screen-scrape it :)\n",
      "[':)'] Here it is! My #sxsw itinerary All of these events are free and don't require band/badge {link} Enjoy the fest :)\n",
      "[':)'] Anyone here at #SXSW know where the &quot;PopUp&quot; Apple Store will be in Downtown Austin? :) #Apple #ipad2 #purchase :)\n",
      "[';)'] No beach parties But Apple, Apps and Analytics! #GeekSpringBreak #SXSW Style ;) ÛÏ@mention Time to start packing&quot;\n",
      "[':)'] @mention gets a tattoo for a free ipad 2 {link} I heard for a mini cooper he would let go a kidney :) #sxsw\n",
      "[':)'] Launching our iPhone app soon and we're participating to the LaunchRock comp at #SXSW {link} get your invite now! :)\n",
      "[':-/'] When I look at crowd at #SXSW everyone has head down looking at iPad or phone Only place where socially awkward is &quot;cool&quot; :-/\n",
      "[':)'] @mention Doing better now Boys in bed &amp; I am downloading some realty tv to iPad for trip to #sxsw on Thurs Thanks! :)\n",
      "[':D'] Our #sxsw app is now on #android :D huge props to @mention @mention @mention &amp; @mention Get it now: {link}\n",
      "[':)'] Big thanks to @mention for fast tracking a #SXSW app From idea, to design, code, test, submit &amp; release in 3 days :)\n",
      "[':-)'] I went to #sxswi and all I won was this lousy #iPad #sxsw :-) :-) {link}\n",
      "[':)'] U = smart 4 packing an extra :) RT @mention On my way to sunny Austin for #sxsw! Extra iPhone in stow, just in case @mention @mention\n",
      "[':-)'] Apple Really? You need brand recognition? I prefer the Red Delicious Variety! :-) {link} #sxsw #popupstores\n",
      "[':)'] Temporary Apple store at SXSW is really coolas is the iPad 2 :) #apple #SXSW #fanboy\n",
      "[':)'] RT @mention Very happy that Discovr has been named as one of the top ten must-have apps for iPad 2 :) I just have to fight my way thru the queue! #sxsw\n",
      "[';-)'] Cool! And yes, Happy B-day @mention ;-) RT @mention New post: Business cards are dead #SXSW {link}\n",
      "[':D'] Waiting for @mention and a #trollfoot appearance at the #SXSW Apple store C'mon! :D\n",
      "[':)'] Droid &amp; Mac here :) RT @mention My #agnerd confession, using laptop, iPad &amp; blackberry to follow #SXSW from afar to see #agchat rock\n",
      "[':-)'] #apple pop-up store in #austin for #sxsw and #ipad2 launch! @mention thought you'd appreciate :-) {link} {link}\n",
      "[';)'] I'm sorry, NOT going to the @mention party at #SxSw ;) iPhone forever!  ;)\n",
      "[';-)'] Google Brain spent weekend answering search queries for #SXSW attendees Don't worry What you search for on Google, stays with Google  ;-)\n",
      "[':('] this is not how I want 2 B spending my  time during #sxsw :( (@mention Apple Store w/ 2 others) {link}\n",
      "[':p'] ZOMG its iPad 2 :p RT @mention Look everyone! Zomg @mention got an iPad 2 on the first day! #sxsw {link}\n",
      "[';)'] On the way to #sxsw, see you all tonight! hopefully with a new ipad ;) (@mention San Francisco International Airport (SFO)) {link}\n",
      "[':)'] Just ran into @mention and apparently @mention didn't tell him there's a Bizzy android app :) remedied #sxsw cc: @mention\n",
      "[':-)'] RT @mention New #SXSW rule: no more ooing and ahing over your new iPad We get it Its not a big deal Everybody has one now :-)\n",
      "[':)'] @mention If I don't plan now, I'll just end up somewhere random :) You coming to the Google session 3:30? #sxsw\n",
      "[':)'] @mention id love to know how many non-iPhone users are at #SXSW really i mean cmon :)\n",
      "[':)'] Thank you! :) RT @mention Just picked up @mention book: Killer Photoes with your IPhone! #SXSW #sxswchi  {link} #SXSWi\n",
      "[':-)'] My #AT&amp;T iPhone user friends keep borrowing my #Verizon iPhone to chk their #sxsw schedulestheir networks are ridiculously slow! :-)\n",
      "[':D'] Which line at #SXSW will be longer? 3/11 at the temp Apple store for the iPad2? Or 3/14 at the Microsoft booth for IE9? [Yeah, right!] :D\n",
      "[':('] No, I didn't get an iPad 2 :( No, I'm not at #sxsw :( Yes, I am depressed :(\n",
      "[':-('] Google to launch social network Google Circles  at some point - but not at SXSW today  :-(   {link}   #sxsw\n",
      "[':('] #sxsw what's up with the sxsw go app? #android faulty :(\n",
      "[';)'] @mention #sxsw is going to be alot better when u have iPad 5 to carry around ;)\n",
      "[':-)'] New #SXSW rule: no more ooing and ahing over your new iPad We get it Its not a big deal Everybody has one now :-)\n",
      "['=)'] Installing @mention on my android so I can get the VIP pedicab treatment at #sxsw =)\n",
      "[':-('] RT @mention Google to launch social network Google Circles  at some point - but not at SXSW today  :-(   {link}   #sxsw\n",
      "[':)'] After a week of #sxsw I have total iPad envy  :)   #fb\n",
      "[';)'] amusing long lines at the temp apple store, the starbu cks acrosse the street is where most people seem to unpack theirs ;) #sxsw\n",
      "[':)'] @mention yeah, we have @mention , Google has nothing on us :) #SXSW\n",
      "[':)'] Checked the #SXSW Apple store line on the way here Man, that line is long :) #toolongforme\n",
      "[':)'] RT @mention Wooooo! Did I mention that we just released Discovr for IPHONE :)  It's out now, just in time for #sxsw New features! {link}\n",
      "[':)'] Thanks girl! RT @mention Congrats to @mention on winning the last @mention #iPad case for her boyfriend aw :) #SXSW #cbatsxsw\n",
      "[':D'] @mention Hi Josh Do yo have an iPhone Do you have Beluga? Do you get text for DMs? :D #sxsw #sxswi contact plans\n",
      "[':-)'] RT @mention Get it while it's hot! The latest version of Whrrl is available today for Android, iPhone - and Blackberry! WHRRL FOR BLACKBERRY! :-) #SXSW\n",
      "[':-)'] RT @mention Hey #vufinders, awesome new update for @mention #iphone app {link} 3X speedup for object tagging (outside #sxsw conf hours :-)\n",
      "[':-/'] I won't lie - I've had a chance to watch people actually using the iPad at #sxsw and it makes me want one :-/\n",
      "[':-)'] Hey #vufinders, awesome new update for @mention #iphone app {link} 3X speedup for object tagging (outside #sxsw conf hours :-)\n",
      "[':)'] RT @mention Hmmonly 9? #SXSW right-brain #mwrc11 left-brain?? :) RT @mention @mention at #SXSW 9 out of 10 attendees have Mac or iPad\n",
      "[':)'] ÛÏ@mention Buying 2 new iPad's with @mention #geekdate #apple #sxsw #ipad2Û :)\n",
      "[';-)'] RT @mention #sxsw tip of the day (again ;-) turn your iphone screen brightness down way down #conservebatterylife #peace @mention\n",
      "[':D'] @mention I try to stay awake! :D I'm trying to get Ustream working on iPhone, see your badge/picture now is dat right? #kickoffparty  #sxsw\n",
      "[';)'] building on the success of Google Buzz no doubt ;) RT @mention Google to launch Circles social network at #sxsw? {link}\n",
      "['xD'] funny xD very funny xD {link} Rebecca Black Dionne Warwick #sxsw iPad\n",
      "[';)'] I need to google that lonelyboy15 @mention talks about all the time ;) #sxsw #enchantment\n",
      "[':]'] hey @mention heard you're at #sxsw Come by to the @mention grille and make your comic into a iPhone case? What do you say? :]\n",
      "[':-)'] @mention Not only at Cedar Street Courtyard but also at Apple Store #SXSW {link} from a small fan :-)\n",
      "[':)'] RT @mention If you're in Austin today, please join @mention @mention and myself talking iPad 2 and #SxSW  here: {link} :)\n",
      "[';)'] Whoohoo! Got it! ;) RT @mention New #UberSocial for #iPhone now in the App Store includes UberGuide to #SXSW (cont) {link}\n",
      "[':-D'] Congrats to Kenny, who now enjoys a spanking new @mention case for his iPad!  Look how happy he is!  :-D #SXSW # {link}\n",
      "[':)'] RT @mention @mention (or anyone who knows @mention found your deaddd iPhone outside the Blogger Loungecontact me so i can reunite you with it! :) #SXSW\n",
      "[':)'] Live tweeting of &quot;Google and Bing Speak on Rankings begins in 10 min Doubt they'll say anything useful, it may be interesting :) #sxsw\n",
      "[';)'] @mention Just started using the Android app Totally killer service and I think you'll be huge at #SXSW! Hope your servers are ready ;)\n",
      "[':)'] Does anyone else think that Google's Marissa Mayer looks like Laura Linney? :) @mention #SXSW\n",
      "[':)'] So went to the Apple Store (Kingston) as friends at #sxsw have new iPad's  so got something to cheer myself up :) {link}\n",
      "[':D'] RT @mention @mention Yes, that's why I favorited it! I want to win I need to win doo dah doo dah :D #pushio #sxsw #ipad\n",
      "[':)'] @mention you might also appreciate new iPhone app tweetcaster Zip it feature let's you hide ANY keywords or hashtag, incl of course #sxsw :)\n",
      "[':)'] &amp; What happened? :) RT @mention @mention putting a gun 2 @mention headGive me your iPhone! #SXSW {link}\n",
      "[';)'] Free coffee by company a, free drinks on company b, free food at company c All money saved goes to Apple Life at #SXSW ;)\n",
      "[';)'] Google #h4ckers audience 95% male- devs are smart (&amp; easy when there's free alcohol) ;) #SXSW  @mention Speakeasy {link}\n",
      "[':)'] We're at 2nd and congress #SXSW #RewardsWagon with @mention bookbook iPad cases Get here fast :)\n",
      "[':('] Both Microsoft and Google are ripping us off too {link} :( @mention a Joomla! wannabe logo #sxsw {link}\n",
      "[':)'] RT @mention Thank you! :) RT @mention Just picked up @mention book: Killer Photoes with your IPhone! #SXSW #sxswchi  {link} #SXSWi\n",
      "[':)'] Google presentations during the #SXSW trade show - busy trade show but nice to be on the other side this time! :)  {link}\n",
      "[';-)'] ;-) RT @mention @mention The geeks need somewhere downtown to line up to get the iPad 2 I'll be dropping by #SXSW\n",
      "[':)'] Any iPAD2's left at the Apple store at #SXSW? Anyone know? :)\n",
      "[';)'] iPad 2 goes on sale at 3 pm at #sxsw - I'm looking at you @mention ;) (32 gig no color preference) :)\n",
      "[':)'] Hmmonly 9? #SXSW right-brain #mwrc11 left-brain?? :) RT @mention @mention at #SXSW 9 out of 10 attendees have Mac or iPad\n",
      "[':P'] @mention dan die maar doen? :P RT @mention #sxsw ipad store sold out of everything except 64gig wifi only white\n",
      "[':)'] Nice! @mention #sxsw highlights thus far: made friends w/ istock UX developer :) #singularity blows my mind: oy! GOOGLE OWNS IT!\n",
      "[':)'] :) RT @mention Most not even born yet RT @mention Google's #SxSW party: &quot;Party like it's 1986&quot; [pic]: {link}\n",
      "[':)'] Ceder Rapids Andy, ping me, I want to interview you in the livestream #suasxsw #sxsw, Am in front row w iphone, flip and Mac in my hand :)\n",
      "[';)'] @mention I saw that yesterday! Hoping that it won't b too crowded ;) #apple #ipad2 #sxsw\n",
      "[':)'] @mention I got that about impression #sxsw too I plan to stand in a line for an iPad 2 on March 25th though :)\n",
      "[':)'] @mention oh hey i remember that :) didn't even bring my laptop to #SXSW panels iPad 4 life\n",
      "[':)'] Up next is &quot;Left Brain Search = Google Right Brain Search = X&quot; (Thx to @mention for the vote :) ) {link} #SXSW\n",
      "['=D'] @mention Our social calendar app just rolled out with some special #SXSW functionality for iPhone AND android =D {link}\n",
      "[':)'] Stellar customer service at the #apple store Wish every purchase was that smooth :) #sxsw\n",
      "[':)'] @mention :) Maybe not *entirely* HD (Flip? iPhone? Other XL2 footage?) -- but certainly your concerts at #SXSW It's gonna be grand\n",
      "[':('] RT @mention Send the waaaambulance RT @mention No, I didn't get an iPad 2 :( No, I'm not at #sxsw :( Yes, I am depressed :(\n",
      "['=)'] RT @mention I Added Linkedin =) -  HootSuite Mobile for #SXSW ~ Updates for iPhone, BlackBerry &amp; Android {link}\n",
      "[';-)'] SO COOL: latest version of google maps mobile has 3D buildings Not sure if they've mapped Aus to that detail yet ;-) #sxsw\n",
      "[';-)'] On plane leaving for #sxsw I have never seen so many #apple devices on one plane! ;-)\n",
      "[':)'] RT @mention Here it is! My #sxsw itinerary All of these events are free and don't require band/badge {link} Enjoy the fest :)\n",
      "[':-D'] My Verizon iPhone is kicking hairy butts at SXSW  How's your AT&amp;T phone doing?  :-D  #SXSW\n",
      "[':)'] Interested to hear how it's different from Google Buzz RT @mention Get ready for the word &quot;Circles&quot; to be trending #SXSWi #SXSW :)\n",
      "[':)'] Apparently there is an iPad and iPhone app to block #sxsw tweets :)\n",
      "['XD'] no no no my bad its lady XD {link} #sxsw iPad Rebecca Black Jurassic Park\n",
      "[';)'] #BooYah! RT @mention @mention Just synced my #iPad2 and full of Apple joy #SXSW ;)\n",
      "[';)'] Speaking of #sxsw: how about that #apple store on 6th and congress? Wouldn't it be great if it were permanent? ;)\n",
      "[':-)'] Ahh Wonderful news! RT @mention iPad 2 - is now available for online ordering Go get urs :-) #Sxsw\n",
      "[':('] #sxsw apple store run out for the day :( boo apple\n",
      "['xD'] wondering if ppl in #sxsw on friday will queue at the convention centre or the apple store! xD i'm still figuring out wot i'll do!\n",
      "[';)'] #sxsw anyone here need an iPhone cable I have extras -  tweet me ;)\n",
      "[':)'] Hey, #usguys at #sxsw, let us know what you think of the new Google Circles social media platform :) #usxsw\n",
      "[':-)'] @mention Nice meeting you last night! Confession: I just installed @mention on my iPad &amp; really like it :-) #SXSW\n",
      "[';)'] @mention FYI, past u op met citeren! ;) &quot;@mention Google is NOT launching any products at  #SXSW {link}\n",
      "[':)'] RT @mention Thanks for the free #SXSW mix :) RT @mention  20+ artists you have to hear, free sampler {link}\n"
     ]
    }
   ],
   "source": [
    "emo_list=train2['tweet'].map(lambda x: extract_emoji(str(x)))"
   ]
  },
  {
   "cell_type": "code",
   "execution_count": 408,
   "metadata": {},
   "outputs": [
    {
     "data": {
      "text/plain": [
       "array([None, ':)', ';-)', ':(', ':P', ';)', ':-(', ':-)', ':D', ':-/',\n",
       "       ':p', '=)', 'xD', ':]', ':-D', '=D', 'XD'], dtype=object)"
      ]
     },
     "execution_count": 408,
     "metadata": {},
     "output_type": "execute_result"
    }
   ],
   "source": [
    "emo_list.unique()"
   ]
  },
  {
   "cell_type": "markdown",
   "metadata": {},
   "source": [
    "## 4.2 Change all tweets into lowercase :"
   ]
  },
  {
   "cell_type": "code",
   "execution_count": 409,
   "metadata": {},
   "outputs": [
    {
     "data": {
      "text/plain": [
       "0    #sxswnui #sxsw #apple defining language of tou...\n",
       "1    learning ab google doodles! all doodles should...\n",
       "2    one of the most in-your-face ex. of stealing t...\n",
       "3    this iphone #sxsw app would b pretty awesome i...\n",
       "4    line outside the apple store in austin waiting...\n",
       "Name: tweet, dtype: object"
      ]
     },
     "execution_count": 409,
     "metadata": {},
     "output_type": "execute_result"
    }
   ],
   "source": [
    "train2['tweet'] = train2['tweet'].apply(lambda x: \" \".join(x.lower() for x in str(x).split()))\n",
    "train2['tweet'].head()"
   ]
  },
  {
   "cell_type": "markdown",
   "metadata": {},
   "source": [
    "### Impact of LOWERCASE TWEETS on duplicate Records :"
   ]
  },
  {
   "cell_type": "code",
   "execution_count": 410,
   "metadata": {},
   "outputs": [],
   "source": [
    "dup_tweets_lower=train2[train2['tweet'].duplicated()]"
   ]
  },
  {
   "cell_type": "code",
   "execution_count": 411,
   "metadata": {},
   "outputs": [
    {
     "data": {
      "text/plain": [
       "53"
      ]
     },
     "execution_count": 411,
     "metadata": {},
     "output_type": "execute_result"
    }
   ],
   "source": [
    "len(dup_tweets_lower)"
   ]
  },
  {
   "cell_type": "code",
   "execution_count": 412,
   "metadata": {},
   "outputs": [
    {
     "data": {
      "text/plain": [
       "35"
      ]
     },
     "execution_count": 412,
     "metadata": {},
     "output_type": "execute_result"
    }
   ],
   "source": [
    "dup_tweets_lower.tweet.nunique()"
   ]
  },
  {
   "cell_type": "code",
   "execution_count": 413,
   "metadata": {
    "scrolled": true
   },
   "outputs": [
    {
     "data": {
      "text/html": [
       "<div>\n",
       "<style scoped>\n",
       "    .dataframe tbody tr th:only-of-type {\n",
       "        vertical-align: middle;\n",
       "    }\n",
       "\n",
       "    .dataframe tbody tr th {\n",
       "        vertical-align: top;\n",
       "    }\n",
       "\n",
       "    .dataframe thead th {\n",
       "        text-align: right;\n",
       "    }\n",
       "</style>\n",
       "<table border=\"1\" class=\"dataframe\">\n",
       "  <thead>\n",
       "    <tr style=\"text-align: right;\">\n",
       "      <th></th>\n",
       "      <th>tweet_id</th>\n",
       "      <th>tweet</th>\n",
       "      <th>sentiment</th>\n",
       "      <th>upper</th>\n",
       "    </tr>\n",
       "  </thead>\n",
       "  <tbody>\n",
       "    <tr>\n",
       "      <th>5821</th>\n",
       "      <td>17</td>\n",
       "      <td>i just noticed dst is coming this weekend. how...</td>\n",
       "      <td>0</td>\n",
       "      <td>4</td>\n",
       "    </tr>\n",
       "    <tr>\n",
       "      <th>5490</th>\n",
       "      <td>20</td>\n",
       "      <td>need to buy an ipad2 while i'm in austin at #s...</td>\n",
       "      <td>2</td>\n",
       "      <td>1</td>\n",
       "    </tr>\n",
       "    <tr>\n",
       "      <th>6193</th>\n",
       "      <td>458</td>\n",
       "      <td>@mention enjoy #sxsw and ride anywhere in aust...</td>\n",
       "      <td>1</td>\n",
       "      <td>0</td>\n",
       "    </tr>\n",
       "    <tr>\n",
       "      <th>3250</th>\n",
       "      <td>466</td>\n",
       "      <td>before it even begins, apple wins #sxsw {link}</td>\n",
       "      <td>2</td>\n",
       "      <td>1</td>\n",
       "    </tr>\n",
       "    <tr>\n",
       "      <th>4334</th>\n",
       "      <td>468</td>\n",
       "      <td>before it even begins, apple wins #sxsw {link}</td>\n",
       "      <td>2</td>\n",
       "      <td>1</td>\n",
       "    </tr>\n",
       "    <tr>\n",
       "      <th>2391</th>\n",
       "      <td>776</td>\n",
       "      <td>google to launch major new social network call...</td>\n",
       "      <td>1</td>\n",
       "      <td>0</td>\n",
       "    </tr>\n",
       "    <tr>\n",
       "      <th>4435</th>\n",
       "      <td>798</td>\n",
       "      <td>google to launch major new social network call...</td>\n",
       "      <td>1</td>\n",
       "      <td>0</td>\n",
       "    </tr>\n",
       "    <tr>\n",
       "      <th>1229</th>\n",
       "      <td>812</td>\n",
       "      <td>google to launch major new social network call...</td>\n",
       "      <td>2</td>\n",
       "      <td>0</td>\n",
       "    </tr>\n",
       "    <tr>\n",
       "      <th>2560</th>\n",
       "      <td>2230</td>\n",
       "      <td>marissa mayer: google will connect the digital...</td>\n",
       "      <td>1</td>\n",
       "      <td>0</td>\n",
       "    </tr>\n",
       "    <tr>\n",
       "      <th>5130</th>\n",
       "      <td>2232</td>\n",
       "      <td>marissa mayer: google will connect the digital...</td>\n",
       "      <td>1</td>\n",
       "      <td>0</td>\n",
       "    </tr>\n",
       "    <tr>\n",
       "      <th>2706</th>\n",
       "      <td>3810</td>\n",
       "      <td>win free ipad 2 from webdoc.com #sxsw rt</td>\n",
       "      <td>1</td>\n",
       "      <td>1</td>\n",
       "    </tr>\n",
       "    <tr>\n",
       "      <th>2353</th>\n",
       "      <td>3812</td>\n",
       "      <td>win free ipad 2 from webdoc.com #sxsw rt</td>\n",
       "      <td>1</td>\n",
       "      <td>1</td>\n",
       "    </tr>\n",
       "    <tr>\n",
       "      <th>3267</th>\n",
       "      <td>3814</td>\n",
       "      <td>win free ipad 2 from webdoc.com #sxsw rt</td>\n",
       "      <td>2</td>\n",
       "      <td>1</td>\n",
       "    </tr>\n",
       "    <tr>\n",
       "      <th>5500</th>\n",
       "      <td>4788</td>\n",
       "      <td>&amp;quot;@mention new #ubersocial for #iphone now...</td>\n",
       "      <td>1</td>\n",
       "      <td>1</td>\n",
       "    </tr>\n",
       "    <tr>\n",
       "      <th>7218</th>\n",
       "      <td>4860</td>\n",
       "      <td>google to launch major new social network call...</td>\n",
       "      <td>1</td>\n",
       "      <td>1</td>\n",
       "    </tr>\n",
       "    <tr>\n",
       "      <th>5299</th>\n",
       "      <td>4953</td>\n",
       "      <td>40% of google maps use is mobile #sxsw</td>\n",
       "      <td>1</td>\n",
       "      <td>0</td>\n",
       "    </tr>\n",
       "    <tr>\n",
       "      <th>2676</th>\n",
       "      <td>5028</td>\n",
       "      <td>rt @mention google to launch major new social ...</td>\n",
       "      <td>1</td>\n",
       "      <td>1</td>\n",
       "    </tr>\n",
       "    <tr>\n",
       "      <th>6887</th>\n",
       "      <td>5029</td>\n",
       "      <td>rt @mention google to launch major new social ...</td>\n",
       "      <td>1</td>\n",
       "      <td>1</td>\n",
       "    </tr>\n",
       "    <tr>\n",
       "      <th>6955</th>\n",
       "      <td>5338</td>\n",
       "      <td>rt @mention ÷¼ go beyond borders! ÷_ {link} ...</td>\n",
       "      <td>1</td>\n",
       "      <td>4</td>\n",
       "    </tr>\n",
       "    <tr>\n",
       "      <th>4180</th>\n",
       "      <td>5341</td>\n",
       "      <td>rt @mention ÷¼ happy woman's day! make love, ...</td>\n",
       "      <td>1</td>\n",
       "      <td>1</td>\n",
       "    </tr>\n",
       "    <tr>\n",
       "      <th>4143</th>\n",
       "      <td>5435</td>\n",
       "      <td>rt @mention apple is opening up a temporary st...</td>\n",
       "      <td>1</td>\n",
       "      <td>2</td>\n",
       "    </tr>\n",
       "    <tr>\n",
       "      <th>6061</th>\n",
       "      <td>5742</td>\n",
       "      <td>rt @mention free &amp;quot;payments on the #androi...</td>\n",
       "      <td>1</td>\n",
       "      <td>2</td>\n",
       "    </tr>\n",
       "    <tr>\n",
       "      <th>5261</th>\n",
       "      <td>5754</td>\n",
       "      <td>rt @mention full #sxsw #touchingstories presen...</td>\n",
       "      <td>1</td>\n",
       "      <td>2</td>\n",
       "    </tr>\n",
       "    <tr>\n",
       "      <th>6750</th>\n",
       "      <td>5798</td>\n",
       "      <td>rt @mention google (tries again) to launch a n...</td>\n",
       "      <td>1</td>\n",
       "      <td>1</td>\n",
       "    </tr>\n",
       "    <tr>\n",
       "      <th>4616</th>\n",
       "      <td>5879</td>\n",
       "      <td>rt @mention google to launch major new social ...</td>\n",
       "      <td>1</td>\n",
       "      <td>1</td>\n",
       "    </tr>\n",
       "    <tr>\n",
       "      <th>2039</th>\n",
       "      <td>5880</td>\n",
       "      <td>rt @mention google to launch major new social ...</td>\n",
       "      <td>1</td>\n",
       "      <td>2</td>\n",
       "    </tr>\n",
       "    <tr>\n",
       "      <th>3194</th>\n",
       "      <td>5881</td>\n",
       "      <td>rt @mention google to launch major new social ...</td>\n",
       "      <td>1</td>\n",
       "      <td>1</td>\n",
       "    </tr>\n",
       "    <tr>\n",
       "      <th>3192</th>\n",
       "      <td>5883</td>\n",
       "      <td>rt @mention google to launch major new social ...</td>\n",
       "      <td>1</td>\n",
       "      <td>1</td>\n",
       "    </tr>\n",
       "    <tr>\n",
       "      <th>554</th>\n",
       "      <td>5884</td>\n",
       "      <td>rt @mention google to launch major new social ...</td>\n",
       "      <td>1</td>\n",
       "      <td>2</td>\n",
       "    </tr>\n",
       "    <tr>\n",
       "      <th>2823</th>\n",
       "      <td>6293</td>\n",
       "      <td>rt @mention marissa mayer: google will connect...</td>\n",
       "      <td>2</td>\n",
       "      <td>2</td>\n",
       "    </tr>\n",
       "    <tr>\n",
       "      <th>2855</th>\n",
       "      <td>6294</td>\n",
       "      <td>rt @mention marissa mayer: google will connect...</td>\n",
       "      <td>1</td>\n",
       "      <td>1</td>\n",
       "    </tr>\n",
       "    <tr>\n",
       "      <th>3867</th>\n",
       "      <td>6296</td>\n",
       "      <td>rt @mention marissa mayer: google will connect...</td>\n",
       "      <td>2</td>\n",
       "      <td>1</td>\n",
       "    </tr>\n",
       "    <tr>\n",
       "      <th>4346</th>\n",
       "      <td>6297</td>\n",
       "      <td>rt @mention marissa mayer: google will connect...</td>\n",
       "      <td>1</td>\n",
       "      <td>2</td>\n",
       "    </tr>\n",
       "    <tr>\n",
       "      <th>1832</th>\n",
       "      <td>6298</td>\n",
       "      <td>rt @mention marissa mayer: google will connect...</td>\n",
       "      <td>2</td>\n",
       "      <td>1</td>\n",
       "    </tr>\n",
       "    <tr>\n",
       "      <th>4237</th>\n",
       "      <td>6299</td>\n",
       "      <td>rt @mention marissa mayer: google will connect...</td>\n",
       "      <td>1</td>\n",
       "      <td>2</td>\n",
       "    </tr>\n",
       "    <tr>\n",
       "      <th>1473</th>\n",
       "      <td>6300</td>\n",
       "      <td>rt @mention marissa mayer: google will connect...</td>\n",
       "      <td>1</td>\n",
       "      <td>1</td>\n",
       "    </tr>\n",
       "    <tr>\n",
       "      <th>2819</th>\n",
       "      <td>6546</td>\n",
       "      <td>rt @mention rt @mention google to launch major...</td>\n",
       "      <td>1</td>\n",
       "      <td>2</td>\n",
       "    </tr>\n",
       "    <tr>\n",
       "      <th>3788</th>\n",
       "      <td>6620</td>\n",
       "      <td>rt @mention rt @mention we interrupt your regu...</td>\n",
       "      <td>1</td>\n",
       "      <td>2</td>\n",
       "    </tr>\n",
       "    <tr>\n",
       "      <th>4990</th>\n",
       "      <td>6707</td>\n",
       "      <td>rt @mention team heading to big boi show, than...</td>\n",
       "      <td>1</td>\n",
       "      <td>2</td>\n",
       "    </tr>\n",
       "    <tr>\n",
       "      <th>5071</th>\n",
       "      <td>6884</td>\n",
       "      <td>rt @mention we interrupt your regularly schedu...</td>\n",
       "      <td>1</td>\n",
       "      <td>1</td>\n",
       "    </tr>\n",
       "    <tr>\n",
       "      <th>4823</th>\n",
       "      <td>6986</td>\n",
       "      <td>rt @mention yes! updated iphone app has song i...</td>\n",
       "      <td>2</td>\n",
       "      <td>3</td>\n",
       "    </tr>\n",
       "    <tr>\n",
       "      <th>7054</th>\n",
       "      <td>7597</td>\n",
       "      <td>google circles' looms, but do google's nerds '...</td>\n",
       "      <td>1</td>\n",
       "      <td>0</td>\n",
       "    </tr>\n",
       "    <tr>\n",
       "      <th>5856</th>\n",
       "      <td>8315</td>\n",
       "      <td>free &amp;quot;payments on the #android platform&amp;q...</td>\n",
       "      <td>1</td>\n",
       "      <td>1</td>\n",
       "    </tr>\n",
       "  </tbody>\n",
       "</table>\n",
       "</div>"
      ],
      "text/plain": [
       "      tweet_id                                              tweet  sentiment  \\\n",
       "5821        17  i just noticed dst is coming this weekend. how...          0   \n",
       "5490        20  need to buy an ipad2 while i'm in austin at #s...          2   \n",
       "6193       458  @mention enjoy #sxsw and ride anywhere in aust...          1   \n",
       "3250       466     before it even begins, apple wins #sxsw {link}          2   \n",
       "4334       468     before it even begins, apple wins #sxsw {link}          2   \n",
       "2391       776  google to launch major new social network call...          1   \n",
       "4435       798  google to launch major new social network call...          1   \n",
       "1229       812  google to launch major new social network call...          2   \n",
       "2560      2230  marissa mayer: google will connect the digital...          1   \n",
       "5130      2232  marissa mayer: google will connect the digital...          1   \n",
       "2706      3810           win free ipad 2 from webdoc.com #sxsw rt          1   \n",
       "2353      3812           win free ipad 2 from webdoc.com #sxsw rt          1   \n",
       "3267      3814           win free ipad 2 from webdoc.com #sxsw rt          2   \n",
       "5500      4788  &quot;@mention new #ubersocial for #iphone now...          1   \n",
       "7218      4860  google to launch major new social network call...          1   \n",
       "5299      4953             40% of google maps use is mobile #sxsw          1   \n",
       "2676      5028  rt @mention google to launch major new social ...          1   \n",
       "6887      5029  rt @mention google to launch major new social ...          1   \n",
       "6955      5338  rt @mention ÷¼ go beyond borders! ÷_ {link} ...          1   \n",
       "4180      5341  rt @mention ÷¼ happy woman's day! make love, ...          1   \n",
       "4143      5435  rt @mention apple is opening up a temporary st...          1   \n",
       "6061      5742  rt @mention free &quot;payments on the #androi...          1   \n",
       "5261      5754  rt @mention full #sxsw #touchingstories presen...          1   \n",
       "6750      5798  rt @mention google (tries again) to launch a n...          1   \n",
       "4616      5879  rt @mention google to launch major new social ...          1   \n",
       "2039      5880  rt @mention google to launch major new social ...          1   \n",
       "3194      5881  rt @mention google to launch major new social ...          1   \n",
       "3192      5883  rt @mention google to launch major new social ...          1   \n",
       "554       5884  rt @mention google to launch major new social ...          1   \n",
       "2823      6293  rt @mention marissa mayer: google will connect...          2   \n",
       "2855      6294  rt @mention marissa mayer: google will connect...          1   \n",
       "3867      6296  rt @mention marissa mayer: google will connect...          2   \n",
       "4346      6297  rt @mention marissa mayer: google will connect...          1   \n",
       "1832      6298  rt @mention marissa mayer: google will connect...          2   \n",
       "4237      6299  rt @mention marissa mayer: google will connect...          1   \n",
       "1473      6300  rt @mention marissa mayer: google will connect...          1   \n",
       "2819      6546  rt @mention rt @mention google to launch major...          1   \n",
       "3788      6620  rt @mention rt @mention we interrupt your regu...          1   \n",
       "4990      6707  rt @mention team heading to big boi show, than...          1   \n",
       "5071      6884  rt @mention we interrupt your regularly schedu...          1   \n",
       "4823      6986  rt @mention yes! updated iphone app has song i...          2   \n",
       "7054      7597  google circles' looms, but do google's nerds '...          1   \n",
       "5856      8315  free &quot;payments on the #android platform&q...          1   \n",
       "\n",
       "      upper  \n",
       "5821      4  \n",
       "5490      1  \n",
       "6193      0  \n",
       "3250      1  \n",
       "4334      1  \n",
       "2391      0  \n",
       "4435      0  \n",
       "1229      0  \n",
       "2560      0  \n",
       "5130      0  \n",
       "2706      1  \n",
       "2353      1  \n",
       "3267      1  \n",
       "5500      1  \n",
       "7218      1  \n",
       "5299      0  \n",
       "2676      1  \n",
       "6887      1  \n",
       "6955      4  \n",
       "4180      1  \n",
       "4143      2  \n",
       "6061      2  \n",
       "5261      2  \n",
       "6750      1  \n",
       "4616      1  \n",
       "2039      2  \n",
       "3194      1  \n",
       "3192      1  \n",
       "554       2  \n",
       "2823      2  \n",
       "2855      1  \n",
       "3867      1  \n",
       "4346      2  \n",
       "1832      1  \n",
       "4237      2  \n",
       "1473      1  \n",
       "2819      2  \n",
       "3788      2  \n",
       "4990      2  \n",
       "5071      1  \n",
       "4823      3  \n",
       "7054      0  \n",
       "5856      1  "
      ]
     },
     "execution_count": 413,
     "metadata": {},
     "output_type": "execute_result"
    }
   ],
   "source": [
    "train2[train2[['tweet','sentiment']].duplicated()==True].sort_values('tweet_id')"
   ]
  },
  {
   "cell_type": "markdown",
   "metadata": {},
   "source": [
    "### Inference :\n",
    "#After converting all texts into lowercase , duplicate records got increased from 12 to 35 (unique ones)\n",
    "#Some exactly similar records have two different sentiment values in (neutral(1),positive(2))"
   ]
  },
  {
   "cell_type": "markdown",
   "metadata": {},
   "source": [
    "## 4.3: Number of words per tweet & its impact on sentiment column :"
   ]
  },
  {
   "cell_type": "code",
   "execution_count": 414,
   "metadata": {},
   "outputs": [
    {
     "data": {
      "text/html": [
       "<div>\n",
       "<style scoped>\n",
       "    .dataframe tbody tr th:only-of-type {\n",
       "        vertical-align: middle;\n",
       "    }\n",
       "\n",
       "    .dataframe tbody tr th {\n",
       "        vertical-align: top;\n",
       "    }\n",
       "\n",
       "    .dataframe thead th {\n",
       "        text-align: right;\n",
       "    }\n",
       "</style>\n",
       "<table border=\"1\" class=\"dataframe\">\n",
       "  <thead>\n",
       "    <tr style=\"text-align: right;\">\n",
       "      <th></th>\n",
       "      <th>tweet</th>\n",
       "      <th>word_count</th>\n",
       "    </tr>\n",
       "  </thead>\n",
       "  <tbody>\n",
       "    <tr>\n",
       "      <th>0</th>\n",
       "      <td>#sxswnui #sxsw #apple defining language of tou...</td>\n",
       "      <td>12</td>\n",
       "    </tr>\n",
       "    <tr>\n",
       "      <th>1</th>\n",
       "      <td>learning ab google doodles! all doodles should...</td>\n",
       "      <td>19</td>\n",
       "    </tr>\n",
       "    <tr>\n",
       "      <th>2</th>\n",
       "      <td>one of the most in-your-face ex. of stealing t...</td>\n",
       "      <td>22</td>\n",
       "    </tr>\n",
       "    <tr>\n",
       "      <th>3</th>\n",
       "      <td>this iphone #sxsw app would b pretty awesome i...</td>\n",
       "      <td>19</td>\n",
       "    </tr>\n",
       "    <tr>\n",
       "      <th>4</th>\n",
       "      <td>line outside the apple store in austin waiting...</td>\n",
       "      <td>14</td>\n",
       "    </tr>\n",
       "  </tbody>\n",
       "</table>\n",
       "</div>"
      ],
      "text/plain": [
       "                                               tweet  word_count\n",
       "0  #sxswnui #sxsw #apple defining language of tou...          12\n",
       "1  learning ab google doodles! all doodles should...          19\n",
       "2  one of the most in-your-face ex. of stealing t...          22\n",
       "3  this iphone #sxsw app would b pretty awesome i...          19\n",
       "4  line outside the apple store in austin waiting...          14"
      ]
     },
     "execution_count": 414,
     "metadata": {},
     "output_type": "execute_result"
    }
   ],
   "source": [
    "train2['word_count'] = train2['tweet'].apply(lambda x: len(str(x).split(\" \")))\n",
    "train2[['tweet','word_count']].head()"
   ]
  },
  {
   "cell_type": "markdown",
   "metadata": {},
   "source": [
    "### impact on sentiment column :"
   ]
  },
  {
   "cell_type": "code",
   "execution_count": 415,
   "metadata": {},
   "outputs": [
    {
     "name": "stdout",
     "output_type": "stream",
     "text": [
      "sentiment\n",
      "0    18.684211\n",
      "1    17.382278\n",
      "2    18.220823\n",
      "3    17.488000\n",
      "Name: word_count, dtype: float64\n"
     ]
    }
   ],
   "source": [
    "word_sentiment=(train2['word_count'].groupby(train2['sentiment']).mean())\n",
    "print(word_sentiment)"
   ]
  },
  {
   "cell_type": "code",
   "execution_count": 416,
   "metadata": {},
   "outputs": [
    {
     "data": {
      "text/plain": [
       "Text(0, 0.5, 'Average Word count')"
      ]
     },
     "execution_count": 416,
     "metadata": {},
     "output_type": "execute_result"
    },
    {
     "data": {
      "image/png": "[encoded data removed]",
      "text/plain": [
       "<Figure size 842.4x667.44 with 1 Axes>"
      ]
     },
     "metadata": {
      "needs_background": "light"
     },
     "output_type": "display_data"
    }
   ],
   "source": [
    "f, ax = plt.subplots(figsize=(11.7, 9.27))\n",
    "word_sentiment.plot.bar()\n",
    "plt.xlabel(\"sentiment\")\n",
    "plt.ylabel(\"Average Word count\")"
   ]
  },
  {
   "cell_type": "markdown",
   "metadata": {},
   "source": [
    "### Inference :\n",
    "#There is no such impact on sentiment column.\n",
    "#there is number of words are more in Negative tweet(0)\n",
    "#Average number of words respective to all sentiments are moreover same "
   ]
  },
  {
   "cell_type": "markdown",
   "metadata": {},
   "source": [
    "## 4.4 Number of characters per tweet & impact on sentiment analysis :"
   ]
  },
  {
   "cell_type": "code",
   "execution_count": 417,
   "metadata": {},
   "outputs": [],
   "source": [
    "train2['char_count'] = train2['tweet'].str.len() ## this also includes spaces"
   ]
  },
  {
   "cell_type": "code",
   "execution_count": 418,
   "metadata": {},
   "outputs": [
    {
     "data": {
      "text/html": [
       "<div>\n",
       "<style scoped>\n",
       "    .dataframe tbody tr th:only-of-type {\n",
       "        vertical-align: middle;\n",
       "    }\n",
       "\n",
       "    .dataframe tbody tr th {\n",
       "        vertical-align: top;\n",
       "    }\n",
       "\n",
       "    .dataframe thead th {\n",
       "        text-align: right;\n",
       "    }\n",
       "</style>\n",
       "<table border=\"1\" class=\"dataframe\">\n",
       "  <thead>\n",
       "    <tr style=\"text-align: right;\">\n",
       "      <th></th>\n",
       "      <th>tweet</th>\n",
       "      <th>char_count</th>\n",
       "    </tr>\n",
       "  </thead>\n",
       "  <tbody>\n",
       "    <tr>\n",
       "      <th>0</th>\n",
       "      <td>#sxswnui #sxsw #apple defining language of tou...</td>\n",
       "      <td>89</td>\n",
       "    </tr>\n",
       "    <tr>\n",
       "      <th>1</th>\n",
       "      <td>learning ab google doodles! all doodles should...</td>\n",
       "      <td>143</td>\n",
       "    </tr>\n",
       "    <tr>\n",
       "      <th>2</th>\n",
       "      <td>one of the most in-your-face ex. of stealing t...</td>\n",
       "      <td>131</td>\n",
       "    </tr>\n",
       "  </tbody>\n",
       "</table>\n",
       "</div>"
      ],
      "text/plain": [
       "                                               tweet  char_count\n",
       "0  #sxswnui #sxsw #apple defining language of tou...          89\n",
       "1  learning ab google doodles! all doodles should...         143\n",
       "2  one of the most in-your-face ex. of stealing t...         131"
      ]
     },
     "execution_count": 418,
     "metadata": {},
     "output_type": "execute_result"
    }
   ],
   "source": [
    "train2[['tweet','char_count']].head(3)"
   ]
  },
  {
   "cell_type": "markdown",
   "metadata": {},
   "source": [
    "### Impact on sentiment column :"
   ]
  },
  {
   "cell_type": "code",
   "execution_count": 419,
   "metadata": {},
   "outputs": [
    {
     "name": "stdout",
     "output_type": "stream",
     "text": [
      "sentiment\n",
      "0    108.754386\n",
      "1    103.790072\n",
      "2    105.651134\n",
      "3    101.584000\n",
      "Name: char_count, dtype: float64\n"
     ]
    }
   ],
   "source": [
    "char_sentiment=(train2['char_count'].groupby(train2['sentiment']).mean())\n",
    "print(char_sentiment)"
   ]
  },
  {
   "cell_type": "code",
   "execution_count": 420,
   "metadata": {},
   "outputs": [
    {
     "data": {
      "text/plain": [
       "Text(0, 0.5, 'Average Character count')"
      ]
     },
     "execution_count": 420,
     "metadata": {},
     "output_type": "execute_result"
    },
    {
     "data": {
      "image/png": "[encoded data removed]",
      "text/plain": [
       "<Figure size 842.4x667.44 with 1 Axes>"
      ]
     },
     "metadata": {
      "needs_background": "light"
     },
     "output_type": "display_data"
    }
   ],
   "source": [
    " ax = plt.subplots(figsize=(11.7, 9.27))\n",
    "char_sentiment.plot.bar()\n",
    "plt.xlabel(\"sentiment\")\n",
    "plt.ylabel(\"Average Character count\")"
   ]
  },
  {
   "cell_type": "markdown",
   "metadata": {},
   "source": [
    "### Inference :\n",
    "Character count is more in case of negative sentiment (0)\n"
   ]
  },
  {
   "cell_type": "markdown",
   "metadata": {},
   "source": [
    "## 4.5 Average word Length & impact on Sentiment :"
   ]
  },
  {
   "cell_type": "code",
   "execution_count": 421,
   "metadata": {},
   "outputs": [
    {
     "data": {
      "text/html": [
       "<div>\n",
       "<style scoped>\n",
       "    .dataframe tbody tr th:only-of-type {\n",
       "        vertical-align: middle;\n",
       "    }\n",
       "\n",
       "    .dataframe tbody tr th {\n",
       "        vertical-align: top;\n",
       "    }\n",
       "\n",
       "    .dataframe thead th {\n",
       "        text-align: right;\n",
       "    }\n",
       "</style>\n",
       "<table border=\"1\" class=\"dataframe\">\n",
       "  <thead>\n",
       "    <tr style=\"text-align: right;\">\n",
       "      <th></th>\n",
       "      <th>tweet</th>\n",
       "      <th>avg_word</th>\n",
       "    </tr>\n",
       "  </thead>\n",
       "  <tbody>\n",
       "    <tr>\n",
       "      <th>0</th>\n",
       "      <td>#sxswnui #sxsw #apple defining language of tou...</td>\n",
       "      <td>6.500000</td>\n",
       "    </tr>\n",
       "    <tr>\n",
       "      <th>1</th>\n",
       "      <td>learning ab google doodles! all doodles should...</td>\n",
       "      <td>6.578947</td>\n",
       "    </tr>\n",
       "    <tr>\n",
       "      <th>2</th>\n",
       "      <td>one of the most in-your-face ex. of stealing t...</td>\n",
       "      <td>5.000000</td>\n",
       "    </tr>\n",
       "    <tr>\n",
       "      <th>3</th>\n",
       "      <td>this iphone #sxsw app would b pretty awesome i...</td>\n",
       "      <td>5.631579</td>\n",
       "    </tr>\n",
       "    <tr>\n",
       "      <th>4</th>\n",
       "      <td>line outside the apple store in austin waiting...</td>\n",
       "      <td>4.500000</td>\n",
       "    </tr>\n",
       "  </tbody>\n",
       "</table>\n",
       "</div>"
      ],
      "text/plain": [
       "                                               tweet  avg_word\n",
       "0  #sxswnui #sxsw #apple defining language of tou...  6.500000\n",
       "1  learning ab google doodles! all doodles should...  6.578947\n",
       "2  one of the most in-your-face ex. of stealing t...  5.000000\n",
       "3  this iphone #sxsw app would b pretty awesome i...  5.631579\n",
       "4  line outside the apple store in austin waiting...  4.500000"
      ]
     },
     "execution_count": 421,
     "metadata": {},
     "output_type": "execute_result"
    }
   ],
   "source": [
    "def avg_word(sentence):\n",
    "  words = sentence.split()\n",
    "  return (sum(len(word) for word in words)/len(words))\n",
    "\n",
    "train2['avg_word'] = train2['tweet'].apply(lambda x: avg_word(x))\n",
    "train2[['tweet','avg_word']].head()"
   ]
  },
  {
   "cell_type": "markdown",
   "metadata": {},
   "source": [
    "### Impact of average word length on Sentiment :"
   ]
  },
  {
   "cell_type": "code",
   "execution_count": 422,
   "metadata": {},
   "outputs": [
    {
     "name": "stdout",
     "output_type": "stream",
     "text": [
      "sentiment\n",
      "0    4.950472\n",
      "1    5.115381\n",
      "2    4.922710\n",
      "3    4.933317\n",
      "Name: avg_word, dtype: float64\n"
     ]
    }
   ],
   "source": [
    "avgword_sentiment=(train2['avg_word'].groupby(train2['sentiment']).mean())\n",
    "print(avgword_sentiment)"
   ]
  },
  {
   "cell_type": "code",
   "execution_count": 423,
   "metadata": {},
   "outputs": [
    {
     "data": {
      "text/plain": [
       "Text(0, 0.5, 'Average word length')"
      ]
     },
     "execution_count": 423,
     "metadata": {},
     "output_type": "execute_result"
    },
    {
     "data": {
      "image/png": "[encoded data removed]",
      "text/plain": [
       "<Figure size 842.4x667.44 with 1 Axes>"
      ]
     },
     "metadata": {
      "needs_background": "light"
     },
     "output_type": "display_data"
    }
   ],
   "source": [
    "ax = plt.subplots(figsize=(11.7, 9.27))\n",
    "avgword_sentiment.plot.bar()\n",
    "plt.xlabel(\"sentiment\")\n",
    "plt.ylabel(\"Average word length\")"
   ]
  },
  {
   "cell_type": "markdown",
   "metadata": {},
   "source": [
    "### Inference :\n",
    "Its almost same in all tweets respective to sentiments."
   ]
  },
  {
   "cell_type": "markdown",
   "metadata": {},
   "source": [
    "## 4.6 :Number of stop words per tweet & Their imapct on Sentiment :"
   ]
  },
  {
   "cell_type": "code",
   "execution_count": 424,
   "metadata": {},
   "outputs": [
    {
     "data": {
      "text/html": [
       "<div>\n",
       "<style scoped>\n",
       "    .dataframe tbody tr th:only-of-type {\n",
       "        vertical-align: middle;\n",
       "    }\n",
       "\n",
       "    .dataframe tbody tr th {\n",
       "        vertical-align: top;\n",
       "    }\n",
       "\n",
       "    .dataframe thead th {\n",
       "        text-align: right;\n",
       "    }\n",
       "</style>\n",
       "<table border=\"1\" class=\"dataframe\">\n",
       "  <thead>\n",
       "    <tr style=\"text-align: right;\">\n",
       "      <th></th>\n",
       "      <th>tweet</th>\n",
       "      <th>stopwords</th>\n",
       "    </tr>\n",
       "  </thead>\n",
       "  <tbody>\n",
       "    <tr>\n",
       "      <th>0</th>\n",
       "      <td>#sxswnui #sxsw #apple defining language of tou...</td>\n",
       "      <td>2</td>\n",
       "    </tr>\n",
       "    <tr>\n",
       "      <th>1</th>\n",
       "      <td>learning ab google doodles! all doodles should...</td>\n",
       "      <td>5</td>\n",
       "    </tr>\n",
       "    <tr>\n",
       "      <th>2</th>\n",
       "      <td>one of the most in-your-face ex. of stealing t...</td>\n",
       "      <td>7</td>\n",
       "    </tr>\n",
       "    <tr>\n",
       "      <th>3</th>\n",
       "      <td>this iphone #sxsw app would b pretty awesome i...</td>\n",
       "      <td>5</td>\n",
       "    </tr>\n",
       "    <tr>\n",
       "      <th>4</th>\n",
       "      <td>line outside the apple store in austin waiting...</td>\n",
       "      <td>4</td>\n",
       "    </tr>\n",
       "  </tbody>\n",
       "</table>\n",
       "</div>"
      ],
      "text/plain": [
       "                                               tweet  stopwords\n",
       "0  #sxswnui #sxsw #apple defining language of tou...          2\n",
       "1  learning ab google doodles! all doodles should...          5\n",
       "2  one of the most in-your-face ex. of stealing t...          7\n",
       "3  this iphone #sxsw app would b pretty awesome i...          5\n",
       "4  line outside the apple store in austin waiting...          4"
      ]
     },
     "execution_count": 424,
     "metadata": {},
     "output_type": "execute_result"
    }
   ],
   "source": [
    "from nltk.corpus import stopwords\n",
    "stop = stopwords.words('english')\n",
    "\n",
    "train2['stopwords'] = train2['tweet'].apply(lambda x: len([x for x in str(x).split() if x in stop]))\n",
    "train2[['tweet','stopwords']].head()"
   ]
  },
  {
   "cell_type": "markdown",
   "metadata": {},
   "source": [
    "### Impact of stopwords on Sentiment :"
   ]
  },
  {
   "cell_type": "code",
   "execution_count": 425,
   "metadata": {},
   "outputs": [
    {
     "name": "stdout",
     "output_type": "stream",
     "text": [
      "sentiment\n",
      "0    6.179825\n",
      "1    4.760148\n",
      "2    5.397565\n",
      "3    5.568000\n",
      "Name: stopwords, dtype: float64\n"
     ]
    }
   ],
   "source": [
    "avg_stop_sentiment=(train2['stopwords'].groupby(train2['sentiment']).mean())\n",
    "print(avg_stop_sentiment)"
   ]
  },
  {
   "cell_type": "code",
   "execution_count": 426,
   "metadata": {},
   "outputs": [
    {
     "data": {
      "text/plain": [
       "Text(0, 0.5, 'Average Stopwords count')"
      ]
     },
     "execution_count": 426,
     "metadata": {},
     "output_type": "execute_result"
    },
    {
     "data": {
      "image/png": "[encoded data removed]",
      "text/plain": [
       "<Figure size 842.4x667.44 with 1 Axes>"
      ]
     },
     "metadata": {
      "needs_background": "light"
     },
     "output_type": "display_data"
    }
   ],
   "source": [
    "ax = plt.subplots(figsize=(11.7, 9.27))\n",
    "avg_stop_sentiment.plot.bar()\n",
    "plt.xlabel(\"sentiment\")\n",
    "plt.ylabel(\"Average Stopwords count\")"
   ]
  },
  {
   "cell_type": "markdown",
   "metadata": {},
   "source": [
    "### Inference:\n",
    "Neutal(1) sentiment has lesser stopwords as compared to other sentiment tweets "
   ]
  },
  {
   "cell_type": "markdown",
   "metadata": {},
   "source": [
    "## 4.7: Number of special characters & their respective impact on Sentiment :"
   ]
  },
  {
   "cell_type": "code",
   "execution_count": 427,
   "metadata": {},
   "outputs": [],
   "source": [
    "def preprocess(s):\n",
    "    lower_ls=nltk.word_tokenize(s.lower())\n",
    "    return lower_ls"
   ]
  },
  {
   "cell_type": "code",
   "execution_count": 428,
   "metadata": {},
   "outputs": [],
   "source": [
    "lower_ls=train2['tweet'].map(lambda x: preprocess(str(x)))"
   ]
  },
  {
   "cell_type": "markdown",
   "metadata": {},
   "source": [
    "### 4.7.1 : Number of Hashtags # & their impact on Sentiment :"
   ]
  },
  {
   "cell_type": "code",
   "execution_count": 429,
   "metadata": {},
   "outputs": [],
   "source": [
    "train2['hashtag_cnt']=lower_ls.map(lambda x: x.count('#'))"
   ]
  },
  {
   "cell_type": "code",
   "execution_count": 430,
   "metadata": {},
   "outputs": [
    {
     "data": {
      "text/html": [
       "<div>\n",
       "<style scoped>\n",
       "    .dataframe tbody tr th:only-of-type {\n",
       "        vertical-align: middle;\n",
       "    }\n",
       "\n",
       "    .dataframe tbody tr th {\n",
       "        vertical-align: top;\n",
       "    }\n",
       "\n",
       "    .dataframe thead th {\n",
       "        text-align: right;\n",
       "    }\n",
       "</style>\n",
       "<table border=\"1\" class=\"dataframe\">\n",
       "  <thead>\n",
       "    <tr style=\"text-align: right;\">\n",
       "      <th></th>\n",
       "      <th>tweet</th>\n",
       "      <th>hashtag_cnt</th>\n",
       "    </tr>\n",
       "  </thead>\n",
       "  <tbody>\n",
       "    <tr>\n",
       "      <th>0</th>\n",
       "      <td>#sxswnui #sxsw #apple defining language of tou...</td>\n",
       "      <td>3</td>\n",
       "    </tr>\n",
       "    <tr>\n",
       "      <th>1</th>\n",
       "      <td>learning ab google doodles! all doodles should...</td>\n",
       "      <td>2</td>\n",
       "    </tr>\n",
       "    <tr>\n",
       "      <th>2</th>\n",
       "      <td>one of the most in-your-face ex. of stealing t...</td>\n",
       "      <td>1</td>\n",
       "    </tr>\n",
       "    <tr>\n",
       "      <th>3</th>\n",
       "      <td>this iphone #sxsw app would b pretty awesome i...</td>\n",
       "      <td>3</td>\n",
       "    </tr>\n",
       "    <tr>\n",
       "      <th>4</th>\n",
       "      <td>line outside the apple store in austin waiting...</td>\n",
       "      <td>1</td>\n",
       "    </tr>\n",
       "  </tbody>\n",
       "</table>\n",
       "</div>"
      ],
      "text/plain": [
       "                                               tweet  hashtag_cnt\n",
       "0  #sxswnui #sxsw #apple defining language of tou...            3\n",
       "1  learning ab google doodles! all doodles should...            2\n",
       "2  one of the most in-your-face ex. of stealing t...            1\n",
       "3  this iphone #sxsw app would b pretty awesome i...            3\n",
       "4  line outside the apple store in austin waiting...            1"
      ]
     },
     "execution_count": 430,
     "metadata": {},
     "output_type": "execute_result"
    }
   ],
   "source": [
    "train2[['tweet','hashtag_cnt']].head()"
   ]
  },
  {
   "cell_type": "code",
   "execution_count": 431,
   "metadata": {},
   "outputs": [
    {
     "data": {
      "text/plain": [
       "12685"
      ]
     },
     "execution_count": 431,
     "metadata": {},
     "output_type": "execute_result"
    }
   ],
   "source": [
    "train2['hashtag_cnt'].sum()"
   ]
  },
  {
   "cell_type": "code",
   "execution_count": 432,
   "metadata": {},
   "outputs": [
    {
     "name": "stdout",
     "output_type": "stream",
     "text": [
      "sentiment\n",
      "0    1.607456\n",
      "1    1.794711\n",
      "2    1.685558\n",
      "3    1.600000\n",
      "Name: hashtag_cnt, dtype: float64\n"
     ]
    }
   ],
   "source": [
    "avg_hashtag_tweet=(train2['hashtag_cnt'].groupby(train2['sentiment']).mean())\n",
    "print(avg_hashtag_tweet)"
   ]
  },
  {
   "cell_type": "code",
   "execution_count": 433,
   "metadata": {},
   "outputs": [
    {
     "data": {
      "text/plain": [
       "Text(0, 0.5, 'Average hashtag count')"
      ]
     },
     "execution_count": 433,
     "metadata": {},
     "output_type": "execute_result"
    },
    {
     "data": {
      "image/png": "[encoded data removed]",
      "text/plain": [
       "<Figure size 842.4x667.44 with 1 Axes>"
      ]
     },
     "metadata": {
      "needs_background": "light"
     },
     "output_type": "display_data"
    }
   ],
   "source": [
    "ax = plt.subplots(figsize=(11.7, 9.27))\n",
    "avg_hashtag_tweet.plot.bar()\n",
    "plt.xlabel(\"sentiment\")\n",
    "plt.ylabel(\"Average hashtag count\")"
   ]
  },
  {
   "cell_type": "markdown",
   "metadata": {},
   "source": [
    "### Inference:\n",
    "Its almost same in all tweets respective to sentiments."
   ]
  },
  {
   "cell_type": "code",
   "execution_count": 434,
   "metadata": {
    "scrolled": true
   },
   "outputs": [
    {
     "name": "stdout",
     "output_type": "stream",
     "text": [
      "sentiment\n",
      "0     733\n",
      "1    7737\n",
      "2    4015\n",
      "3     200\n",
      "Name: hashtag_cnt, dtype: int64\n"
     ]
    }
   ],
   "source": [
    "hashtag_count_tweet=(train2['hashtag_cnt'].groupby(train2['sentiment']).sum())\n",
    "print(hashtag_count_tweet)"
   ]
  },
  {
   "cell_type": "code",
   "execution_count": 435,
   "metadata": {},
   "outputs": [
    {
     "data": {
      "text/plain": [
       "12685"
      ]
     },
     "execution_count": 435,
     "metadata": {},
     "output_type": "execute_result"
    }
   ],
   "source": [
    "(train2['hashtag_cnt']).sum()"
   ]
  },
  {
   "cell_type": "code",
   "execution_count": 436,
   "metadata": {},
   "outputs": [
    {
     "data": {
      "text/plain": [
       "Text(0, 0.5, 'Total hashtag count')"
      ]
     },
     "execution_count": 436,
     "metadata": {},
     "output_type": "execute_result"
    },
    {
     "data": {
      "image/png": "[encoded data removed]",
      "text/plain": [
       "<Figure size 842.4x667.44 with 1 Axes>"
      ]
     },
     "metadata": {
      "needs_background": "light"
     },
     "output_type": "display_data"
    }
   ],
   "source": [
    "ax = plt.subplots(figsize=(11.7, 9.27))\n",
    "hashtag_count_tweet.plot.bar()\n",
    "plt.xlabel(\"sentiment\")\n",
    "plt.ylabel(\"Total hashtag count\")"
   ]
  },
  {
   "cell_type": "markdown",
   "metadata": {},
   "source": [
    "### Inference :\n",
    "#Total Hashtags used are 12685\n",
    "#Mostly Hashtags are used in Neutral (1) Sentiment around 7737\n",
    "#In Negative(0) are comparitavley less hashtags 733"
   ]
  },
  {
   "cell_type": "markdown",
   "metadata": {},
   "source": [
    "### Extraction of Hashtags & check which hashtag has more impact on respective Sentiment :\n"
   ]
  },
  {
   "cell_type": "code",
   "execution_count": 437,
   "metadata": {},
   "outputs": [],
   "source": [
    "# function to collect hashtags\n",
    "def hashtag_extract(x):\n",
    "    hashtags = []\n",
    "    # Loop over the words in the tweet\n",
    "    for i in x:\n",
    "        ht = re.findall(r\"#(\\w+)\", i)\n",
    "        hashtags.append(ht)\n",
    "\n",
    "    return hashtags"
   ]
  },
  {
   "cell_type": "markdown",
   "metadata": {},
   "source": [
    "### Hashtags used in tweets respective to Sentiment: Negative(0)"
   ]
  },
  {
   "cell_type": "code",
   "execution_count": 438,
   "metadata": {},
   "outputs": [],
   "source": [
    "HT_negative = hashtag_extract(train2['tweet'][train2['sentiment'] == 0])"
   ]
  },
  {
   "cell_type": "code",
   "execution_count": 439,
   "metadata": {},
   "outputs": [
    {
     "data": {
      "text/plain": [
       "456"
      ]
     },
     "execution_count": 439,
     "metadata": {},
     "output_type": "execute_result"
    }
   ],
   "source": [
    "len(HT_negative) # total number of hashtags"
   ]
  },
  {
   "cell_type": "code",
   "execution_count": 442,
   "metadata": {},
   "outputs": [
    {
     "name": "stdout",
     "output_type": "stream",
     "text": [
      "150\n"
     ]
    }
   ],
   "source": [
    "print(len(set\n",
    "          (HT_negative)))  # Unique hashtags present in Negative (0) sentiment"
   ]
  },
  {
   "cell_type": "code",
   "execution_count": 441,
   "metadata": {},
   "outputs": [],
   "source": [
    "#unnesting the list :\n",
    "HT_negative = sum(HT_negative,[])"
   ]
  },
  {
   "cell_type": "code",
   "execution_count": 443,
   "metadata": {
    "scrolled": true
   },
   "outputs": [
    {
     "data": {
      "image/png": "[encoded data removed]",
      "text/plain": [
       "<Figure size 1152x360 with 1 Axes>"
      ]
     },
     "metadata": {
      "needs_background": "light"
     },
     "output_type": "display_data"
    }
   ],
   "source": [
    "a = nltk.FreqDist(HT_negative)\n",
    "d = pd.DataFrame({'Hashtag': list(a.keys()),\n",
    "                  'Count': list(a.values())})\n",
    "\n",
    "# selecting top 20 most frequent hashtags     \n",
    "d = d.nlargest(columns=\"Count\", n = 20) \n",
    "plt.figure(figsize=(16,5))\n",
    "ax = sns.barplot(data=d, x= \"Hashtag\", y = \"Count\")\n",
    "ax.set(ylabel = 'Count')\n",
    "plt.show()"
   ]
  },
  {
   "cell_type": "markdown",
   "metadata": {},
   "source": [
    "### Inference :\n",
    "#sxsw is the most used hashtag in Negative (0) sentiment as compared to other 149 hashtags \n",
    "#It has been used 450 times "
   ]
  },
  {
   "cell_type": "markdown",
   "metadata": {},
   "source": [
    "### Hashtags used in tweets respective to Sentiment: Neutral(1)"
   ]
  },
  {
   "cell_type": "code",
   "execution_count": 444,
   "metadata": {},
   "outputs": [],
   "source": [
    "HT_neutral = hashtag_extract(train2['tweet'][train2['sentiment'] == 1])"
   ]
  },
  {
   "cell_type": "code",
   "execution_count": 445,
   "metadata": {},
   "outputs": [
    {
     "data": {
      "text/plain": [
       "4311"
      ]
     },
     "execution_count": 445,
     "metadata": {},
     "output_type": "execute_result"
    }
   ],
   "source": [
    "len(HT_neutral) # total number of hashtags"
   ]
  },
  {
   "cell_type": "code",
   "execution_count": 448,
   "metadata": {},
   "outputs": [
    {
     "name": "stdout",
     "output_type": "stream",
     "text": [
      "953\n"
     ]
    }
   ],
   "source": [
    "print(len(set(HT_neutral)))  # Unique hashtags present in Neutral (1) sentiment"
   ]
  },
  {
   "cell_type": "code",
   "execution_count": 447,
   "metadata": {},
   "outputs": [],
   "source": [
    "#unnesting the list :\n",
    "HT_neutral = sum(HT_neutral,[])"
   ]
  },
  {
   "cell_type": "code",
   "execution_count": 449,
   "metadata": {},
   "outputs": [
    {
     "data": {
      "image/png": "[encoded data removed]",
      "text/plain": [
       "<Figure size 1152x360 with 1 Axes>"
      ]
     },
     "metadata": {
      "needs_background": "light"
     },
     "output_type": "display_data"
    }
   ],
   "source": [
    "a = nltk.FreqDist(HT_neutral)\n",
    "d = pd.DataFrame({'Hashtag': list(a.keys()),\n",
    "                  'Count': list(a.values())})\n",
    "\n",
    "# selecting top 20 most frequent hashtags     \n",
    "d = d.nlargest(columns=\"Count\", n = 20) \n",
    "plt.figure(figsize=(16,5))\n",
    "ax = sns.barplot(data=d, x= \"Hashtag\", y = \"Count\")\n",
    "ax.set(ylabel = 'Count')\n",
    "plt.show()"
   ]
  },
  {
   "cell_type": "markdown",
   "metadata": {},
   "source": [
    "### Inference :\n",
    "sxsw is the most used hashtag in Neutral (1) sentiment as compared to other 952 hashtags"
   ]
  },
  {
   "cell_type": "markdown",
   "metadata": {},
   "source": [
    "### Hashtags used in tweets respective to Sentiment: Positive(1)"
   ]
  },
  {
   "cell_type": "code",
   "execution_count": 450,
   "metadata": {},
   "outputs": [],
   "source": [
    "HT_positive = hashtag_extract(train2['tweet'][train2['sentiment'] == 2])"
   ]
  },
  {
   "cell_type": "code",
   "execution_count": 451,
   "metadata": {},
   "outputs": [],
   "source": [
    "#unnesting the list :\n",
    "HT_positive = sum(HT_positive,[])"
   ]
  },
  {
   "cell_type": "code",
   "execution_count": 452,
   "metadata": {},
   "outputs": [
    {
     "data": {
      "text/plain": [
       "4009"
      ]
     },
     "execution_count": 452,
     "metadata": {},
     "output_type": "execute_result"
    }
   ],
   "source": [
    "len(HT_positive) # total number of hashtags"
   ]
  },
  {
   "cell_type": "code",
   "execution_count": 453,
   "metadata": {},
   "outputs": [
    {
     "name": "stdout",
     "output_type": "stream",
     "text": [
      "550\n"
     ]
    }
   ],
   "source": [
    "print(len(set(HT_positive)))  # Unique hashtags present in Negative (0) sentiment"
   ]
  },
  {
   "cell_type": "code",
   "execution_count": 454,
   "metadata": {},
   "outputs": [
    {
     "data": {
      "image/png": "[encoded data removed]",
      "text/plain": [
       "<Figure size 1152x360 with 1 Axes>"
      ]
     },
     "metadata": {
      "needs_background": "light"
     },
     "output_type": "display_data"
    }
   ],
   "source": [
    "a = nltk.FreqDist(HT_positive)\n",
    "d = pd.DataFrame({'Hashtag': list(a.keys()),\n",
    "                  'Count': list(a.values())})\n",
    "\n",
    "# selecting top 20 most frequent hashtags     \n",
    "d = d.nlargest(columns=\"Count\", n = 20) \n",
    "plt.figure(figsize=(16,5))\n",
    "ax = sns.barplot(data=d, x= \"Hashtag\", y = \"Count\")\n",
    "ax.set(ylabel = 'Count')\n",
    "plt.show()"
   ]
  },
  {
   "cell_type": "markdown",
   "metadata": {},
   "source": [
    "### Inference:\n",
    "sxsw is the most used hashtag in positive (2) sentiment as compared to other 549 hashtags"
   ]
  },
  {
   "cell_type": "markdown",
   "metadata": {},
   "source": [
    "### 4.7.2 : Number of  @ & their impact on Sentiment :"
   ]
  },
  {
   "cell_type": "code",
   "execution_count": 455,
   "metadata": {},
   "outputs": [],
   "source": [
    "train2['mention_cnt']=lower_ls.map(lambda x: x.count('@'))"
   ]
  },
  {
   "cell_type": "code",
   "execution_count": 456,
   "metadata": {},
   "outputs": [
    {
     "data": {
      "text/html": [
       "<div>\n",
       "<style scoped>\n",
       "    .dataframe tbody tr th:only-of-type {\n",
       "        vertical-align: middle;\n",
       "    }\n",
       "\n",
       "    .dataframe tbody tr th {\n",
       "        vertical-align: top;\n",
       "    }\n",
       "\n",
       "    .dataframe thead th {\n",
       "        text-align: right;\n",
       "    }\n",
       "</style>\n",
       "<table border=\"1\" class=\"dataframe\">\n",
       "  <thead>\n",
       "    <tr style=\"text-align: right;\">\n",
       "      <th></th>\n",
       "      <th>tweet</th>\n",
       "      <th>mention_cnt</th>\n",
       "    </tr>\n",
       "  </thead>\n",
       "  <tbody>\n",
       "    <tr>\n",
       "      <th>0</th>\n",
       "      <td>#sxswnui #sxsw #apple defining language of tou...</td>\n",
       "      <td>0</td>\n",
       "    </tr>\n",
       "    <tr>\n",
       "      <th>1</th>\n",
       "      <td>learning ab google doodles! all doodles should...</td>\n",
       "      <td>0</td>\n",
       "    </tr>\n",
       "    <tr>\n",
       "      <th>2</th>\n",
       "      <td>one of the most in-your-face ex. of stealing t...</td>\n",
       "      <td>1</td>\n",
       "    </tr>\n",
       "    <tr>\n",
       "      <th>3</th>\n",
       "      <td>this iphone #sxsw app would b pretty awesome i...</td>\n",
       "      <td>0</td>\n",
       "    </tr>\n",
       "    <tr>\n",
       "      <th>4</th>\n",
       "      <td>line outside the apple store in austin waiting...</td>\n",
       "      <td>0</td>\n",
       "    </tr>\n",
       "  </tbody>\n",
       "</table>\n",
       "</div>"
      ],
      "text/plain": [
       "                                               tweet  mention_cnt\n",
       "0  #sxswnui #sxsw #apple defining language of tou...            0\n",
       "1  learning ab google doodles! all doodles should...            0\n",
       "2  one of the most in-your-face ex. of stealing t...            1\n",
       "3  this iphone #sxsw app would b pretty awesome i...            0\n",
       "4  line outside the apple store in austin waiting...            0"
      ]
     },
     "execution_count": 456,
     "metadata": {},
     "output_type": "execute_result"
    }
   ],
   "source": [
    "train2[['tweet','mention_cnt']].head()"
   ]
  },
  {
   "cell_type": "code",
   "execution_count": 457,
   "metadata": {},
   "outputs": [
    {
     "data": {
      "text/plain": [
       "7274"
      ]
     },
     "execution_count": 457,
     "metadata": {},
     "output_type": "execute_result"
    }
   ],
   "source": [
    "len(train2['mention_cnt'])"
   ]
  },
  {
   "cell_type": "code",
   "execution_count": 458,
   "metadata": {},
   "outputs": [
    {
     "name": "stdout",
     "output_type": "stream",
     "text": [
      "sentiment\n",
      "0     252\n",
      "1    3667\n",
      "2    1763\n",
      "3      80\n",
      "Name: mention_cnt, dtype: int64\n"
     ]
    }
   ],
   "source": [
    "mention_count_tweet=(train2['mention_cnt'].groupby(train2['sentiment']).sum())\n",
    "print(mention_count_tweet)"
   ]
  },
  {
   "cell_type": "code",
   "execution_count": 459,
   "metadata": {},
   "outputs": [
    {
     "data": {
      "text/plain": [
       "Text(0, 0.5, 'Total @ used (sum)')"
      ]
     },
     "execution_count": 459,
     "metadata": {},
     "output_type": "execute_result"
    },
    {
     "data": {
      "image/png": "[encoded data removed]",
      "text/plain": [
       "<Figure size 842.4x667.44 with 1 Axes>"
      ]
     },
     "metadata": {
      "needs_background": "light"
     },
     "output_type": "display_data"
    }
   ],
   "source": [
    "ax = plt.subplots(figsize=(11.7, 9.27))\n",
    "mention_count_tweet.plot.bar()\n",
    "plt.xlabel(\"sentiment\")\n",
    "plt.ylabel(\"Total @ used (sum)\")"
   ]
  },
  {
   "cell_type": "markdown",
   "metadata": {},
   "source": [
    "### Inference :\n",
    "Mostly @mentions are used in Neutral(1) and then in Positive(2)"
   ]
  },
  {
   "cell_type": "markdown",
   "metadata": {},
   "source": [
    "### 4.7.3 : Number of RT & their impact on Sentiment :"
   ]
  },
  {
   "cell_type": "code",
   "execution_count": 460,
   "metadata": {},
   "outputs": [],
   "source": [
    "train2['rt_cnt']=lower_ls.map(lambda x: x.count('rt'))"
   ]
  },
  {
   "cell_type": "code",
   "execution_count": 461,
   "metadata": {},
   "outputs": [
    {
     "data": {
      "text/plain": [
       "7274"
      ]
     },
     "execution_count": 461,
     "metadata": {},
     "output_type": "execute_result"
    }
   ],
   "source": [
    "len(train2['rt_cnt'])"
   ]
  },
  {
   "cell_type": "code",
   "execution_count": 462,
   "metadata": {},
   "outputs": [
    {
     "name": "stdout",
     "output_type": "stream",
     "text": [
      "sentiment\n",
      "0     108\n",
      "1    1466\n",
      "2     768\n",
      "3      27\n",
      "Name: rt_cnt, dtype: int64\n"
     ]
    }
   ],
   "source": [
    "rt_count_tweet=(train2['rt_cnt'].groupby(train2['sentiment']).sum())\n",
    "print(rt_count_tweet)"
   ]
  },
  {
   "cell_type": "code",
   "execution_count": 463,
   "metadata": {},
   "outputs": [
    {
     "data": {
      "text/plain": [
       "Text(0, 0.5, 'Total number of RT used(sum)')"
      ]
     },
     "execution_count": 463,
     "metadata": {},
     "output_type": "execute_result"
    },
    {
     "data": {
      "image/png": "[encoded data removed]",
      "text/plain": [
       "<Figure size 842.4x667.44 with 1 Axes>"
      ]
     },
     "metadata": {
      "needs_background": "light"
     },
     "output_type": "display_data"
    }
   ],
   "source": [
    "ax = plt.subplots(figsize=(11.7, 9.27))\n",
    "rt_count_tweet.plot.bar()\n",
    "plt.xlabel(\"sentiment\")\n",
    "plt.ylabel(\"Total number of RT used(sum)\")"
   ]
  },
  {
   "cell_type": "markdown",
   "metadata": {},
   "source": [
    "### Inference:\n",
    "Mostly @mentions are used in Neutral(1) and then in Positive(2)"
   ]
  },
  {
   "cell_type": "markdown",
   "metadata": {},
   "source": [
    "## 4.8 Number of numerics & its impact on Sentiment :"
   ]
  },
  {
   "cell_type": "code",
   "execution_count": 464,
   "metadata": {},
   "outputs": [
    {
     "data": {
      "text/html": [
       "<div>\n",
       "<style scoped>\n",
       "    .dataframe tbody tr th:only-of-type {\n",
       "        vertical-align: middle;\n",
       "    }\n",
       "\n",
       "    .dataframe tbody tr th {\n",
       "        vertical-align: top;\n",
       "    }\n",
       "\n",
       "    .dataframe thead th {\n",
       "        text-align: right;\n",
       "    }\n",
       "</style>\n",
       "<table border=\"1\" class=\"dataframe\">\n",
       "  <thead>\n",
       "    <tr style=\"text-align: right;\">\n",
       "      <th></th>\n",
       "      <th>tweet</th>\n",
       "      <th>numerics</th>\n",
       "    </tr>\n",
       "  </thead>\n",
       "  <tbody>\n",
       "    <tr>\n",
       "      <th>0</th>\n",
       "      <td>#sxswnui #sxsw #apple defining language of tou...</td>\n",
       "      <td>0</td>\n",
       "    </tr>\n",
       "    <tr>\n",
       "      <th>1</th>\n",
       "      <td>learning ab google doodles! all doodles should...</td>\n",
       "      <td>0</td>\n",
       "    </tr>\n",
       "    <tr>\n",
       "      <th>2</th>\n",
       "      <td>one of the most in-your-face ex. of stealing t...</td>\n",
       "      <td>0</td>\n",
       "    </tr>\n",
       "    <tr>\n",
       "      <th>3</th>\n",
       "      <td>this iphone #sxsw app would b pretty awesome i...</td>\n",
       "      <td>0</td>\n",
       "    </tr>\n",
       "    <tr>\n",
       "      <th>4</th>\n",
       "      <td>line outside the apple store in austin waiting...</td>\n",
       "      <td>0</td>\n",
       "    </tr>\n",
       "  </tbody>\n",
       "</table>\n",
       "</div>"
      ],
      "text/plain": [
       "                                               tweet  numerics\n",
       "0  #sxswnui #sxsw #apple defining language of tou...         0\n",
       "1  learning ab google doodles! all doodles should...         0\n",
       "2  one of the most in-your-face ex. of stealing t...         0\n",
       "3  this iphone #sxsw app would b pretty awesome i...         0\n",
       "4  line outside the apple store in austin waiting...         0"
      ]
     },
     "execution_count": 464,
     "metadata": {},
     "output_type": "execute_result"
    }
   ],
   "source": [
    "train2['numerics'] = train2['tweet'].apply(lambda x: len([x for x in x.split() if x.isdigit()]))\n",
    "train2[['tweet','numerics']].head()"
   ]
  },
  {
   "cell_type": "code",
   "execution_count": 465,
   "metadata": {},
   "outputs": [
    {
     "data": {
      "text/plain": [
       "array([0, 1, 2, 3, 5])"
      ]
     },
     "execution_count": 465,
     "metadata": {},
     "output_type": "execute_result"
    }
   ],
   "source": [
    "train2['numerics'].unique()"
   ]
  },
  {
   "cell_type": "code",
   "execution_count": 466,
   "metadata": {
    "scrolled": true
   },
   "outputs": [
    {
     "data": {
      "text/plain": [
       "5"
      ]
     },
     "execution_count": 466,
     "metadata": {},
     "output_type": "execute_result"
    }
   ],
   "source": [
    "train2['numerics'].nunique()"
   ]
  },
  {
   "cell_type": "code",
   "execution_count": 467,
   "metadata": {
    "scrolled": true
   },
   "outputs": [
    {
     "data": {
      "text/plain": [
       "7274"
      ]
     },
     "execution_count": 467,
     "metadata": {},
     "output_type": "execute_result"
    }
   ],
   "source": [
    "len(train2['numerics'])"
   ]
  },
  {
   "cell_type": "code",
   "execution_count": 468,
   "metadata": {},
   "outputs": [],
   "source": [
    "mask = train2['numerics'].where(train2['numerics']!=0)"
   ]
  },
  {
   "cell_type": "code",
   "execution_count": 469,
   "metadata": {},
   "outputs": [
    {
     "data": {
      "text/plain": [
       "array([nan,  1.,  2.,  3.,  5.])"
      ]
     },
     "execution_count": 469,
     "metadata": {},
     "output_type": "execute_result"
    }
   ],
   "source": [
    "mask.unique()"
   ]
  },
  {
   "cell_type": "code",
   "execution_count": 470,
   "metadata": {},
   "outputs": [
    {
     "name": "stdout",
     "output_type": "stream",
     "text": [
      "sentiment\n",
      "0     57\n",
      "1    628\n",
      "2    398\n",
      "3     18\n",
      "Name: numerics, dtype: int64\n"
     ]
    }
   ],
   "source": [
    "num_count_tweet=(mask.groupby(train2['sentiment']).count())\n",
    "print(num_count_tweet)"
   ]
  },
  {
   "cell_type": "code",
   "execution_count": 471,
   "metadata": {},
   "outputs": [
    {
     "data": {
      "text/plain": [
       "Text(0, 0.5, 'Total numerics count (numerics=1,2,3,5)')"
      ]
     },
     "execution_count": 471,
     "metadata": {},
     "output_type": "execute_result"
    },
    {
     "data": {
      "image/png": "[encoded data removed]",
      "text/plain": [
       "<Figure size 842.4x667.44 with 1 Axes>"
      ]
     },
     "metadata": {
      "needs_background": "light"
     },
     "output_type": "display_data"
    }
   ],
   "source": [
    "ax = plt.subplots(figsize=(11.7, 9.27))\n",
    "num_count_tweet.plot.bar()\n",
    "plt.xlabel(\"sentiment\")\n",
    "plt.ylabel(\"Total numerics count (numerics=1,2,3,5)\")"
   ]
  },
  {
   "cell_type": "code",
   "execution_count": 472,
   "metadata": {
    "scrolled": true
   },
   "outputs": [
    {
     "data": {
      "text/html": [
       "<div>\n",
       "<style scoped>\n",
       "    .dataframe tbody tr th:only-of-type {\n",
       "        vertical-align: middle;\n",
       "    }\n",
       "\n",
       "    .dataframe tbody tr th {\n",
       "        vertical-align: top;\n",
       "    }\n",
       "\n",
       "    .dataframe thead tr th {\n",
       "        text-align: left;\n",
       "    }\n",
       "\n",
       "    .dataframe thead tr:last-of-type th {\n",
       "        text-align: right;\n",
       "    }\n",
       "</style>\n",
       "<table border=\"1\" class=\"dataframe\">\n",
       "  <thead>\n",
       "    <tr>\n",
       "      <th></th>\n",
       "      <th colspan=\"4\" halign=\"left\">numerics</th>\n",
       "    </tr>\n",
       "    <tr>\n",
       "      <th>numerics</th>\n",
       "      <th>1.0</th>\n",
       "      <th>2.0</th>\n",
       "      <th>3.0</th>\n",
       "      <th>5.0</th>\n",
       "    </tr>\n",
       "    <tr>\n",
       "      <th>sentiment</th>\n",
       "      <th></th>\n",
       "      <th></th>\n",
       "      <th></th>\n",
       "      <th></th>\n",
       "    </tr>\n",
       "  </thead>\n",
       "  <tbody>\n",
       "    <tr>\n",
       "      <th>0</th>\n",
       "      <td>52</td>\n",
       "      <td>4</td>\n",
       "      <td>1</td>\n",
       "      <td>0</td>\n",
       "    </tr>\n",
       "    <tr>\n",
       "      <th>1</th>\n",
       "      <td>568</td>\n",
       "      <td>51</td>\n",
       "      <td>8</td>\n",
       "      <td>1</td>\n",
       "    </tr>\n",
       "    <tr>\n",
       "      <th>2</th>\n",
       "      <td>361</td>\n",
       "      <td>31</td>\n",
       "      <td>6</td>\n",
       "      <td>0</td>\n",
       "    </tr>\n",
       "    <tr>\n",
       "      <th>3</th>\n",
       "      <td>14</td>\n",
       "      <td>4</td>\n",
       "      <td>0</td>\n",
       "      <td>0</td>\n",
       "    </tr>\n",
       "  </tbody>\n",
       "</table>\n",
       "</div>"
      ],
      "text/plain": [
       "          numerics            \n",
       "numerics       1.0 2.0 3.0 5.0\n",
       "sentiment                     \n",
       "0               52   4   1   0\n",
       "1              568  51   8   1\n",
       "2              361  31   6   0\n",
       "3               14   4   0   0"
      ]
     },
     "execution_count": 472,
     "metadata": {},
     "output_type": "execute_result"
    }
   ],
   "source": [
    "train2.pivot_table(index='sentiment', columns=train2['numerics'].where(train2['numerics']!=0), aggfunc={'numerics':len}, fill_value=0)"
   ]
  },
  {
   "cell_type": "markdown",
   "metadata": {},
   "source": [
    "### Inference:\n",
    "#Neutral(1) has maximum numerics count=628\n",
    "#Positive (2) has numeric count=398\n",
    "#we can consider it like rating as values are between (1(poor),2(average),3(good) & 5(perfect))\n"
   ]
  },
  {
   "cell_type": "markdown",
   "metadata": {},
   "source": [
    "## 4.9 Number of nouns & its impact on Sentiment:"
   ]
  },
  {
   "cell_type": "code",
   "execution_count": 473,
   "metadata": {},
   "outputs": [],
   "source": [
    "tweet_ls = train2['tweet'].apply(lambda x: str(x).split())\n",
    "nouns_ls=tweet_ls.apply(lambda x: [i[0] for i in nltk.pos_tag(x) if i[1] in ['NN','NNS','NNP','NNPS']])\n",
    "train2['nouns']=nouns_ls.map(lambda x: len(x))"
   ]
  },
  {
   "cell_type": "code",
   "execution_count": 474,
   "metadata": {},
   "outputs": [
    {
     "name": "stdout",
     "output_type": "stream",
     "text": [
      "sentiment\n",
      "0    7.289474\n",
      "1    7.900255\n",
      "2    7.823678\n",
      "3    7.432000\n",
      "Name: nouns, dtype: float64\n"
     ]
    }
   ],
   "source": [
    "noun_mean_tweet=(train2['nouns'].groupby(train2['sentiment']).mean())\n",
    "print(noun_mean_tweet)"
   ]
  },
  {
   "cell_type": "code",
   "execution_count": 475,
   "metadata": {},
   "outputs": [
    {
     "name": "stdout",
     "output_type": "stream",
     "text": [
      "sentiment\n",
      "0     5.837006\n",
      "1    59.806487\n",
      "2    32.725166\n",
      "3     1.631341\n",
      "Name: nouns, dtype: float64\n"
     ]
    }
   ],
   "source": [
    "noun_percentage_tweet=((train2['nouns'].groupby(train2['sentiment']).sum())/train2['nouns'].sum())*100\n",
    "print(noun_percentage_tweet)"
   ]
  },
  {
   "cell_type": "code",
   "execution_count": 476,
   "metadata": {},
   "outputs": [
    {
     "name": "stdout",
     "output_type": "stream",
     "text": [
      "sentiment\n",
      "0     3324\n",
      "1    34058\n",
      "2    18636\n",
      "3      929\n",
      "Name: nouns, dtype: int64\n"
     ]
    }
   ],
   "source": [
    "noun_sum_tweet=(train2['nouns'].groupby(train2['sentiment']).sum())\n",
    "print(noun_sum_tweet)"
   ]
  },
  {
   "cell_type": "code",
   "execution_count": 477,
   "metadata": {},
   "outputs": [
    {
     "data": {
      "text/plain": [
       "56947"
      ]
     },
     "execution_count": 477,
     "metadata": {},
     "output_type": "execute_result"
    }
   ],
   "source": [
    "noun_sum_tweet.sum()"
   ]
  },
  {
   "cell_type": "code",
   "execution_count": 478,
   "metadata": {
    "scrolled": true
   },
   "outputs": [
    {
     "data": {
      "text/plain": [
       "Text(0, 0.5, 'Total nouns  (sum)')"
      ]
     },
     "execution_count": 478,
     "metadata": {},
     "output_type": "execute_result"
    },
    {
     "data": {
      "image/png": "[encoded data removed]",
      "text/plain": [
       "<Figure size 842.4x667.44 with 1 Axes>"
      ]
     },
     "metadata": {
      "needs_background": "light"
     },
     "output_type": "display_data"
    }
   ],
   "source": [
    "ax = plt.subplots(figsize=(11.7, 9.27))\n",
    "noun_sum_tweet.plot.bar()\n",
    "plt.xlabel(\"sentiment\")\n",
    "plt.ylabel(\"Total nouns  (sum)\")"
   ]
  },
  {
   "cell_type": "markdown",
   "metadata": {},
   "source": [
    "## 4.10 Number of verbs & their impact on sentiment :\n"
   ]
  },
  {
   "cell_type": "code",
   "execution_count": 479,
   "metadata": {},
   "outputs": [],
   "source": [
    "verb_ls=tweet_ls.apply(lambda x: [i[0] for i in nltk.pos_tag(x) if i[1] in ['VB','VBD','VBG','VBN','VBP','VBZ']])\n",
    "train2['verbs']=verb_ls.map(lambda x: len(x))"
   ]
  },
  {
   "cell_type": "code",
   "execution_count": 480,
   "metadata": {},
   "outputs": [
    {
     "name": "stdout",
     "output_type": "stream",
     "text": [
      "sentiment\n",
      "0    3.094298\n",
      "1    2.399675\n",
      "2    2.582284\n",
      "3    2.584000\n",
      "Name: verbs, dtype: float64\n"
     ]
    }
   ],
   "source": [
    "verb_mean_tweet=(train2['verbs'].groupby(train2['sentiment']).mean())\n",
    "print(verb_mean_tweet)"
   ]
  },
  {
   "cell_type": "code",
   "execution_count": 481,
   "metadata": {},
   "outputs": [
    {
     "name": "stdout",
     "output_type": "stream",
     "text": [
      "sentiment\n",
      "0     7.739989\n",
      "1    56.747120\n",
      "2    33.741086\n",
      "3     1.771805\n",
      "Name: verbs, dtype: float64\n"
     ]
    }
   ],
   "source": [
    "verb_percentage_tweet=((train2['verbs'].groupby(train2['sentiment']).sum())/train2['verbs'].sum())*100\n",
    "print(verb_percentage_tweet)"
   ]
  },
  {
   "cell_type": "code",
   "execution_count": 482,
   "metadata": {},
   "outputs": [
    {
     "name": "stdout",
     "output_type": "stream",
     "text": [
      "sentiment\n",
      "0     1411\n",
      "1    10345\n",
      "2     6151\n",
      "3      323\n",
      "Name: verbs, dtype: int64\n"
     ]
    }
   ],
   "source": [
    "verb_sum_tweet=(train2['verbs'].groupby(train2['sentiment']).sum())\n",
    "print(verb_sum_tweet)"
   ]
  },
  {
   "cell_type": "code",
   "execution_count": 483,
   "metadata": {},
   "outputs": [
    {
     "data": {
      "text/plain": [
       "18230"
      ]
     },
     "execution_count": 483,
     "metadata": {},
     "output_type": "execute_result"
    }
   ],
   "source": [
    "verb_sum_tweet.sum()"
   ]
  },
  {
   "cell_type": "code",
   "execution_count": 484,
   "metadata": {},
   "outputs": [
    {
     "data": {
      "text/plain": [
       "Text(0, 0.5, 'Total verbs  (sum)')"
      ]
     },
     "execution_count": 484,
     "metadata": {},
     "output_type": "execute_result"
    },
    {
     "data": {
      "image/png": "[encoded data removed]",
      "text/plain": [
       "<Figure size 842.4x667.44 with 1 Axes>"
      ]
     },
     "metadata": {
      "needs_background": "light"
     },
     "output_type": "display_data"
    }
   ],
   "source": [
    "ax = plt.subplots(figsize=(11.7, 9.27))\n",
    "verb_sum_tweet.plot.bar()\n",
    "plt.xlabel(\"sentiment\")\n",
    "plt.ylabel(\"Total verbs  (sum)\")"
   ]
  },
  {
   "cell_type": "markdown",
   "metadata": {},
   "source": [
    "## 4.11 Number of adjectives & their impact on sentiments :"
   ]
  },
  {
   "cell_type": "code",
   "execution_count": 485,
   "metadata": {},
   "outputs": [],
   "source": [
    "adj_ls=tweet_ls.apply(lambda x: [i[0] for i in nltk.pos_tag(x) if i[1] in ['JJ','JJR','JJS']])\n",
    "train2['adjectives']=adj_ls.map(lambda x: len(x))"
   ]
  },
  {
   "cell_type": "code",
   "execution_count": 486,
   "metadata": {},
   "outputs": [
    {
     "name": "stdout",
     "output_type": "stream",
     "text": [
      "sentiment\n",
      "0    1.984649\n",
      "1    1.887497\n",
      "2    2.028547\n",
      "3    1.712000\n",
      "Name: adjectives, dtype: float64\n"
     ]
    }
   ],
   "source": [
    "adj_mean_tweet=(train2['adjectives'].groupby(train2['sentiment']).mean())\n",
    "print(adj_mean_tweet)"
   ]
  },
  {
   "cell_type": "code",
   "execution_count": 487,
   "metadata": {},
   "outputs": [
    {
     "name": "stdout",
     "output_type": "stream",
     "text": [
      "sentiment\n",
      "0     6.423907\n",
      "1    57.758376\n",
      "2    34.298694\n",
      "3     1.519023\n",
      "Name: adjectives, dtype: float64\n"
     ]
    }
   ],
   "source": [
    "adj_percentage_tweet=((train2['adjectives'].groupby(train2['sentiment']).sum())/train2['adjectives'].sum())*100\n",
    "print(adj_percentage_tweet)"
   ]
  },
  {
   "cell_type": "code",
   "execution_count": 488,
   "metadata": {},
   "outputs": [
    {
     "name": "stdout",
     "output_type": "stream",
     "text": [
      "sentiment\n",
      "0     905\n",
      "1    8137\n",
      "2    4832\n",
      "3     214\n",
      "Name: adjectives, dtype: int64\n"
     ]
    }
   ],
   "source": [
    "adj_sum_tweet=(train2['adjectives'].groupby(train2['sentiment']).sum())\n",
    "print(adj_sum_tweet)"
   ]
  },
  {
   "cell_type": "code",
   "execution_count": 489,
   "metadata": {},
   "outputs": [
    {
     "data": {
      "text/plain": [
       "14088"
      ]
     },
     "execution_count": 489,
     "metadata": {},
     "output_type": "execute_result"
    }
   ],
   "source": [
    "adj_sum_tweet.sum()"
   ]
  },
  {
   "cell_type": "code",
   "execution_count": 490,
   "metadata": {},
   "outputs": [
    {
     "data": {
      "text/plain": [
       "Text(0, 0.5, 'Total adjectives  (sum)')"
      ]
     },
     "execution_count": 490,
     "metadata": {},
     "output_type": "execute_result"
    },
    {
     "data": {
      "image/png": "[encoded data removed]",
      "text/plain": [
       "<Figure size 842.4x667.44 with 1 Axes>"
      ]
     },
     "metadata": {
      "needs_background": "light"
     },
     "output_type": "display_data"
    }
   ],
   "source": [
    "ax = plt.subplots(figsize=(11.7, 9.27))\n",
    "adj_sum_tweet.plot.bar()\n",
    "plt.xlabel(\"sentiment\")\n",
    "plt.ylabel(\"Total adjectives  (sum)\")"
   ]
  },
  {
   "cell_type": "markdown",
   "metadata": {},
   "source": [
    "## Step 5 : Basic Text Pre Processing :"
   ]
  },
  {
   "cell_type": "markdown",
   "metadata": {},
   "source": [
    "### Basic Text Pre-processing of text data:\n",
    "Transforming emoticons into \"happy\" & \"sad \" in original tweet\n",
    "#Punctuation removal\n",
    "#Stopwords removal\n",
    "#Frequent words removal\n",
    "#Rare words removal\n",
    "#consecutive non ascii characters\n",
    "#Stemming\n",
    "#Lemmatization"
   ]
  },
  {
   "cell_type": "code",
   "execution_count": null,
   "metadata": {},
   "outputs": [],
   "source": [
    "pip install emoji"
   ]
  },
  {
   "cell_type": "markdown",
   "metadata": {},
   "source": [
    "## 5.1 Transforming Emoticons into \"happy\" & \"sad\":"
   ]
  },
  {
   "cell_type": "code",
   "execution_count": 586,
   "metadata": {},
   "outputs": [],
   "source": [
    "def replace_emoji(text):\n",
    "    emoji_ls_happy = []\n",
    "    emoji_ls_sad = []\n",
    "    text=text.replace(\".\",\"\")\n",
    "    word_split = text.split(\" \")\n",
    "    for w in word_split:\n",
    "        if w in emoticons_happy and w not in string.punctuation:\n",
    "            emoji_ls_happy.append(w)\n",
    "        if w in emoticons_sad and w not in string.punctuation:\n",
    "            emoji_ls_sad.append(w)\n",
    "    if len(emoji_ls_happy) != 0:\n",
    "        for i in emoji_ls_happy:\n",
    "            text=text.replace(i,\"happy\")\n",
    "    if len(emoji_ls_sad) != 0:\n",
    "        for i in emoji_ls_sad:\n",
    "            text=text.replace(i,\"sad\")\n",
    "    return text\n",
    "#train['tweet_emo']=train['tweet'].map(lambda x: replace_emoji(str(x)))"
   ]
  },
  {
   "cell_type": "code",
   "execution_count": 587,
   "metadata": {},
   "outputs": [],
   "source": [
    "train2['tweet']=train2['tweet'].map(lambda x: replace_emoji(str(x)))"
   ]
  },
  {
   "cell_type": "markdown",
   "metadata": {},
   "source": [
    "## 5.2 : Removal of Punctuations :"
   ]
  },
  {
   "cell_type": "code",
   "execution_count": 588,
   "metadata": {},
   "outputs": [
    {
     "data": {
      "text/plain": [
       "0    sxswnui sxsw apple defining language of touch ...\n",
       "1    learning ab google doodles all doodles should ...\n",
       "2    one of the most inyourface ex of stealing the ...\n",
       "3    this iphone sxsw app would b pretty awesome if...\n",
       "4    line outside the apple store in austin waiting...\n",
       "Name: clean_tweet, dtype: object"
      ]
     },
     "execution_count": 588,
     "metadata": {},
     "output_type": "execute_result"
    }
   ],
   "source": [
    "train2['clean_tweet'] = train2['tweet'].str.replace('[^\\w\\s]','')\n",
    "train2['clean_tweet'].head()"
   ]
  },
  {
   "cell_type": "markdown",
   "metadata": {},
   "source": [
    "### Inference :\n",
    "#we have removed punctuation, as it doesn’t add any extra information while treating text data. \n",
    "#Therefore removing all instances of it will help us reduce the size of the training data.\n",
    "#all the punctuation, including ‘#’ and ‘@’, has been removed from the training data."
   ]
  },
  {
   "cell_type": "markdown",
   "metadata": {},
   "source": [
    "## 5.3: Removal of StopWords:"
   ]
  },
  {
   "cell_type": "code",
   "execution_count": 589,
   "metadata": {},
   "outputs": [
    {
     "data": {
      "text/plain": [
       "0    sxswnui sxsw apple defining language touch dif...\n",
       "1    learning ab google doodles doodles light funny...\n",
       "2    one inyourface ex stealing show yrs rt mention...\n",
       "3    iphone sxsw app would b pretty awesome didnt c...\n",
       "4    line outside apple store austin waiting new ip...\n",
       "Name: clean_tweet, dtype: object"
      ]
     },
     "execution_count": 589,
     "metadata": {},
     "output_type": "execute_result"
    }
   ],
   "source": [
    "from nltk.corpus import stopwords\n",
    "stop = stopwords.words('english')\n",
    "train2['clean_tweet'] = train2['clean_tweet'].apply(lambda x: \" \".join(x for x in x.split() if x not in stop))\n",
    "train2['clean_tweet'].head()"
   ]
  },
  {
   "cell_type": "markdown",
   "metadata": {},
   "source": [
    "## 5.4: Removal of Common/frequent Words:"
   ]
  },
  {
   "cell_type": "code",
   "execution_count": 590,
   "metadata": {},
   "outputs": [],
   "source": [
    "freq = pd.Series(' '.join(train2['clean_tweet']).split()).value_counts()[:10]"
   ]
  },
  {
   "cell_type": "code",
   "execution_count": 591,
   "metadata": {},
   "outputs": [
    {
     "name": "stdout",
     "output_type": "stream",
     "text": [
      "sxsw       7540\n",
      "mention    5512\n",
      "link       3427\n",
      "rt         2344\n",
      "ipad       1912\n",
      "google     1862\n",
      "apple      1729\n",
      "iphone     1215\n",
      "store      1188\n",
      "new         862\n",
      "dtype: int64\n"
     ]
    }
   ],
   "source": [
    "print(freq)"
   ]
  },
  {
   "cell_type": "code",
   "execution_count": 592,
   "metadata": {},
   "outputs": [
    {
     "data": {
      "text/plain": [
       "0    sxswnui defining language touch different dial...\n",
       "1    learning ab doodles doodles light funny amp in...\n",
       "2    one inyourface ex stealing show yrs quotat sch...\n",
       "3    app would b pretty awesome didnt crash every 1...\n",
       "4                          line outside austin waiting\n",
       "Name: clean_tweet, dtype: object"
      ]
     },
     "execution_count": 592,
     "metadata": {},
     "output_type": "execute_result"
    }
   ],
   "source": [
    "#Now, let’s remove these words as their presence will not of any use in classification of our text data.\n",
    "freq = list(freq.index)\n",
    "train2['clean_tweet'] = train2['clean_tweet'].apply(lambda x: \" \".join(x for x in x.split() if x not in freq))\n",
    "train2['clean_tweet'].head()"
   ]
  },
  {
   "cell_type": "markdown",
   "metadata": {},
   "source": [
    "### Inference :\n",
    "RT & mention has been removed through above code"
   ]
  },
  {
   "cell_type": "markdown",
   "metadata": {},
   "source": [
    "## 5.5 Removal of Rare words :"
   ]
  },
  {
   "cell_type": "code",
   "execution_count": 593,
   "metadata": {},
   "outputs": [],
   "source": [
    "freq = pd.Series(' '.join(train2['clean_tweet']).split()).value_counts()[-10:]"
   ]
  },
  {
   "cell_type": "code",
   "execution_count": 594,
   "metadata": {},
   "outputs": [
    {
     "name": "stdout",
     "output_type": "stream",
     "text": [
      "noh             1\n",
      "newly           1\n",
      "leh             1\n",
      "12bn            1\n",
      "ltjust          1\n",
      "pollak          1\n",
      "applefanatic    1\n",
      "indysaha        1\n",
      "yowza           1\n",
      "bob             1\n",
      "dtype: int64\n"
     ]
    }
   ],
   "source": [
    "print(freq)"
   ]
  },
  {
   "cell_type": "code",
   "execution_count": 595,
   "metadata": {},
   "outputs": [
    {
     "data": {
      "text/plain": [
       "0    sxswnui defining language touch different dial...\n",
       "1    learning ab doodles doodles light funny amp in...\n",
       "2    one inyourface ex stealing show yrs quotat sch...\n",
       "3    app would b pretty awesome didnt crash every 1...\n",
       "4                          line outside austin waiting\n",
       "Name: clean_tweet, dtype: object"
      ]
     },
     "execution_count": 595,
     "metadata": {},
     "output_type": "execute_result"
    }
   ],
   "source": [
    "freq = list(freq.index)\n",
    "train2['clean_tweet'] = train2['clean_tweet'].apply(lambda x: \" \".join(x for x in x.split() if x not in freq))\n",
    "train2['clean_tweet'].head()"
   ]
  },
  {
   "cell_type": "markdown",
   "metadata": {},
   "source": [
    "## 5.6 Stemming :"
   ]
  },
  {
   "cell_type": "code",
   "execution_count": 596,
   "metadata": {},
   "outputs": [],
   "source": [
    "from nltk.stem import PorterStemmer\n",
    "st = PorterStemmer()\n",
    "train2['stem_clean_tweet']=train2['clean_tweet'].apply(lambda x: \" \".join([st.stem(word) for word in x.split()]))"
   ]
  },
  {
   "cell_type": "code",
   "execution_count": 597,
   "metadata": {},
   "outputs": [
    {
     "data": {
      "text/plain": [
       "0    sxswnui defin languag touch differ dialect bec...\n",
       "1    learn ab doodl doodl light funni amp innov exc...\n",
       "2    one inyourfac ex steal show yr quotat school m...\n",
       "Name: stem_clean_tweet, dtype: object"
      ]
     },
     "execution_count": 597,
     "metadata": {},
     "output_type": "execute_result"
    }
   ],
   "source": [
    "train2['stem_clean_tweet'].head(3)"
   ]
  },
  {
   "cell_type": "markdown",
   "metadata": {},
   "source": [
    "## 5.7 : Lemmatization\n"
   ]
  },
  {
   "cell_type": "markdown",
   "metadata": {},
   "source": [
    "#Lemmatization is a more effective option than stemming because it converts the word into its root word, rather than \n",
    "just stripping the suffices. \n",
    "#It makes use of the vocabulary and does a morphological analysis to obtain the root word. \n",
    "#Therefore, we usually prefer using lemmatization over stemming."
   ]
  },
  {
   "cell_type": "code",
   "execution_count": 503,
   "metadata": {},
   "outputs": [
    {
     "data": {
      "text/plain": [
       "0    sxswnui define language touch different dialec...\n",
       "1    learn ab doodle doodle light funny amp innovat...\n",
       "2    one inyourface ex steal show yrs quotat school...\n",
       "3    app would b pretty awesome didnt crash every 1...\n",
       "4                             line outside austin wait\n",
       "Name: lem_clean_tweet, dtype: object"
      ]
     },
     "execution_count": 503,
     "metadata": {},
     "output_type": "execute_result"
    }
   ],
   "source": [
    "import textblob\n",
    "from textblob import TextBlob,Word\n",
    "train2['lem_clean_tweet'] = train2['clean_tweet'].apply(lambda x: \" \".join([Word(word).lemmatize(pos='v') for word in str(x).split()]))\n",
    "train2['lem_clean_tweet'].head()"
   ]
  },
  {
   "cell_type": "code",
   "execution_count": 504,
   "metadata": {
    "scrolled": true
   },
   "outputs": [
    {
     "name": "stdout",
     "output_type": "stream",
     "text": [
      "<class 'pandas.core.frame.DataFrame'>\n",
      "RangeIndex: 7274 entries, 0 to 7273\n",
      "Data columns (total 18 columns):\n",
      "tweet_id            7274 non-null int64\n",
      "tweet               7274 non-null object\n",
      "sentiment           7274 non-null int64\n",
      "upper               7274 non-null int64\n",
      "word_count          7274 non-null int64\n",
      "char_count          7274 non-null int64\n",
      "avg_word            7274 non-null float64\n",
      "stopwords           7274 non-null int64\n",
      "hashtag_cnt         7274 non-null int64\n",
      "mention_cnt         7274 non-null int64\n",
      "rt_cnt              7274 non-null int64\n",
      "numerics            7274 non-null int64\n",
      "nouns               7274 non-null int64\n",
      "verbs               7274 non-null int64\n",
      "adjectives          7274 non-null int64\n",
      "clean_tweet         7274 non-null object\n",
      "stem_clean_tweet    7274 non-null object\n",
      "lem_clean_tweet     7274 non-null object\n",
      "dtypes: float64(1), int64(13), object(4)\n",
      "memory usage: 1023.0+ KB\n"
     ]
    }
   ],
   "source": [
    "train2.info()"
   ]
  },
  {
   "cell_type": "markdown",
   "metadata": {},
   "source": [
    "## Removal of Non ASCII characters :"
   ]
  },
  {
   "cell_type": "code",
   "execution_count": 598,
   "metadata": {},
   "outputs": [],
   "source": [
    "train2['clean_tweet'] =train2['clean_tweet'].str.replace('[^\\x00-\\x7F]+',' ')"
   ]
  },
  {
   "cell_type": "markdown",
   "metadata": {},
   "source": [
    "## Step 6: Advanced Text processing :"
   ]
  },
  {
   "cell_type": "markdown",
   "metadata": {},
   "source": [
    "### 6.1:N-grams"
   ]
  },
  {
   "cell_type": "code",
   "execution_count": 505,
   "metadata": {
    "scrolled": true
   },
   "outputs": [],
   "source": [
    "import re\n",
    "from nltk.util import ngrams\n",
    "s=str(train2['clean_tweet'][0])\n",
    "s = s.lower()\n",
    "s = re.sub(r'[^a-zA-Z0-9\\s]', ' ', s)\n",
    "tokens = [token for token in s.split(\" \") if token != \"\"]\n",
    "output = list(ngrams(tokens, 2))"
   ]
  },
  {
   "cell_type": "code",
   "execution_count": 506,
   "metadata": {},
   "outputs": [
    {
     "data": {
      "text/plain": [
       "[('sxswnui', 'defining'),\n",
       " ('defining', 'language'),\n",
       " ('language', 'touch'),\n",
       " ('touch', 'different'),\n",
       " ('different', 'dialects'),\n",
       " ('dialects', 'becoming'),\n",
       " ('becoming', 'smaller')]"
      ]
     },
     "execution_count": 506,
     "metadata": {},
     "output_type": "execute_result"
    }
   ],
   "source": [
    "output"
   ]
  },
  {
   "cell_type": "code",
   "execution_count": 507,
   "metadata": {
    "scrolled": true
   },
   "outputs": [
    {
     "name": "stdout",
     "output_type": "stream",
     "text": [
      "                 Bigrams  Count\n",
      "0    (sxswnui, defining)      1\n",
      "1   (defining, language)      1\n",
      "2      (language, touch)      1\n",
      "3     (touch, different)      1\n",
      "4  (different, dialects)      1\n",
      "5   (dialects, becoming)      1\n",
      "6    (becoming, smaller)      1\n"
     ]
    },
    {
     "data": {
      "image/png": "[encoded data removed]",
      "text/plain": [
       "<Figure size 1152x360 with 1 Axes>"
      ]
     },
     "metadata": {
      "needs_background": "light"
     },
     "output_type": "display_data"
    }
   ],
   "source": [
    "a = nltk.FreqDist(output)\n",
    "d = pd.DataFrame({'Bigrams': list(a.keys()),\n",
    "                  'Count': list(a.values())})\n",
    "print(d)\n",
    "#word_popular_df['bigram_word'] = word_popular_df.W1 + \"  \" + word_popular_df.W2\n",
    "\n",
    "# selecting top 20 most frequent hashtags     \n",
    "d = d.nlargest(columns=\"Count\", n = 10) \n",
    "plt.figure(figsize=(16,5))\n",
    "ax = sns.barplot(data=d, x= \"Bigrams\", y = \"Count\")\n",
    "ax.set(ylabel = 'Count')\n",
    "plt.show()"
   ]
  },
  {
   "cell_type": "markdown",
   "metadata": {},
   "source": [
    "### 6.2 : Term Frequency "
   ]
  },
  {
   "cell_type": "markdown",
   "metadata": {},
   "source": [
    "#Term frequency is simply the ratio of the count of a word present in a sentence, to the length of the sentence.\n",
    "#Therefore, we can generalize term frequency as:\n",
    "\n",
    "TF = (Number of times term T appears in the particular row) / (number of terms in that row)"
   ]
  },
  {
   "cell_type": "code",
   "execution_count": null,
   "metadata": {},
   "outputs": [],
   "source": [
    "tf1 = (train2['clean_tweet'][1:2]).apply(lambda x: pd.value_counts(x.split(\" \"))).sum(axis = 0).reset_index()\n",
    "tf1.columns = ['words','tf']\n",
    "tf1"
   ]
  },
  {
   "cell_type": "markdown",
   "metadata": {},
   "source": [
    "### 6.3: Inverse Document Frequency "
   ]
  },
  {
   "cell_type": "markdown",
   "metadata": {},
   "source": [
    "The intuition behind inverse document frequency (IDF) is that a word is not of much use to us if it’s appearing in all the documents.\n",
    "\n",
    "Therefore, the IDF of each word is the log of the ratio of the total number of rows to the number of rows in which that word is present.\n",
    "\n",
    "IDF = log(N/n), where, N is the total number of rows and n is the number of rows in which the word was present."
   ]
  },
  {
   "cell_type": "code",
   "execution_count": null,
   "metadata": {},
   "outputs": [],
   "source": [
    "for i,word in enumerate(tf1['words']):\n",
    "  tf1.loc[i, 'idf'] = np.log(train2.shape[0]/(len(train2[train2['clean_tweet'].str.contains(word)])))\n"
   ]
  },
  {
   "cell_type": "code",
   "execution_count": null,
   "metadata": {},
   "outputs": [],
   "source": [
    "print(tf1)"
   ]
  },
  {
   "cell_type": "markdown",
   "metadata": {},
   "source": [
    "#### Inference:\n",
    "The more the value of IDF, the more unique is the word."
   ]
  },
  {
   "cell_type": "markdown",
   "metadata": {},
   "source": [
    "### 6.4 Term Frequency – Inverse Document Frequency (TF-IDF)\n",
    "\n"
   ]
  },
  {
   "cell_type": "markdown",
   "metadata": {},
   "source": [
    "TF-IDF is the multiplication of the TF and IDF which we calculated above."
   ]
  },
  {
   "cell_type": "code",
   "execution_count": 508,
   "metadata": {},
   "outputs": [
    {
     "data": {
      "text/html": [
       "<div>\n",
       "<style scoped>\n",
       "    .dataframe tbody tr th:only-of-type {\n",
       "        vertical-align: middle;\n",
       "    }\n",
       "\n",
       "    .dataframe tbody tr th {\n",
       "        vertical-align: top;\n",
       "    }\n",
       "\n",
       "    .dataframe thead th {\n",
       "        text-align: right;\n",
       "    }\n",
       "</style>\n",
       "<table border=\"1\" class=\"dataframe\">\n",
       "  <thead>\n",
       "    <tr style=\"text-align: right;\">\n",
       "      <th></th>\n",
       "      <th>words</th>\n",
       "      <th>tf</th>\n",
       "      <th>idf</th>\n",
       "      <th>tfidf</th>\n",
       "    </tr>\n",
       "  </thead>\n",
       "  <tbody>\n",
       "    <tr>\n",
       "      <th>0</th>\n",
       "      <td>doodles</td>\n",
       "      <td>2</td>\n",
       "      <td>5.801019</td>\n",
       "      <td>11.602038</td>\n",
       "    </tr>\n",
       "    <tr>\n",
       "      <th>1</th>\n",
       "      <td>funny</td>\n",
       "      <td>1</td>\n",
       "      <td>5.896329</td>\n",
       "      <td>5.896329</td>\n",
       "    </tr>\n",
       "    <tr>\n",
       "      <th>2</th>\n",
       "      <td>occasions</td>\n",
       "      <td>1</td>\n",
       "      <td>8.892062</td>\n",
       "      <td>8.892062</td>\n",
       "    </tr>\n",
       "    <tr>\n",
       "      <th>3</th>\n",
       "      <td>significant</td>\n",
       "      <td>1</td>\n",
       "      <td>8.892062</td>\n",
       "      <td>8.892062</td>\n",
       "    </tr>\n",
       "    <tr>\n",
       "      <th>4</th>\n",
       "      <td>innovative</td>\n",
       "      <td>1</td>\n",
       "      <td>7.793449</td>\n",
       "      <td>7.793449</td>\n",
       "    </tr>\n",
       "    <tr>\n",
       "      <th>5</th>\n",
       "      <td>light</td>\n",
       "      <td>1</td>\n",
       "      <td>4.687369</td>\n",
       "      <td>4.687369</td>\n",
       "    </tr>\n",
       "    <tr>\n",
       "      <th>6</th>\n",
       "      <td>ab</td>\n",
       "      <td>1</td>\n",
       "      <td>2.787268</td>\n",
       "      <td>2.787268</td>\n",
       "    </tr>\n",
       "    <tr>\n",
       "      <th>7</th>\n",
       "      <td>googledoodle</td>\n",
       "      <td>1</td>\n",
       "      <td>6.184011</td>\n",
       "      <td>6.184011</td>\n",
       "    </tr>\n",
       "    <tr>\n",
       "      <th>8</th>\n",
       "      <td>learning</td>\n",
       "      <td>1</td>\n",
       "      <td>6.327112</td>\n",
       "      <td>6.327112</td>\n",
       "    </tr>\n",
       "    <tr>\n",
       "      <th>9</th>\n",
       "      <td>exceptions</td>\n",
       "      <td>1</td>\n",
       "      <td>8.892062</td>\n",
       "      <td>8.892062</td>\n",
       "    </tr>\n",
       "    <tr>\n",
       "      <th>10</th>\n",
       "      <td>amp</td>\n",
       "      <td>1</td>\n",
       "      <td>2.349590</td>\n",
       "      <td>2.349590</td>\n",
       "    </tr>\n",
       "  </tbody>\n",
       "</table>\n",
       "</div>"
      ],
      "text/plain": [
       "           words  tf       idf      tfidf\n",
       "0        doodles   2  5.801019  11.602038\n",
       "1          funny   1  5.896329   5.896329\n",
       "2      occasions   1  8.892062   8.892062\n",
       "3    significant   1  8.892062   8.892062\n",
       "4     innovative   1  7.793449   7.793449\n",
       "5          light   1  4.687369   4.687369\n",
       "6             ab   1  2.787268   2.787268\n",
       "7   googledoodle   1  6.184011   6.184011\n",
       "8       learning   1  6.327112   6.327112\n",
       "9     exceptions   1  8.892062   8.892062\n",
       "10           amp   1  2.349590   2.349590"
      ]
     },
     "execution_count": 508,
     "metadata": {},
     "output_type": "execute_result"
    }
   ],
   "source": [
    "tf1['tfidf'] = tf1['tf'] * tf1['idf']\n",
    "tf1"
   ]
  },
  {
   "cell_type": "code",
   "execution_count": 509,
   "metadata": {},
   "outputs": [],
   "source": [
    "#sklearn has a separate function to directly obtain it\n",
    "from sklearn.feature_extraction.text import TfidfVectorizer\n",
    "tfidf = TfidfVectorizer(max_features=1000, lowercase=True, analyzer='word',\n",
    " stop_words= 'english',ngram_range=(1,1))\n",
    "train_vect = tfidf.fit_transform(train2['clean_tweet'])"
   ]
  },
  {
   "cell_type": "code",
   "execution_count": 510,
   "metadata": {},
   "outputs": [
    {
     "data": {
      "text/plain": [
       "<7274x1000 sparse matrix of type '<class 'numpy.float64'>'\n",
       "\twith 36622 stored elements in Compressed Sparse Row format>"
      ]
     },
     "execution_count": 510,
     "metadata": {},
     "output_type": "execute_result"
    }
   ],
   "source": [
    "train_vect"
   ]
  },
  {
   "cell_type": "code",
   "execution_count": 511,
   "metadata": {},
   "outputs": [
    {
     "data": {
      "text/plain": [
       "(7274, 1000)"
      ]
     },
     "execution_count": 511,
     "metadata": {},
     "output_type": "execute_result"
    }
   ],
   "source": [
    "train_vect.shape"
   ]
  },
  {
   "cell_type": "markdown",
   "metadata": {},
   "source": [
    "### 6.5 : Bag of words :"
   ]
  },
  {
   "cell_type": "code",
   "execution_count": null,
   "metadata": {},
   "outputs": [],
   "source": [
    "from sklearn.feature_extraction.text import CountVectorizer\n",
    "bow = CountVectorizer(max_features=1000, lowercase=True, ngram_range=(1,1),analyzer = \"word\")\n",
    "train_bow = bow.fit_transform(train2['clean_tweet'])\n",
    "train_bow"
   ]
  },
  {
   "cell_type": "markdown",
   "metadata": {},
   "source": [
    "### 6.6 Sentiment Analysis"
   ]
  },
  {
   "cell_type": "markdown",
   "metadata": {},
   "source": [
    "If you recall, our problem was to detect the sentiment of the tweet. So, before applying any ML/DL models (which can have a separate feature detecting the sentiment using the textblob library), let’s check the sentiment of the first few tweets."
   ]
  },
  {
   "cell_type": "code",
   "execution_count": null,
   "metadata": {},
   "outputs": [],
   "source": [
    "train2['clean_tweet'][:5].apply(lambda x: TextBlob(x).sentiment)"
   ]
  },
  {
   "cell_type": "markdown",
   "metadata": {},
   "source": [
    "Above, you can see that it returns a tuple representing polarity and subjectivity of each tweet. Here, we only extract polarity as it indicates the sentiment as value nearer to 1 means a positive sentiment and values nearer to -1 means a negative sentiment. This can also work as a feature for building a machine learning model."
   ]
  },
  {
   "cell_type": "code",
   "execution_count": null,
   "metadata": {},
   "outputs": [],
   "source": [
    "train2['sent_blob'] = train2['clean_tweet'].apply(lambda x: TextBlob(x).sentiment[0] )\n",
    "train2[['clean_tweet','sent_blob','sentiment']].head()"
   ]
  },
  {
   "cell_type": "markdown",
   "metadata": {},
   "source": [
    "## Step 7: Data Cleaning :"
   ]
  },
  {
   "cell_type": "code",
   "execution_count": null,
   "metadata": {},
   "outputs": [],
   "source": [
    "train2_final=train2.copy()"
   ]
  },
  {
   "cell_type": "markdown",
   "metadata": {},
   "source": [
    "### 7.1 Dropping one row where tweet has null value (tweet_id=6)"
   ]
  },
  {
   "cell_type": "code",
   "execution_count": null,
   "metadata": {
    "scrolled": true
   },
   "outputs": [],
   "source": [
    "train2_final.info()"
   ]
  },
  {
   "cell_type": "code",
   "execution_count": null,
   "metadata": {},
   "outputs": [],
   "source": [
    "data_insights_report(train2_final)"
   ]
  },
  {
   "cell_type": "code",
   "execution_count": null,
   "metadata": {},
   "outputs": [],
   "source": [
    "train2_final[train2_final.tweet_id==6]"
   ]
  },
  {
   "cell_type": "code",
   "execution_count": null,
   "metadata": {
    "scrolled": true
   },
   "outputs": [],
   "source": [
    "train2_final.shape"
   ]
  },
  {
   "cell_type": "markdown",
   "metadata": {},
   "source": [
    "### 7.2 Handling Duplicate Records :"
   ]
  },
  {
   "cell_type": "code",
   "execution_count": null,
   "metadata": {},
   "outputs": [],
   "source": [
    "dup_tweets=train2_final[train2_final['lem_clean_tweet'].duplicated()]"
   ]
  },
  {
   "cell_type": "code",
   "execution_count": null,
   "metadata": {
    "scrolled": false
   },
   "outputs": [],
   "source": [
    "len(dup_tweets)"
   ]
  },
  {
   "cell_type": "code",
   "execution_count": null,
   "metadata": {},
   "outputs": [],
   "source": [
    "len(dup_tweets)"
   ]
  },
  {
   "cell_type": "code",
   "execution_count": null,
   "metadata": {
    "scrolled": false
   },
   "outputs": [],
   "source": [
    "len(set(dup_tweets))"
   ]
  },
  {
   "cell_type": "markdown",
   "metadata": {},
   "source": [
    "### 7.3 deleting all records of sentiment can't say(3) from train dataset:"
   ]
  },
  {
   "cell_type": "code",
   "execution_count": null,
   "metadata": {},
   "outputs": [],
   "source": [
    "train2_final=train2_final[train2_final.sentiment !=3]"
   ]
  },
  {
   "cell_type": "code",
   "execution_count": null,
   "metadata": {},
   "outputs": [],
   "source": [
    "train2_final['sentiment'].unique()"
   ]
  },
  {
   "cell_type": "code",
   "execution_count": null,
   "metadata": {},
   "outputs": [],
   "source": [
    "train2.shape"
   ]
  },
  {
   "cell_type": "code",
   "execution_count": null,
   "metadata": {
    "scrolled": true
   },
   "outputs": [],
   "source": [
    "train2_final.shape"
   ]
  },
  {
   "cell_type": "code",
   "execution_count": null,
   "metadata": {},
   "outputs": [],
   "source": [
    "train3=train2_final.copy()"
   ]
  },
  {
   "cell_type": "markdown",
   "metadata": {},
   "source": [
    "# Step 8 Count Vectorizer : bow & tfidf"
   ]
  },
  {
   "cell_type": "markdown",
   "metadata": {},
   "source": [
    "### Bag Of Words : bow"
   ]
  },
  {
   "cell_type": "code",
   "execution_count": 512,
   "metadata": {},
   "outputs": [
    {
     "data": {
      "text/plain": [
       "(7274, 1000)"
      ]
     },
     "execution_count": 512,
     "metadata": {},
     "output_type": "execute_result"
    }
   ],
   "source": [
    "bow_vectorizer = CountVectorizer(max_df=0.90, min_df=2, max_features=1000, stop_words='english')\n",
    "bow = bow_vectorizer.fit_transform(train3['clean_tweet'])\n",
    "bow.shape"
   ]
  },
  {
   "cell_type": "code",
   "execution_count": 513,
   "metadata": {},
   "outputs": [],
   "source": [
    "train_bow = bow"
   ]
  },
  {
   "cell_type": "markdown",
   "metadata": {},
   "source": [
    "## Step 8: Splitting Train Data into train & test :"
   ]
  },
  {
   "cell_type": "code",
   "execution_count": 514,
   "metadata": {},
   "outputs": [],
   "source": [
    "# splitting data into training and validation set\n",
    "xtrain_bow, xvalid_bow, ytrain, yvalid = train_test_split(train_bow, train3['sentiment'],  \n",
    "                                                          random_state=42, \n",
    "                                                          test_size=0.3)"
   ]
  },
  {
   "cell_type": "markdown",
   "metadata": {},
   "source": [
    "## Step 9: Baseline Model :"
   ]
  },
  {
   "cell_type": "markdown",
   "metadata": {},
   "source": [
    "## Logistic Regression "
   ]
  },
  {
   "cell_type": "code",
   "execution_count": 515,
   "metadata": {},
   "outputs": [
    {
     "name": "stderr",
     "output_type": "stream",
     "text": [
      "//anaconda3/lib/python3.7/site-packages/sklearn/linear_model/_logistic.py:940: ConvergenceWarning: lbfgs failed to converge (status=1):\n",
      "STOP: TOTAL NO. of ITERATIONS REACHED LIMIT.\n",
      "\n",
      "Increase the number of iterations (max_iter) or scale the data as shown in:\n",
      "    https://scikit-learn.org/stable/modules/preprocessing.html\n",
      "Please also refer to the documentation for alternative solver options:\n",
      "    https://scikit-learn.org/stable/modules/linear_model.html#logistic-regression\n",
      "  extra_warning_msg=_LOGISTIC_SOLVER_CONVERGENCE_MSG)\n"
     ]
    }
   ],
   "source": [
    "logreg = LogisticRegression()\n",
    "logreg.fit(xtrain_bow, ytrain)\n",
    "Y_pred = logreg.predict(xvalid_bow)\n",
    "conf_matrix=confusion_matrix(yvalid, Y_pred)\n",
    "acc_log = round(accuracy_score(yvalid, Y_pred) * 100, 2)\n",
    "#prec_log= round(precision_score(yvalid, Y_pred) * 100, 2)\n",
    "F1_log = round(f1_score(yvalid,Y_pred,average='weighted')*100,2)\n",
    "#Recall_log = round(recall_score(yvalid,Y_pred)*100,2)"
   ]
  },
  {
   "cell_type": "code",
   "execution_count": 516,
   "metadata": {
    "scrolled": true
   },
   "outputs": [
    {
     "data": {
      "text/plain": [
       "62.57"
      ]
     },
     "execution_count": 516,
     "metadata": {},
     "output_type": "execute_result"
    }
   ],
   "source": [
    "F1_log"
   ]
  },
  {
   "cell_type": "markdown",
   "metadata": {},
   "source": [
    "## SVM :"
   ]
  },
  {
   "cell_type": "code",
   "execution_count": 517,
   "metadata": {},
   "outputs": [],
   "source": [
    "from sklearn import svm"
   ]
  },
  {
   "cell_type": "code",
   "execution_count": 518,
   "metadata": {},
   "outputs": [],
   "source": [
    "svc = svm.SVC()\n",
    "svc.fit(xtrain_bow, ytrain)\n",
    "Y_pred = svc.predict(xvalid_bow)\n",
    "#acc_svc = round(accuracy_score(Y_test, Y_pred) * 100, 2)\n",
    "#prec_svc=round(precision_score(Y_test, Y_pred) * 100, 2)\n",
    "F1_svc = round(f1_score(yvalid, Y_pred,average='weighted')*100,2)\n",
    "#Recall_svc = round(recall_score(Y_test,Y_pred)*100,2)"
   ]
  },
  {
   "cell_type": "code",
   "execution_count": 519,
   "metadata": {},
   "outputs": [
    {
     "data": {
      "text/plain": [
       "62.47"
      ]
     },
     "execution_count": 519,
     "metadata": {},
     "output_type": "execute_result"
    }
   ],
   "source": [
    "F1_svc"
   ]
  },
  {
   "cell_type": "markdown",
   "metadata": {},
   "source": [
    "## Random Forest "
   ]
  },
  {
   "cell_type": "code",
   "execution_count": 520,
   "metadata": {},
   "outputs": [],
   "source": [
    "# Random Forest\n",
    "\n",
    "random_forest = RandomForestClassifier(n_estimators=100)\n",
    "random_forest.fit(xtrain_bow, ytrain)\n",
    "Y_pred = random_forest.predict(xvalid_bow)\n",
    "#random_forest.score(yvalid, Y_pred)\n",
    "#acc_random_forest = round(accuracy_score(Y_test, Y_pred) * 100, 2)\n",
    "#prec_random_forest=round(precision_score(Y_test, Y_pred) * 100, 2)\n",
    "F1_random_forest = round(f1_score(yvalid, Y_pred,average='weighted')*100,2)\n",
    "#Recall_random_forest = round(recall_score(Y_test,Y_pred)*100,2)\n",
    "\n"
   ]
  },
  {
   "cell_type": "code",
   "execution_count": 521,
   "metadata": {},
   "outputs": [
    {
     "data": {
      "text/plain": [
       "62.66"
      ]
     },
     "execution_count": 521,
     "metadata": {},
     "output_type": "execute_result"
    }
   ],
   "source": [
    "F1_random_forest"
   ]
  },
  {
   "cell_type": "markdown",
   "metadata": {},
   "source": [
    "## XGB classifier"
   ]
  },
  {
   "cell_type": "code",
   "execution_count": 524,
   "metadata": {},
   "outputs": [],
   "source": [
    "from xgboost import XGBClassifier"
   ]
  },
  {
   "cell_type": "code",
   "execution_count": 525,
   "metadata": {},
   "outputs": [],
   "source": [
    "##XGB classifier\n",
    "model_xgb=XGBClassifier()\n",
    "model_xgb.fit(xtrain_bow, ytrain)\n",
    "pred_xgb=model_xgb.predict(xvalid_bow)\n",
    "#acc_xgb = round(accuracy_score(Y_test, Y_pred) * 100, 2)\n",
    "#prec_xgb=round(precision_score(Y_test, Y_pred) * 100, 2)\n",
    "F1_xgb = round(f1_score(yvalid, pred_xgb,average='weighted')*100,2)\n",
    "#Recall_xgb = round(recall_score(Y_test,Y_pred)*100,2)"
   ]
  },
  {
   "cell_type": "code",
   "execution_count": 526,
   "metadata": {},
   "outputs": [
    {
     "data": {
      "text/plain": [
       "57.28"
      ]
     },
     "execution_count": 526,
     "metadata": {},
     "output_type": "execute_result"
    }
   ],
   "source": [
    "F1_xgb"
   ]
  },
  {
   "cell_type": "markdown",
   "metadata": {},
   "source": [
    "## Adaboost classifier"
   ]
  },
  {
   "cell_type": "code",
   "execution_count": 527,
   "metadata": {},
   "outputs": [],
   "source": [
    "from sklearn.ensemble import RandomForestClassifier, AdaBoostClassifier"
   ]
  },
  {
   "cell_type": "code",
   "execution_count": 528,
   "metadata": {},
   "outputs": [],
   "source": [
    "##Adaboost classifier\n",
    "model_ada=AdaBoostClassifier()\n",
    "model_ada.fit(xtrain_bow, ytrain)\n",
    "pred_ada=model_ada.predict(xvalid_bow)\n",
    "#acc_ada = round(accuracy_score(Y_test, Y_pred) * 100, 2)\n",
    "#prec_ada=round(precision_score(Y_test, Y_pred) * 100, 2)\n",
    "F1_ada = round(f1_score(yvalid,pred_ada,average='weighted')*100,2)\n",
    "#Recall_ada = round(recall_score(Y_test,Y_pred)*100,2)"
   ]
  },
  {
   "cell_type": "code",
   "execution_count": 529,
   "metadata": {
    "scrolled": true
   },
   "outputs": [
    {
     "data": {
      "text/plain": [
       "55.13"
      ]
     },
     "execution_count": 529,
     "metadata": {},
     "output_type": "execute_result"
    }
   ],
   "source": [
    "F1_ada"
   ]
  },
  {
   "cell_type": "code",
   "execution_count": 535,
   "metadata": {},
   "outputs": [
    {
     "data": {
      "text/html": [
       "<div>\n",
       "<style scoped>\n",
       "    .dataframe tbody tr th:only-of-type {\n",
       "        vertical-align: middle;\n",
       "    }\n",
       "\n",
       "    .dataframe tbody tr th {\n",
       "        vertical-align: top;\n",
       "    }\n",
       "\n",
       "    .dataframe thead th {\n",
       "        text-align: right;\n",
       "    }\n",
       "</style>\n",
       "<table border=\"1\" class=\"dataframe\">\n",
       "  <thead>\n",
       "    <tr style=\"text-align: right;\">\n",
       "      <th></th>\n",
       "      <th>Model - BOW</th>\n",
       "      <th>F1</th>\n",
       "    </tr>\n",
       "  </thead>\n",
       "  <tbody>\n",
       "    <tr>\n",
       "      <th>2</th>\n",
       "      <td>Random Forest</td>\n",
       "      <td>62.66</td>\n",
       "    </tr>\n",
       "    <tr>\n",
       "      <th>1</th>\n",
       "      <td>Logistic Regression</td>\n",
       "      <td>62.57</td>\n",
       "    </tr>\n",
       "    <tr>\n",
       "      <th>0</th>\n",
       "      <td>Support Vector Machines</td>\n",
       "      <td>62.47</td>\n",
       "    </tr>\n",
       "    <tr>\n",
       "      <th>5</th>\n",
       "      <td>Linear SVC</td>\n",
       "      <td>62.10</td>\n",
       "    </tr>\n",
       "    <tr>\n",
       "      <th>3</th>\n",
       "      <td>XGB</td>\n",
       "      <td>57.28</td>\n",
       "    </tr>\n",
       "    <tr>\n",
       "      <th>4</th>\n",
       "      <td>Adaboost</td>\n",
       "      <td>55.13</td>\n",
       "    </tr>\n",
       "    <tr>\n",
       "      <th>6</th>\n",
       "      <td>Gaussian Naive Bayes</td>\n",
       "      <td>37.91</td>\n",
       "    </tr>\n",
       "  </tbody>\n",
       "</table>\n",
       "</div>"
      ],
      "text/plain": [
       "               Model - BOW     F1\n",
       "2            Random Forest  62.66\n",
       "1      Logistic Regression  62.57\n",
       "0  Support Vector Machines  62.47\n",
       "5               Linear SVC  62.10\n",
       "3                      XGB  57.28\n",
       "4                 Adaboost  55.13\n",
       "6     Gaussian Naive Bayes  37.91"
      ]
     },
     "execution_count": 535,
     "metadata": {},
     "output_type": "execute_result"
    }
   ],
   "source": [
    "models = pd.DataFrame({\n",
    "    'Model - BOW': ['Support Vector Machines', 'Logistic Regression', \n",
    "              'Random Forest', \n",
    "              'XGB','Adaboost','Linear SVC','Gaussian Naive Bayes'],\n",
    "    #'Acc_Score': [acc_svc, acc_knn, acc_log, \n",
    "              #acc_random_forest, acc_gaussian, acc_perceptron, \n",
    "              #acc_sgd, acc_linear_svc, acc_decision_tree,acc_kfold_rf,acc_Voting_class,acc_xgb,acc_ada],\n",
    "    #'Precision':[prec_svc, prec_knn, prec_log, \n",
    "              #prec_random_forest, prec_guassian, prec_perceptron, \n",
    "              #prec_sgd, prec_linear_svc, prec_decision_tree,prec_kfold_rf,prec_Voting_class,prec_xgb,prec_ada],\n",
    "    #'Recall':[Recall_svc, Recall_knn, Recall_log, \n",
    "              #Recall_random_forest, Recall_guassian, Recall_perceptron, \n",
    "             # Recall_sgd, Recall_linear_svc, Recall_decision_tree,Recall_kfold_rf,Recall_Voting_class,Recall_xgb,Recall_ada],\n",
    "    'F1':[F1_svc,F1_log, F1_random_forest,\n",
    "              F1_xgb,F1_ada,F1_linear_svc,F1_guassian]})\n",
    "models.sort_values(by='F1', ascending=False)"
   ]
  },
  {
   "cell_type": "code",
   "execution_count": 531,
   "metadata": {},
   "outputs": [],
   "source": [
    "# Linear SVC\n",
    "from sklearn.svm import SVC, LinearSVC\n",
    "linear_svc = LinearSVC()\n",
    "linear_svc.fit(xtrain_bow, ytrain)\n",
    "Y_pred = linear_svc.predict(xvalid_bow)\n",
    "#acc_linear_svc = round(accuracy_score(Y_test, Y_pred) * 100, 2)\n",
    "#prec_linear_svc=round(precision_score(Y_test, Y_pred) * 100, 2)\n",
    "F1_linear_svc = round(f1_score(yvalid,Y_pred,average='weighted')*100,2)\n",
    "#Recall_linear_svc = round(recall_score(Y_test,Y_pred)*100,2)"
   ]
  },
  {
   "cell_type": "code",
   "execution_count": 532,
   "metadata": {},
   "outputs": [
    {
     "data": {
      "text/plain": [
       "62.1"
      ]
     },
     "execution_count": 532,
     "metadata": {},
     "output_type": "execute_result"
    }
   ],
   "source": [
    "F1_linear_svc"
   ]
  },
  {
   "cell_type": "code",
   "execution_count": 533,
   "metadata": {},
   "outputs": [],
   "source": [
    "# Gaussian Naive Bayes\n",
    "\n",
    "gaussian = GaussianNB()\n",
    "gaussian.fit(xtrain_bow.toarray(), ytrain)\n",
    "Y_pred = gaussian.predict(xvalid_bow.toarray())\n",
    "#acc_gaussian = round(accuracy_score(Y_test, Y_pred) * 100, 2)\n",
    "#prec_guassian=round(precision_score(Y_test, Y_pred) * 100, 2)\n",
    "F1_guassian = round(f1_score(yvalid,Y_pred,average='weighted')*100,2)\n",
    "#Recall_guassian= round(recall_score(Y_test,Y_pred)*100,2)"
   ]
  },
  {
   "cell_type": "code",
   "execution_count": 534,
   "metadata": {},
   "outputs": [
    {
     "data": {
      "text/plain": [
       "37.91"
      ]
     },
     "execution_count": 534,
     "metadata": {},
     "output_type": "execute_result"
    }
   ],
   "source": [
    "F1_guassian"
   ]
  },
  {
   "cell_type": "markdown",
   "metadata": {},
   "source": [
    "## SMOTE :"
   ]
  },
  {
   "cell_type": "code",
   "execution_count": 536,
   "metadata": {},
   "outputs": [],
   "source": [
    "#SMOTE\n",
    "sm = SMOTE()\n",
    "sm_xtrain_bow, sm_train_y = sm.fit_sample(xtrain_bow,ytrain)"
   ]
  },
  {
   "cell_type": "code",
   "execution_count": 537,
   "metadata": {},
   "outputs": [
    {
     "data": {
      "text/plain": [
       "0.5682776456525735"
      ]
     },
     "execution_count": 537,
     "metadata": {},
     "output_type": "execute_result"
    }
   ],
   "source": [
    "rf = RandomForestClassifier().fit(sm_xtrain_bow, sm_train_y)\n",
    "\n",
    "prediction = rf.predict(xvalid_bow)\n",
    "f1_score(yvalid, prediction,average='weighted')"
   ]
  },
  {
   "cell_type": "code",
   "execution_count": 538,
   "metadata": {},
   "outputs": [
    {
     "name": "stderr",
     "output_type": "stream",
     "text": [
      "//anaconda3/lib/python3.7/site-packages/sklearn/linear_model/_logistic.py:940: ConvergenceWarning: lbfgs failed to converge (status=1):\n",
      "STOP: TOTAL NO. of ITERATIONS REACHED LIMIT.\n",
      "\n",
      "Increase the number of iterations (max_iter) or scale the data as shown in:\n",
      "    https://scikit-learn.org/stable/modules/preprocessing.html\n",
      "Please also refer to the documentation for alternative solver options:\n",
      "    https://scikit-learn.org/stable/modules/linear_model.html#logistic-regression\n",
      "  extra_warning_msg=_LOGISTIC_SOLVER_CONVERGENCE_MSG)\n"
     ]
    },
    {
     "data": {
      "text/plain": [
       "0.5736283195737969"
      ]
     },
     "execution_count": 538,
     "metadata": {},
     "output_type": "execute_result"
    }
   ],
   "source": [
    "logreg = LogisticRegression().fit(sm_xtrain_bow, sm_train_y)\n",
    "#logreg.fit(xtrain_bow, ytrain)\n",
    "prediction = logreg.predict(xvalid_bow)\n",
    "f1_score(yvalid, prediction,average='weighted')"
   ]
  },
  {
   "cell_type": "markdown",
   "metadata": {},
   "source": [
    "## TFIDF :"
   ]
  },
  {
   "cell_type": "code",
   "execution_count": 539,
   "metadata": {},
   "outputs": [
    {
     "data": {
      "text/plain": [
       "(7274, 1000)"
      ]
     },
     "execution_count": 539,
     "metadata": {},
     "output_type": "execute_result"
    }
   ],
   "source": [
    "tfidf_vectorizer = TfidfVectorizer(max_df=0.90, min_df=2, max_features=1000, stop_words='english')\n",
    "tfidf1 = tfidf_vectorizer.fit_transform(train3['clean_tweet'])\n",
    "tfidf1.shape"
   ]
  },
  {
   "cell_type": "code",
   "execution_count": 540,
   "metadata": {},
   "outputs": [
    {
     "data": {
      "text/plain": [
       "(5091, 1000)"
      ]
     },
     "execution_count": 540,
     "metadata": {},
     "output_type": "execute_result"
    }
   ],
   "source": [
    "train_tfidf = tfidf1\n",
    "#test_tfidf = tfidf\n",
    "\n",
    "xtrain_tfidf = train_tfidf[ytrain.index]\n",
    "xvalid_tfidf = train_tfidf[yvalid.index]\n",
    "xtrain_tfidf.shape"
   ]
  },
  {
   "cell_type": "code",
   "execution_count": 541,
   "metadata": {},
   "outputs": [],
   "source": [
    "logreg = LogisticRegression()\n",
    "logreg.fit(xtrain_tfidf, ytrain)\n",
    "Y_pred = logreg.predict(xvalid_tfidf)\n",
    "#conf_matrix=confusion_matrix(yvalid, Y_pred)\n",
    "#acc_log = round(accuracy_score(yvalid, Y_pred) * 100, 2)\n",
    "#prec_log= round(precision_score(yvalid, Y_pred) * 100, 2)\n",
    "F1_log = round(f1_score(yvalid,Y_pred,average='weighted')*100,2)\n",
    "#Recall_log = round(recall_score(yvalid,Y_pred)*100,2)"
   ]
  },
  {
   "cell_type": "code",
   "execution_count": 542,
   "metadata": {},
   "outputs": [
    {
     "data": {
      "text/plain": [
       "61.47"
      ]
     },
     "execution_count": 542,
     "metadata": {},
     "output_type": "execute_result"
    }
   ],
   "source": [
    "F1_log"
   ]
  },
  {
   "cell_type": "code",
   "execution_count": 543,
   "metadata": {},
   "outputs": [],
   "source": [
    "# Random Forest\n",
    "\n",
    "random_forest = RandomForestClassifier(n_estimators=100)\n",
    "random_forest.fit(xtrain_tfidf, ytrain)\n",
    "Y_pred = random_forest.predict(xvalid_tfidf)\n",
    "#random_forest.score(yvalid, Y_pred)\n",
    "#acc_random_forest = round(accuracy_score(Y_test, Y_pred) * 100, 2)\n",
    "#prec_random_forest=round(precision_score(Y_test, Y_pred) * 100, 2)\n",
    "F1_random_forest = round(f1_score(yvalid, Y_pred,average='weighted')*100,2)\n",
    "#Recall_random_forest = round(recall_score(Y_test,Y_pred)*100,2)"
   ]
  },
  {
   "cell_type": "code",
   "execution_count": 544,
   "metadata": {},
   "outputs": [
    {
     "data": {
      "text/plain": [
       "64.06"
      ]
     },
     "execution_count": 544,
     "metadata": {},
     "output_type": "execute_result"
    }
   ],
   "source": [
    "F1_random_forest "
   ]
  },
  {
   "cell_type": "code",
   "execution_count": 545,
   "metadata": {},
   "outputs": [],
   "source": [
    "svc = svm.SVC()\n",
    "svc.fit(xtrain_tfidf, ytrain)\n",
    "Y_pred = svc.predict(xvalid_tfidf)\n",
    "#acc_svc = round(accuracy_score(Y_test, Y_pred) * 100, 2)\n",
    "#prec_svc=round(precision_score(Y_test, Y_pred) * 100, 2)\n",
    "F1_svc = round(f1_score(yvalid, Y_pred,average='weighted')*100,2)\n",
    "#Recall_svc = round(recall_score(Y_test,Y_pred)*100,2)"
   ]
  },
  {
   "cell_type": "code",
   "execution_count": 546,
   "metadata": {},
   "outputs": [
    {
     "data": {
      "text/plain": [
       "62.8"
      ]
     },
     "execution_count": 546,
     "metadata": {},
     "output_type": "execute_result"
    }
   ],
   "source": [
    "F1_svc"
   ]
  },
  {
   "cell_type": "code",
   "execution_count": 547,
   "metadata": {},
   "outputs": [],
   "source": [
    "##XGB classifier\n",
    "model_xgb=XGBClassifier()\n",
    "model_xgb.fit(xtrain_tfidf, ytrain)\n",
    "pred_xgb=model_xgb.predict(xvalid_tfidf)\n",
    "#acc_xgb = round(accuracy_score(Y_test, Y_pred) * 100, 2)\n",
    "#prec_xgb=round(precision_score(Y_test, Y_pred) * 100, 2)\n",
    "F1_xgb = round(f1_score(yvalid, pred_xgb,average='weighted')*100,2)\n",
    "#Recall_xgb = round(recall_score(Y_test,Y_pred)*100,2)"
   ]
  },
  {
   "cell_type": "code",
   "execution_count": 548,
   "metadata": {},
   "outputs": [
    {
     "data": {
      "text/plain": [
       "56.75"
      ]
     },
     "execution_count": 548,
     "metadata": {},
     "output_type": "execute_result"
    }
   ],
   "source": [
    "F1_xgb"
   ]
  },
  {
   "cell_type": "code",
   "execution_count": 549,
   "metadata": {},
   "outputs": [],
   "source": [
    "##Adaboost classifier\n",
    "model_ada=AdaBoostClassifier()\n",
    "model_ada.fit(xtrain_tfidf, ytrain)\n",
    "pred_ada=model_ada.predict(xvalid_tfidf)\n",
    "#acc_ada = round(accuracy_score(Y_test, Y_pred) * 100, 2)\n",
    "#prec_ada=round(precision_score(Y_test, Y_pred) * 100, 2)\n",
    "F1_ada = round(f1_score(yvalid,pred_ada,average='weighted')*100,2)\n",
    "#Recall_ada = round(recall_score(Y_test,Y_pred)*100,2)"
   ]
  },
  {
   "cell_type": "code",
   "execution_count": 550,
   "metadata": {},
   "outputs": [
    {
     "data": {
      "text/plain": [
       "53.27"
      ]
     },
     "execution_count": 550,
     "metadata": {},
     "output_type": "execute_result"
    }
   ],
   "source": [
    "F1_ada"
   ]
  },
  {
   "cell_type": "code",
   "execution_count": 557,
   "metadata": {},
   "outputs": [
    {
     "data": {
      "text/html": [
       "<div>\n",
       "<style scoped>\n",
       "    .dataframe tbody tr th:only-of-type {\n",
       "        vertical-align: middle;\n",
       "    }\n",
       "\n",
       "    .dataframe tbody tr th {\n",
       "        vertical-align: top;\n",
       "    }\n",
       "\n",
       "    .dataframe thead th {\n",
       "        text-align: right;\n",
       "    }\n",
       "</style>\n",
       "<table border=\"1\" class=\"dataframe\">\n",
       "  <thead>\n",
       "    <tr style=\"text-align: right;\">\n",
       "      <th></th>\n",
       "      <th>Model - TFIDF</th>\n",
       "      <th>F1</th>\n",
       "    </tr>\n",
       "  </thead>\n",
       "  <tbody>\n",
       "    <tr>\n",
       "      <th>2</th>\n",
       "      <td>Random Forest</td>\n",
       "      <td>64.06</td>\n",
       "    </tr>\n",
       "    <tr>\n",
       "      <th>0</th>\n",
       "      <td>Support Vector Machines</td>\n",
       "      <td>62.80</td>\n",
       "    </tr>\n",
       "    <tr>\n",
       "      <th>5</th>\n",
       "      <td>Linear SVC</td>\n",
       "      <td>62.50</td>\n",
       "    </tr>\n",
       "    <tr>\n",
       "      <th>1</th>\n",
       "      <td>Logistic Regression</td>\n",
       "      <td>61.47</td>\n",
       "    </tr>\n",
       "    <tr>\n",
       "      <th>3</th>\n",
       "      <td>XGB</td>\n",
       "      <td>56.75</td>\n",
       "    </tr>\n",
       "    <tr>\n",
       "      <th>4</th>\n",
       "      <td>Adaboost</td>\n",
       "      <td>53.27</td>\n",
       "    </tr>\n",
       "    <tr>\n",
       "      <th>6</th>\n",
       "      <td>Gaussian Naive Bayes</td>\n",
       "      <td>38.51</td>\n",
       "    </tr>\n",
       "  </tbody>\n",
       "</table>\n",
       "</div>"
      ],
      "text/plain": [
       "             Model - TFIDF     F1\n",
       "2            Random Forest  64.06\n",
       "0  Support Vector Machines  62.80\n",
       "5               Linear SVC  62.50\n",
       "1      Logistic Regression  61.47\n",
       "3                      XGB  56.75\n",
       "4                 Adaboost  53.27\n",
       "6     Gaussian Naive Bayes  38.51"
      ]
     },
     "execution_count": 557,
     "metadata": {},
     "output_type": "execute_result"
    }
   ],
   "source": [
    "models = pd.DataFrame({\n",
    "    'Model - TFIDF': ['Support Vector Machines', 'Logistic Regression', \n",
    "              'Random Forest', \n",
    "              'XGB','Adaboost','Linear SVC','Gaussian Naive Bayes'],\n",
    "    #'Acc_Score': [acc_svc, acc_knn, acc_log, \n",
    "              #acc_random_forest, acc_gaussian, acc_perceptron, \n",
    "              #acc_sgd, acc_linear_svc, acc_decision_tree,acc_kfold_rf,acc_Voting_class,acc_xgb,acc_ada],\n",
    "    #'Precision':[prec_svc, prec_knn, prec_log, \n",
    "              #prec_random_forest, prec_guassian, prec_perceptron, \n",
    "              #prec_sgd, prec_linear_svc, prec_decision_tree,prec_kfold_rf,prec_Voting_class,prec_xgb,prec_ada],\n",
    "    #'Recall':[Recall_svc, Recall_knn, Recall_log, \n",
    "              #Recall_random_forest, Recall_guassian, Recall_perceptron, \n",
    "             # Recall_sgd, Recall_linear_svc, Recall_decision_tree,Recall_kfold_rf,Recall_Voting_class,Recall_xgb,Recall_ada],\n",
    "    'F1':[F1_svc,F1_log, F1_random_forest,\n",
    "              F1_xgb,F1_ada,F1_linear_svc,F1_guassian]})\n",
    "models.sort_values(by='F1', ascending=False)"
   ]
  },
  {
   "cell_type": "code",
   "execution_count": 552,
   "metadata": {},
   "outputs": [],
   "source": [
    "# Linear SVC\n",
    "from sklearn.svm import SVC, LinearSVC\n",
    "linear_svc = LinearSVC()\n",
    "linear_svc.fit(xtrain_tfidf, ytrain)\n",
    "Y_pred = linear_svc.predict(xvalid_tfidf)\n",
    "#acc_linear_svc = round(accuracy_score(Y_test, Y_pred) * 100, 2)\n",
    "#prec_linear_svc=round(precision_score(Y_test, Y_pred) * 100, 2)\n",
    "F1_linear_svc = round(f1_score(yvalid,Y_pred,average='weighted')*100,2)\n",
    "#Recall_linear_svc = round(recall_score(Y_test,Y_pred)*100,2)"
   ]
  },
  {
   "cell_type": "code",
   "execution_count": 553,
   "metadata": {},
   "outputs": [
    {
     "data": {
      "text/plain": [
       "62.5"
      ]
     },
     "execution_count": 553,
     "metadata": {},
     "output_type": "execute_result"
    }
   ],
   "source": [
    "F1_linear_svc"
   ]
  },
  {
   "cell_type": "code",
   "execution_count": 554,
   "metadata": {},
   "outputs": [],
   "source": [
    "# Gaussian Naive Bayes\n",
    "\n",
    "gaussian = GaussianNB()\n",
    "gaussian.fit(xtrain_tfidf.toarray(), ytrain)\n",
    "Y_pred = gaussian.predict(xvalid_tfidf.toarray())\n",
    "#acc_gaussian = round(accuracy_score(Y_test, Y_pred) * 100, 2)\n",
    "#prec_guassian=round(precision_score(Y_test, Y_pred) * 100, 2)\n",
    "F1_guassian = round(f1_score(yvalid,Y_pred,average='weighted')*100,2)\n",
    "#Recall_guassian= round(recall_score(Y_test,Y_pred)*100,2)"
   ]
  },
  {
   "cell_type": "code",
   "execution_count": 555,
   "metadata": {},
   "outputs": [
    {
     "data": {
      "text/plain": [
       "38.51"
      ]
     },
     "execution_count": 555,
     "metadata": {},
     "output_type": "execute_result"
    }
   ],
   "source": [
    "F1_guassian"
   ]
  },
  {
   "cell_type": "markdown",
   "metadata": {},
   "source": [
    "## Using SMOTE :"
   ]
  },
  {
   "cell_type": "code",
   "execution_count": 558,
   "metadata": {},
   "outputs": [],
   "source": [
    "#SMOTE\n",
    "sm = SMOTE()\n",
    "sm_xtrain_tfidf, sm_train_y = sm.fit_sample(xtrain_tfidf,ytrain)"
   ]
  },
  {
   "cell_type": "code",
   "execution_count": 559,
   "metadata": {},
   "outputs": [
    {
     "data": {
      "text/plain": [
       "0.5827544654298359"
      ]
     },
     "execution_count": 559,
     "metadata": {},
     "output_type": "execute_result"
    }
   ],
   "source": [
    "rf = RandomForestClassifier().fit(sm_xtrain_tfidf, sm_train_y)\n",
    "\n",
    "prediction = rf.predict(xvalid_bow)\n",
    "f1_score(yvalid, prediction,average='weighted')"
   ]
  },
  {
   "cell_type": "code",
   "execution_count": 561,
   "metadata": {},
   "outputs": [
    {
     "name": "stderr",
     "output_type": "stream",
     "text": [
      "//anaconda3/lib/python3.7/site-packages/sklearn/linear_model/_logistic.py:940: ConvergenceWarning: lbfgs failed to converge (status=1):\n",
      "STOP: TOTAL NO. of ITERATIONS REACHED LIMIT.\n",
      "\n",
      "Increase the number of iterations (max_iter) or scale the data as shown in:\n",
      "    https://scikit-learn.org/stable/modules/preprocessing.html\n",
      "Please also refer to the documentation for alternative solver options:\n",
      "    https://scikit-learn.org/stable/modules/linear_model.html#logistic-regression\n",
      "  extra_warning_msg=_LOGISTIC_SOLVER_CONVERGENCE_MSG)\n"
     ]
    },
    {
     "data": {
      "text/plain": [
       "0.5571396106281521"
      ]
     },
     "execution_count": 561,
     "metadata": {},
     "output_type": "execute_result"
    }
   ],
   "source": [
    "logreg = LogisticRegression().fit(sm_xtrain_tfidf, sm_train_y)\n",
    "#logreg.fit(xtrain_bow, ytrain)\n",
    "prediction = logreg.predict(xvalid_tfidf)\n",
    "f1_score(yvalid, prediction,average='weighted')"
   ]
  },
  {
   "cell_type": "code",
   "execution_count": 562,
   "metadata": {},
   "outputs": [
    {
     "data": {
      "text/plain": [
       "62.5"
      ]
     },
     "execution_count": 562,
     "metadata": {},
     "output_type": "execute_result"
    }
   ],
   "source": [
    "F1_linear_svc"
   ]
  },
  {
   "cell_type": "code",
   "execution_count": null,
   "metadata": {},
   "outputs": [],
   "source": [
    "test_pred_lf = logreg.predict(test_tfidf)"
   ]
  },
  {
   "cell_type": "code",
   "execution_count": null,
   "metadata": {},
   "outputs": [],
   "source": [
    "test_pred_rf = random_forest.predict(test_tfidf)"
   ]
  },
  {
   "cell_type": "code",
   "execution_count": null,
   "metadata": {},
   "outputs": [],
   "source": [
    "len(test_pred_rf)"
   ]
  },
  {
   "cell_type": "code",
   "execution_count": null,
   "metadata": {},
   "outputs": [],
   "source": [
    "sub_csv = pd.read_csv('/Users/shilpyjain/Downloads/data/sample_submission.csv')"
   ]
  },
  {
   "cell_type": "code",
   "execution_count": null,
   "metadata": {},
   "outputs": [],
   "source": [
    "sub_csv['sentiment']=test_pred_rf"
   ]
  },
  {
   "cell_type": "code",
   "execution_count": null,
   "metadata": {},
   "outputs": [],
   "source": [
    "sub_csv.to_csv('result6.csv',index=False)"
   ]
  },
  {
   "cell_type": "markdown",
   "metadata": {},
   "source": [
    "## Test Dataset :"
   ]
  },
  {
   "cell_type": "code",
   "execution_count": null,
   "metadata": {},
   "outputs": [],
   "source": [
    "test=pd.read_csv(\"/Users/shilpyjain/Downloads/data/test.csv\")"
   ]
  },
  {
   "cell_type": "code",
   "execution_count": null,
   "metadata": {},
   "outputs": [],
   "source": [
    "test.shape"
   ]
  },
  {
   "cell_type": "code",
   "execution_count": null,
   "metadata": {
    "scrolled": false
   },
   "outputs": [],
   "source": [
    "test.info()"
   ]
  },
  {
   "cell_type": "code",
   "execution_count": null,
   "metadata": {},
   "outputs": [],
   "source": [
    "data_insights_report(test)"
   ]
  },
  {
   "cell_type": "code",
   "execution_count": null,
   "metadata": {},
   "outputs": [],
   "source": [
    "test2=test.copy()"
   ]
  },
  {
   "cell_type": "code",
   "execution_count": null,
   "metadata": {},
   "outputs": [],
   "source": [
    "#Transforming Emoticons into \"happy\" & \"sad\" :\n",
    "test['tweet']=test['tweet'].map(lambda x: replace_emoji(str(x)))\n",
    "#Removal of puncuations :\n",
    "test['clean_tweet'] = test['tweet'].str.replace('[^\\w\\s]','')\n",
    "#Removal of Stop words :\n",
    "stop = stopwords.words('english')\n",
    "test['clean_tweet'] = test['clean_tweet'].apply(lambda x: \" \".join(x for x in x.split() if x not in stop))\n",
    "#Removal of frequent words:\n",
    "freq = pd.Series(' '.join(test['clean_tweet']).split()).value_counts()[:10]\n",
    "freq = list(freq.index)\n",
    "test['clean_tweet'] = test['clean_tweet'].apply(lambda x: \" \".join(x for x in x.split() if x not in freq))\n",
    "#Removal of rare words :\n",
    "freq2 = pd.Series(' '.join(test['clean_tweet']).split()).value_counts()[-10:]\n",
    "freq2 = list(freq2.index)\n",
    "test['clean_tweet'] = test['clean_tweet'].apply(lambda x: \" \".join(x for x in x.split() if x not in freq2))\n",
    "#replace consecutive non-ASCII characters with a space\n",
    "test['clean_tweet'] =test['clean_tweet'].str.replace('[^\\x00-\\x7F]+',' ')"
   ]
  },
  {
   "cell_type": "code",
   "execution_count": null,
   "metadata": {},
   "outputs": [],
   "source": [
    "test.info()"
   ]
  },
  {
   "cell_type": "code",
   "execution_count": null,
   "metadata": {},
   "outputs": [],
   "source": [
    "bow_vectorizer = CountVectorizer(max_df=0.90, min_df=2, max_features=1000, stop_words='english')\n",
    "bow2 = bow_vectorizer.fit_transform(test['clean_tweet'])\n",
    "bow2.shape"
   ]
  },
  {
   "cell_type": "code",
   "execution_count": null,
   "metadata": {},
   "outputs": [],
   "source": [
    "test_bow = bow2"
   ]
  },
  {
   "cell_type": "code",
   "execution_count": null,
   "metadata": {},
   "outputs": [],
   "source": [
    "tfidf_vectorizer = TfidfVectorizer(max_df=0.90, min_df=2, max_features=1000, stop_words='english')\n",
    "tfidf2 = tfidf_vectorizer.fit_transform(test['clean_tweet'])\n",
    "tfidf2.shape"
   ]
  },
  {
   "cell_type": "code",
   "execution_count": null,
   "metadata": {},
   "outputs": [],
   "source": [
    "test_tfidf = tfidf2"
   ]
  },
  {
   "cell_type": "markdown",
   "metadata": {},
   "source": [
    "## Treating data imbalance :"
   ]
  },
  {
   "cell_type": "code",
   "execution_count": 563,
   "metadata": {},
   "outputs": [],
   "source": [
    "#import the necessary libraries for dataset preparation, feature engineering, model training\n",
    "from sklearn import model_selection, preprocessing, metrics, linear_model, svm\n",
    "from sklearn.feature_extraction.text import TfidfVectorizer, CountVectorizer\n",
    "from imblearn.over_sampling import BorderlineSMOTE, SMOTE, ADASYN, SMOTENC, RandomOverSampler\n",
    "from imblearn.under_sampling import (RandomUnderSampler, \n",
    "                                    NearMiss, \n",
    "                                    InstanceHardnessThreshold,\n",
    "                                    CondensedNearestNeighbour,\n",
    "                                    EditedNearestNeighbours,\n",
    "                                    RepeatedEditedNearestNeighbours,\n",
    "                                    AllKNN,\n",
    "                                    NeighbourhoodCleaningRule,\n",
    "                                    OneSidedSelection,\n",
    "                                    TomekLinks)\n",
    "from imblearn.combine import SMOTEENN, SMOTETomek\n",
    "from imblearn.pipeline import make_pipeline\n",
    "import pandas as pd, numpy, string\n",
    "from nltk.tokenize import WordPunctTokenizer\n",
    "from nltk.stem import PorterStemmer\n",
    "from bs4 import BeautifulSoup\n",
    "#Remove Special Charactors\n",
    "import re\n",
    "from nltk.tokenize import WordPunctTokenizer\n",
    "from nltk.stem import PorterStemmer\n",
    "from bs4 import BeautifulSoup"
   ]
  },
  {
   "cell_type": "code",
   "execution_count": 564,
   "metadata": {},
   "outputs": [],
   "source": [
    "#split the dataset into training and validation datasets \n",
    "train_x, valid_x, train_y, valid_y = model_selection.train_test_split(train3['clean_tweet'],train3['sentiment'])\n",
    "#label encode the target variable \n",
    "encoder = preprocessing.LabelEncoder()\n",
    "train_y = encoder.fit_transform(train_y)\n",
    "valid_y = encoder.fit_transform(valid_y)"
   ]
  },
  {
   "cell_type": "code",
   "execution_count": 565,
   "metadata": {},
   "outputs": [],
   "source": [
    "# word level tf-idf\n",
    "tfidf_vect = TfidfVectorizer(analyzer='word', token_pattern=r'\\w{1,}', max_features=100000)\n",
    "tfidf_vect.fit(train3['clean_tweet'])\n",
    "xtrain_tfidf =  tfidf_vect.transform(train_x)\n",
    "xvalid_tfidf =  tfidf_vect.transform(valid_x)"
   ]
  },
  {
   "cell_type": "code",
   "execution_count": 567,
   "metadata": {},
   "outputs": [],
   "source": [
    "#Return the f1 Score\n",
    "def train_model(classifier, feature_vector_train, label, feature_vector_valid):\n",
    "    # fit the training dataset on the classifier\n",
    "    classifier.fit(feature_vector_train, label)\n",
    "    \n",
    "    # predict the labels on validation dataset\n",
    "    predictions = classifier.predict(feature_vector_valid)\n",
    "    return metrics.f1_score(valid_y,predictions,average='weighted')"
   ]
  },
  {
   "cell_type": "code",
   "execution_count": 568,
   "metadata": {},
   "outputs": [
    {
     "name": "stdout",
     "output_type": "stream",
     "text": [
      "LR Baseline, WordLevel TFIDF:  0.62\n",
      "SVM Baseline, WordLevel TFIDF:  0.63\n",
      "Random Forest, WordLevel TFIDF:  0.61\n"
     ]
    }
   ],
   "source": [
    "#Let us see the baseline result (without re-sampling):\n",
    "accuracy_LR = train_model(linear_model.LogisticRegression(random_state=0, solver='lbfgs',multi_class='multinomial'),xtrain_tfidf, train_y, xvalid_tfidf)\n",
    "print (\"LR Baseline, WordLevel TFIDF: \", round(accuracy_LR,2))\n",
    "accuracy_linear_SVM = train_model(svm.LinearSVC(), xtrain_tfidf, train_y, xvalid_tfidf)\n",
    "print (\"SVM Baseline, WordLevel TFIDF: \", round(accuracy_linear_SVM,2))\n",
    "accuracy_RF = train_model(RandomForestClassifier(), xtrain_tfidf, train_y, xvalid_tfidf)\n",
    "print (\"Random Forest, WordLevel TFIDF: \", round(accuracy_RF,2))\n",
    "#LR Baseline, WordLevel TFIDF:  0.534131736526946\n",
    "#SVM Baseline, WordLevel TFIDF:  0.6991701244813279"
   ]
  },
  {
   "cell_type": "code",
   "execution_count": 569,
   "metadata": {},
   "outputs": [
    {
     "data": {
      "text/html": [
       "<div>\n",
       "<style scoped>\n",
       "    .dataframe tbody tr th:only-of-type {\n",
       "        vertical-align: middle;\n",
       "    }\n",
       "\n",
       "    .dataframe tbody tr th {\n",
       "        vertical-align: top;\n",
       "    }\n",
       "\n",
       "    .dataframe thead th {\n",
       "        text-align: right;\n",
       "    }\n",
       "</style>\n",
       "<table border=\"1\" class=\"dataframe\">\n",
       "  <thead>\n",
       "    <tr style=\"text-align: right;\">\n",
       "      <th></th>\n",
       "      <th>Model - TFIDF (without resampling)</th>\n",
       "      <th>F1</th>\n",
       "    </tr>\n",
       "  </thead>\n",
       "  <tbody>\n",
       "    <tr>\n",
       "      <th>0</th>\n",
       "      <td>Linear Support Vector Machines</td>\n",
       "      <td>0.63</td>\n",
       "    </tr>\n",
       "    <tr>\n",
       "      <th>1</th>\n",
       "      <td>Logistic Regression</td>\n",
       "      <td>0.62</td>\n",
       "    </tr>\n",
       "    <tr>\n",
       "      <th>2</th>\n",
       "      <td>Random Forest</td>\n",
       "      <td>0.61</td>\n",
       "    </tr>\n",
       "  </tbody>\n",
       "</table>\n",
       "</div>"
      ],
      "text/plain": [
       "  Model - TFIDF (without resampling)    F1\n",
       "0     Linear Support Vector Machines  0.63\n",
       "1                Logistic Regression  0.62\n",
       "2                      Random Forest  0.61"
      ]
     },
     "execution_count": 569,
     "metadata": {},
     "output_type": "execute_result"
    }
   ],
   "source": [
    "models = pd.DataFrame({\n",
    "    'Model - TFIDF (without resampling)': ['Linear Support Vector Machines', 'Logistic Regression', \n",
    "              'Random Forest'],\n",
    "    #'Acc_Score': [acc_svc, acc_knn, acc_log, \n",
    "              #acc_random_forest, acc_gaussian, acc_perceptron, \n",
    "              #acc_sgd, acc_linear_svc, acc_decision_tree,acc_kfold_rf,acc_Voting_class,acc_xgb,acc_ada],\n",
    "    #'Precision':[prec_svc, prec_knn, prec_log, \n",
    "              #prec_random_forest, prec_guassian, prec_perceptron, \n",
    "              #prec_sgd, prec_linear_svc, prec_decision_tree,prec_kfold_rf,prec_Voting_class,prec_xgb,prec_ada],\n",
    "    #'Recall':[Recall_svc, Recall_knn, Recall_log, \n",
    "              #Recall_random_forest, Recall_guassian, Recall_perceptron, \n",
    "             # Recall_sgd, Recall_linear_svc, Recall_decision_tree,Recall_kfold_rf,Recall_Voting_class,Recall_xgb,Recall_ada],\n",
    "    'F1':[round(accuracy_linear_SVM,2),round(accuracy_LR,2),\n",
    "              round(accuracy_RF,2)]})\n",
    "models.sort_values(by='F1', ascending=False)"
   ]
  },
  {
   "cell_type": "markdown",
   "metadata": {},
   "source": [
    "### Re-sampling the Training Corpus\n"
   ]
  },
  {
   "cell_type": "markdown",
   "metadata": {},
   "source": [
    "### Random Over-sampling"
   ]
  },
  {
   "cell_type": "markdown",
   "metadata": {},
   "source": [
    "#The below code block uses Scikit learn over-sampling method to randomly repeat some minority samples and balance the number of samples between the data-set.\n"
   ]
  },
  {
   "cell_type": "code",
   "execution_count": 570,
   "metadata": {},
   "outputs": [
    {
     "name": "stderr",
     "output_type": "stream",
     "text": [
      "//anaconda3/lib/python3.7/site-packages/sklearn/linear_model/_logistic.py:940: ConvergenceWarning: lbfgs failed to converge (status=1):\n",
      "STOP: TOTAL NO. of ITERATIONS REACHED LIMIT.\n",
      "\n",
      "Increase the number of iterations (max_iter) or scale the data as shown in:\n",
      "    https://scikit-learn.org/stable/modules/preprocessing.html\n",
      "Please also refer to the documentation for alternative solver options:\n",
      "    https://scikit-learn.org/stable/modules/linear_model.html#logistic-regression\n",
      "  extra_warning_msg=_LOGISTIC_SOLVER_CONVERGENCE_MSG)\n"
     ]
    },
    {
     "name": "stdout",
     "output_type": "stream",
     "text": [
      "LR Baseline, WordLevel TFIDF:  0.64\n",
      "SVM Baseline, WordLevel TFIDF:  0.64\n",
      "Random Forest, WordLevel TFIDF:  0.63\n"
     ]
    }
   ],
   "source": [
    "#Random Over Sampling\n",
    "ros = RandomOverSampler(random_state=777)\n",
    "ros_xtrain_tfidf, ros_train_y = ros.fit_sample(xtrain_tfidf, train_y)\n",
    "accuracy_LR = train_model(linear_model.LogisticRegression(random_state=0, solver='lbfgs',multi_class='multinomial'),ros_xtrain_tfidf, ros_train_y , xvalid_tfidf)\n",
    "print (\"LR Baseline, WordLevel TFIDF: \", round(accuracy_LR,2))\n",
    "accuracy_linear_SVM = train_model(svm.LinearSVC(), ros_xtrain_tfidf, ros_train_y , xvalid_tfidf)\n",
    "print (\"SVM Baseline, WordLevel TFIDF: \", round(accuracy_linear_SVM,2))\n",
    "accuracy_RF = train_model(RandomForestClassifier(), ros_xtrain_tfidf, ros_train_y , xvalid_tfidf)\n",
    "print (\"Random Forest, WordLevel TFIDF: \", round(accuracy_RF,2))"
   ]
  },
  {
   "cell_type": "code",
   "execution_count": 571,
   "metadata": {},
   "outputs": [
    {
     "data": {
      "text/html": [
       "<div>\n",
       "<style scoped>\n",
       "    .dataframe tbody tr th:only-of-type {\n",
       "        vertical-align: middle;\n",
       "    }\n",
       "\n",
       "    .dataframe tbody tr th {\n",
       "        vertical-align: top;\n",
       "    }\n",
       "\n",
       "    .dataframe thead th {\n",
       "        text-align: right;\n",
       "    }\n",
       "</style>\n",
       "<table border=\"1\" class=\"dataframe\">\n",
       "  <thead>\n",
       "    <tr style=\"text-align: right;\">\n",
       "      <th></th>\n",
       "      <th>Model - TFIDF (with resampling)</th>\n",
       "      <th>F1</th>\n",
       "    </tr>\n",
       "  </thead>\n",
       "  <tbody>\n",
       "    <tr>\n",
       "      <th>0</th>\n",
       "      <td>Linear Support Vector Machines</td>\n",
       "      <td>0.64</td>\n",
       "    </tr>\n",
       "    <tr>\n",
       "      <th>1</th>\n",
       "      <td>Logistic Regression</td>\n",
       "      <td>0.64</td>\n",
       "    </tr>\n",
       "    <tr>\n",
       "      <th>2</th>\n",
       "      <td>Random Forest</td>\n",
       "      <td>0.63</td>\n",
       "    </tr>\n",
       "  </tbody>\n",
       "</table>\n",
       "</div>"
      ],
      "text/plain": [
       "  Model - TFIDF (with resampling)    F1\n",
       "0  Linear Support Vector Machines  0.64\n",
       "1             Logistic Regression  0.64\n",
       "2                   Random Forest  0.63"
      ]
     },
     "execution_count": 571,
     "metadata": {},
     "output_type": "execute_result"
    }
   ],
   "source": [
    "models = pd.DataFrame({\n",
    "    'Model - TFIDF (with resampling)': ['Linear Support Vector Machines', 'Logistic Regression', \n",
    "              'Random Forest'],\n",
    "    #'Acc_Score': [acc_svc, acc_knn, acc_log, \n",
    "              #acc_random_forest, acc_gaussian, acc_perceptron, \n",
    "              #acc_sgd, acc_linear_svc, acc_decision_tree,acc_kfold_rf,acc_Voting_class,acc_xgb,acc_ada],\n",
    "    #'Precision':[prec_svc, prec_knn, prec_log, \n",
    "              #prec_random_forest, prec_guassian, prec_perceptron, \n",
    "              #prec_sgd, prec_linear_svc, prec_decision_tree,prec_kfold_rf,prec_Voting_class,prec_xgb,prec_ada],\n",
    "    #'Recall':[Recall_svc, Recall_knn, Recall_log, \n",
    "              #Recall_random_forest, Recall_guassian, Recall_perceptron, \n",
    "             # Recall_sgd, Recall_linear_svc, Recall_decision_tree,Recall_kfold_rf,Recall_Voting_class,Recall_xgb,Recall_ada],\n",
    "    'F1':[round(accuracy_linear_SVM,2),round(accuracy_LR,2),\n",
    "              round(accuracy_RF,2)]})\n",
    "models.sort_values(by='F1', ascending=False)"
   ]
  },
  {
   "cell_type": "code",
   "execution_count": 572,
   "metadata": {},
   "outputs": [
    {
     "data": {
      "text/plain": [
       "<1819x1000 sparse matrix of type '<class 'numpy.float64'>'\n",
       "\twith 10518 stored elements in Compressed Sparse Row format>"
      ]
     },
     "execution_count": 572,
     "metadata": {},
     "output_type": "execute_result"
    }
   ],
   "source": [
    "test_tfidf"
   ]
  },
  {
   "cell_type": "code",
   "execution_count": 573,
   "metadata": {},
   "outputs": [
    {
     "data": {
      "text/plain": [
       "(1819, 1000)"
      ]
     },
     "execution_count": 573,
     "metadata": {},
     "output_type": "execute_result"
    }
   ],
   "source": [
    "test_tfidf.shape"
   ]
  },
  {
   "cell_type": "markdown",
   "metadata": {},
   "source": [
    "### SMOTE Over-sampling"
   ]
  },
  {
   "cell_type": "code",
   "execution_count": 574,
   "metadata": {},
   "outputs": [
    {
     "name": "stderr",
     "output_type": "stream",
     "text": [
      "//anaconda3/lib/python3.7/site-packages/sklearn/linear_model/_logistic.py:940: ConvergenceWarning: lbfgs failed to converge (status=1):\n",
      "STOP: TOTAL NO. of ITERATIONS REACHED LIMIT.\n",
      "\n",
      "Increase the number of iterations (max_iter) or scale the data as shown in:\n",
      "    https://scikit-learn.org/stable/modules/preprocessing.html\n",
      "Please also refer to the documentation for alternative solver options:\n",
      "    https://scikit-learn.org/stable/modules/linear_model.html#logistic-regression\n",
      "  extra_warning_msg=_LOGISTIC_SOLVER_CONVERGENCE_MSG)\n"
     ]
    },
    {
     "name": "stdout",
     "output_type": "stream",
     "text": [
      "LR Baseline, WordLevel TFIDF:  0.6334530735064163\n",
      "SVM Baseline, WordLevel TFIDF:  0.6405127440156484\n",
      "Random Forest, WordLevel TFIDF:  0.6271268824277072\n"
     ]
    }
   ],
   "source": [
    "#SMOTE\n",
    "sm = SMOTE()\n",
    "sm_xtrain_tfidf, sm_train_y = sm.fit_sample(xtrain_tfidf, train_y)\n",
    "accuracy_LR = train_model(linear_model.LogisticRegression(random_state=0, solver='lbfgs',multi_class='multinomial'),sm_xtrain_tfidf, sm_train_y, xvalid_tfidf)\n",
    "print (\"LR Baseline, WordLevel TFIDF: \", accuracy_LR)\n",
    "accuracy_linear_SVM = train_model(svm.LinearSVC(), sm_xtrain_tfidf, sm_train_y , xvalid_tfidf)\n",
    "print (\"SVM Baseline, WordLevel TFIDF: \", accuracy_linear_SVM)\n",
    "accuracy_RF = train_model(RandomForestClassifier(), sm_xtrain_tfidf, sm_train_y , xvalid_tfidf)\n",
    "print (\"Random Forest, WordLevel TFIDF: \", accuracy_RF)"
   ]
  },
  {
   "cell_type": "code",
   "execution_count": 575,
   "metadata": {},
   "outputs": [
    {
     "data": {
      "text/html": [
       "<div>\n",
       "<style scoped>\n",
       "    .dataframe tbody tr th:only-of-type {\n",
       "        vertical-align: middle;\n",
       "    }\n",
       "\n",
       "    .dataframe tbody tr th {\n",
       "        vertical-align: top;\n",
       "    }\n",
       "\n",
       "    .dataframe thead th {\n",
       "        text-align: right;\n",
       "    }\n",
       "</style>\n",
       "<table border=\"1\" class=\"dataframe\">\n",
       "  <thead>\n",
       "    <tr style=\"text-align: right;\">\n",
       "      <th></th>\n",
       "      <th>Model - TFIDF (SMOTE Over-sampling)</th>\n",
       "      <th>F1</th>\n",
       "    </tr>\n",
       "  </thead>\n",
       "  <tbody>\n",
       "    <tr>\n",
       "      <th>0</th>\n",
       "      <td>Linear Support Vector Machines</td>\n",
       "      <td>0.640513</td>\n",
       "    </tr>\n",
       "    <tr>\n",
       "      <th>1</th>\n",
       "      <td>Logistic Regression</td>\n",
       "      <td>0.633453</td>\n",
       "    </tr>\n",
       "    <tr>\n",
       "      <th>2</th>\n",
       "      <td>Random Forest</td>\n",
       "      <td>0.627127</td>\n",
       "    </tr>\n",
       "  </tbody>\n",
       "</table>\n",
       "</div>"
      ],
      "text/plain": [
       "  Model - TFIDF (SMOTE Over-sampling)        F1\n",
       "0      Linear Support Vector Machines  0.640513\n",
       "1                 Logistic Regression  0.633453\n",
       "2                       Random Forest  0.627127"
      ]
     },
     "execution_count": 575,
     "metadata": {},
     "output_type": "execute_result"
    }
   ],
   "source": [
    "models = pd.DataFrame({\n",
    "    'Model - TFIDF (SMOTE Over-sampling)': ['Linear Support Vector Machines', 'Logistic Regression', \n",
    "              'Random Forest'],\n",
    "    #'Acc_Score': [acc_svc, acc_knn, acc_log, \n",
    "              #acc_random_forest, acc_gaussian, acc_perceptron, \n",
    "              #acc_sgd, acc_linear_svc, acc_decision_tree,acc_kfold_rf,acc_Voting_class,acc_xgb,acc_ada],\n",
    "    #'Precision':[prec_svc, prec_knn, prec_log, \n",
    "              #prec_random_forest, prec_guassian, prec_perceptron, \n",
    "              #prec_sgd, prec_linear_svc, prec_decision_tree,prec_kfold_rf,prec_Voting_class,prec_xgb,prec_ada],\n",
    "    #'Recall':[Recall_svc, Recall_knn, Recall_log, \n",
    "              #Recall_random_forest, Recall_guassian, Recall_perceptron, \n",
    "             # Recall_sgd, Recall_linear_svc, Recall_decision_tree,Recall_kfold_rf,Recall_Voting_class,Recall_xgb,Recall_ada],\n",
    "    'F1':[accuracy_linear_SVM,accuracy_LR,\n",
    "              accuracy_RF]})\n",
    "models.sort_values(by='F1', ascending=False)"
   ]
  },
  {
   "cell_type": "markdown",
   "metadata": {},
   "source": [
    "### ADASYN: Adaptive synthetic sampling (Over-sampling)"
   ]
  },
  {
   "cell_type": "code",
   "execution_count": 578,
   "metadata": {},
   "outputs": [
    {
     "name": "stderr",
     "output_type": "stream",
     "text": [
      "//anaconda3/lib/python3.7/site-packages/sklearn/linear_model/_logistic.py:940: ConvergenceWarning: lbfgs failed to converge (status=1):\n",
      "STOP: TOTAL NO. of ITERATIONS REACHED LIMIT.\n",
      "\n",
      "Increase the number of iterations (max_iter) or scale the data as shown in:\n",
      "    https://scikit-learn.org/stable/modules/preprocessing.html\n",
      "Please also refer to the documentation for alternative solver options:\n",
      "    https://scikit-learn.org/stable/modules/linear_model.html#logistic-regression\n",
      "  extra_warning_msg=_LOGISTIC_SOLVER_CONVERGENCE_MSG)\n"
     ]
    },
    {
     "name": "stdout",
     "output_type": "stream",
     "text": [
      "LR Baseline, WordLevel TFIDF:  0.6324442851923807\n",
      "SVM Baseline, WordLevel TFIDF:  0.6331759161685486\n",
      "Random Forest, WordLevel TFIDF:  0.6258460021040921\n"
     ]
    }
   ],
   "source": [
    "#ADASYN\n",
    "ad = ADASYN(random_state=777)\n",
    "ad_xtrain_tfidf, ad_train_y = ad.fit_sample(xtrain_tfidf, train_y)\n",
    "accuracy_LR = train_model(linear_model.LogisticRegression(random_state=0, solver='lbfgs',multi_class='multinomial'),ad_xtrain_tfidf, ad_train_y, xvalid_tfidf)\n",
    "print (\"LR Baseline, WordLevel TFIDF: \", accuracy_LR)\n",
    "accuracy_linear_SVM = train_model(svm.LinearSVC(), ad_xtrain_tfidf, ad_train_y , xvalid_tfidf)\n",
    "print (\"SVM Baseline, WordLevel TFIDF: \", accuracy_linear_SVM)\n",
    "accuracy_RF = train_model(RandomForestClassifier(), ad_xtrain_tfidf, ad_train_y , xvalid_tfidf)\n",
    "print (\"Random Forest, WordLevel TFIDF: \", accuracy_RF)"
   ]
  },
  {
   "cell_type": "code",
   "execution_count": 579,
   "metadata": {},
   "outputs": [
    {
     "data": {
      "text/html": [
       "<div>\n",
       "<style scoped>\n",
       "    .dataframe tbody tr th:only-of-type {\n",
       "        vertical-align: middle;\n",
       "    }\n",
       "\n",
       "    .dataframe tbody tr th {\n",
       "        vertical-align: top;\n",
       "    }\n",
       "\n",
       "    .dataframe thead th {\n",
       "        text-align: right;\n",
       "    }\n",
       "</style>\n",
       "<table border=\"1\" class=\"dataframe\">\n",
       "  <thead>\n",
       "    <tr style=\"text-align: right;\">\n",
       "      <th></th>\n",
       "      <th>Model - TFIDF ADASYN(over sampling)</th>\n",
       "      <th>F1</th>\n",
       "    </tr>\n",
       "  </thead>\n",
       "  <tbody>\n",
       "    <tr>\n",
       "      <th>0</th>\n",
       "      <td>Linear Support Vector Machines</td>\n",
       "      <td>0.633176</td>\n",
       "    </tr>\n",
       "    <tr>\n",
       "      <th>1</th>\n",
       "      <td>Logistic Regression</td>\n",
       "      <td>0.632444</td>\n",
       "    </tr>\n",
       "    <tr>\n",
       "      <th>2</th>\n",
       "      <td>Random Forest</td>\n",
       "      <td>0.625846</td>\n",
       "    </tr>\n",
       "  </tbody>\n",
       "</table>\n",
       "</div>"
      ],
      "text/plain": [
       "  Model - TFIDF ADASYN(over sampling)        F1\n",
       "0      Linear Support Vector Machines  0.633176\n",
       "1                 Logistic Regression  0.632444\n",
       "2                       Random Forest  0.625846"
      ]
     },
     "execution_count": 579,
     "metadata": {},
     "output_type": "execute_result"
    }
   ],
   "source": [
    "models = pd.DataFrame({\n",
    "    'Model - TFIDF ADASYN(over sampling)': ['Linear Support Vector Machines', 'Logistic Regression', \n",
    "              'Random Forest'],\n",
    "    #'Acc_Score': [acc_svc, acc_knn, acc_log, \n",
    "              #acc_random_forest, acc_gaussian, acc_perceptron, \n",
    "              #acc_sgd, acc_linear_svc, acc_decision_tree,acc_kfold_rf,acc_Voting_class,acc_xgb,acc_ada],\n",
    "    #'Precision':[prec_svc, prec_knn, prec_log, \n",
    "              #prec_random_forest, prec_guassian, prec_perceptron, \n",
    "              #prec_sgd, prec_linear_svc, prec_decision_tree,prec_kfold_rf,prec_Voting_class,prec_xgb,prec_ada],\n",
    "    #'Recall':[Recall_svc, Recall_knn, Recall_log, \n",
    "              #Recall_random_forest, Recall_guassian, Recall_perceptron, \n",
    "             # Recall_sgd, Recall_linear_svc, Recall_decision_tree,Recall_kfold_rf,Recall_Voting_class,Recall_xgb,Recall_ada],\n",
    "    'F1':[accuracy_linear_SVM,accuracy_LR,\n",
    "              accuracy_RF]})\n",
    "models.sort_values(by='F1', ascending=False)"
   ]
  },
  {
   "cell_type": "markdown",
   "metadata": {},
   "source": [
    "### SMOTENC"
   ]
  },
  {
   "cell_type": "code",
   "execution_count": 580,
   "metadata": {},
   "outputs": [
    {
     "name": "stderr",
     "output_type": "stream",
     "text": [
      "//anaconda3/lib/python3.7/site-packages/sklearn/linear_model/_logistic.py:940: ConvergenceWarning: lbfgs failed to converge (status=1):\n",
      "STOP: TOTAL NO. of ITERATIONS REACHED LIMIT.\n",
      "\n",
      "Increase the number of iterations (max_iter) or scale the data as shown in:\n",
      "    https://scikit-learn.org/stable/modules/preprocessing.html\n",
      "Please also refer to the documentation for alternative solver options:\n",
      "    https://scikit-learn.org/stable/modules/linear_model.html#logistic-regression\n",
      "  extra_warning_msg=_LOGISTIC_SOLVER_CONVERGENCE_MSG)\n"
     ]
    },
    {
     "name": "stdout",
     "output_type": "stream",
     "text": [
      "LR SMOTENC, WordLevel TFIDF:  0.6290027504630135\n",
      "SVM SMOTENC, WordLevel TFIDF:  0.6428006429975838\n"
     ]
    }
   ],
   "source": [
    "smnc = SMOTENC(categorical_features=[0, 2], random_state=0)\n",
    "smnc_xtrain_tfidf, smnc_train_y = smnc.fit_sample(xtrain_tfidf, train_y)\n",
    "accuracySMOTENC = train_model(linear_model.LogisticRegression(random_state=0, solver='lbfgs',multi_class='multinomial'),smnc_xtrain_tfidf, smnc_train_y, xvalid_tfidf)\n",
    "print (\"LR SMOTENC, WordLevel TFIDF: \", accuracySMOTENC)\n",
    "accuracySMOTENC = train_model(svm.LinearSVC(),smnc_xtrain_tfidf, smnc_train_y, xvalid_tfidf)\n",
    "print (\"SVM SMOTENC, WordLevel TFIDF: \", accuracySMOTENC)"
   ]
  },
  {
   "cell_type": "markdown",
   "metadata": {},
   "source": [
    "### Borderline SMOTE"
   ]
  },
  {
   "cell_type": "code",
   "execution_count": 581,
   "metadata": {},
   "outputs": [
    {
     "name": "stderr",
     "output_type": "stream",
     "text": [
      "//anaconda3/lib/python3.7/site-packages/sklearn/linear_model/_logistic.py:940: ConvergenceWarning: lbfgs failed to converge (status=1):\n",
      "STOP: TOTAL NO. of ITERATIONS REACHED LIMIT.\n",
      "\n",
      "Increase the number of iterations (max_iter) or scale the data as shown in:\n",
      "    https://scikit-learn.org/stable/modules/preprocessing.html\n",
      "Please also refer to the documentation for alternative solver options:\n",
      "    https://scikit-learn.org/stable/modules/linear_model.html#logistic-regression\n",
      "  extra_warning_msg=_LOGISTIC_SOLVER_CONVERGENCE_MSG)\n"
     ]
    },
    {
     "name": "stdout",
     "output_type": "stream",
     "text": [
      "LR Borderline SMOTE, WordLevel TFIDF:  0.6344128486074709\n",
      "SVM Borderline SMOTE, WordLevel TFIDF:  0.6379210569576995\n"
     ]
    }
   ],
   "source": [
    "bsm = BorderlineSMOTE()\n",
    "bsm_xtrain_tfidf, bsm_train_y = bsm.fit_sample(xtrain_tfidf, train_y)\n",
    "accuracyBSMOTE = train_model(linear_model.LogisticRegression(random_state=0, solver='lbfgs',multi_class='multinomial'),bsm_xtrain_tfidf, bsm_train_y, xvalid_tfidf)\n",
    "print (\"LR Borderline SMOTE, WordLevel TFIDF: \", accuracyBSMOTE)\n",
    "accuracyBSMOTE = train_model(svm.LinearSVC(),bsm_xtrain_tfidf, bsm_train_y, xvalid_tfidf)\n",
    "print (\"SVM Borderline SMOTE, WordLevel TFIDF: \", accuracyBSMOTE)"
   ]
  },
  {
   "cell_type": "markdown",
   "metadata": {},
   "source": [
    "## Random Under-sampling"
   ]
  },
  {
   "cell_type": "code",
   "execution_count": 582,
   "metadata": {},
   "outputs": [
    {
     "name": "stdout",
     "output_type": "stream",
     "text": [
      "LR Baseline, WordLevel TFIDF:  0.42086609057320457\n",
      "SVM Baseline, WordLevel TFIDF:  0.42674344301656286\n",
      "Random Forest, WordLevel TFIDF:  0.4161957580699035\n"
     ]
    }
   ],
   "source": [
    "# Random Under Sampling\n",
    "rus = RandomUnderSampler(random_state=0, replacement=True)\n",
    "rus_xtrain_tfidf, rus_train_y = rus.fit_sample(xtrain_tfidf, train_y)\n",
    "accuracy_LR = train_model(linear_model.LogisticRegression(random_state=0, solver='lbfgs',multi_class='multinomial'),rus_xtrain_tfidf, rus_train_y, xvalid_tfidf)\n",
    "print (\"LR Baseline, WordLevel TFIDF: \", accuracy_LR)\n",
    "accuracy_linear_SVM = train_model(svm.LinearSVC(), rus_xtrain_tfidf, rus_train_y, xvalid_tfidf)\n",
    "print (\"SVM Baseline, WordLevel TFIDF: \", accuracy_linear_SVM)\n",
    "accuracy_RF = train_model(RandomForestClassifier(), rus_xtrain_tfidf, rus_train_y , xvalid_tfidf)\n",
    "print (\"Random Forest, WordLevel TFIDF: \", accuracy_RF)"
   ]
  },
  {
   "cell_type": "code",
   "execution_count": 583,
   "metadata": {},
   "outputs": [
    {
     "data": {
      "text/html": [
       "<div>\n",
       "<style scoped>\n",
       "    .dataframe tbody tr th:only-of-type {\n",
       "        vertical-align: middle;\n",
       "    }\n",
       "\n",
       "    .dataframe tbody tr th {\n",
       "        vertical-align: top;\n",
       "    }\n",
       "\n",
       "    .dataframe thead th {\n",
       "        text-align: right;\n",
       "    }\n",
       "</style>\n",
       "<table border=\"1\" class=\"dataframe\">\n",
       "  <thead>\n",
       "    <tr style=\"text-align: right;\">\n",
       "      <th></th>\n",
       "      <th>Model - TFIDF (Random Under-sampling)</th>\n",
       "      <th>F1</th>\n",
       "    </tr>\n",
       "  </thead>\n",
       "  <tbody>\n",
       "    <tr>\n",
       "      <th>0</th>\n",
       "      <td>Linear Support Vector Machines</td>\n",
       "      <td>0.426743</td>\n",
       "    </tr>\n",
       "    <tr>\n",
       "      <th>1</th>\n",
       "      <td>Logistic Regression</td>\n",
       "      <td>0.420866</td>\n",
       "    </tr>\n",
       "    <tr>\n",
       "      <th>2</th>\n",
       "      <td>Random Forest</td>\n",
       "      <td>0.416196</td>\n",
       "    </tr>\n",
       "  </tbody>\n",
       "</table>\n",
       "</div>"
      ],
      "text/plain": [
       "  Model - TFIDF (Random Under-sampling)        F1\n",
       "0        Linear Support Vector Machines  0.426743\n",
       "1                   Logistic Regression  0.420866\n",
       "2                         Random Forest  0.416196"
      ]
     },
     "execution_count": 583,
     "metadata": {},
     "output_type": "execute_result"
    }
   ],
   "source": [
    "models = pd.DataFrame({\n",
    "    'Model - TFIDF (Random Under-sampling)': ['Linear Support Vector Machines', 'Logistic Regression', \n",
    "              'Random Forest'],\n",
    "    #'Acc_Score': [acc_svc, acc_knn, acc_log, \n",
    "              #acc_random_forest, acc_gaussian, acc_perceptron, \n",
    "              #acc_sgd, acc_linear_svc, acc_decision_tree,acc_kfold_rf,acc_Voting_class,acc_xgb,acc_ada],\n",
    "    #'Precision':[prec_svc, prec_knn, prec_log, \n",
    "              #prec_random_forest, prec_guassian, prec_perceptron, \n",
    "              #prec_sgd, prec_linear_svc, prec_decision_tree,prec_kfold_rf,prec_Voting_class,prec_xgb,prec_ada],\n",
    "    #'Recall':[Recall_svc, Recall_knn, Recall_log, \n",
    "              #Recall_random_forest, Recall_guassian, Recall_perceptron, \n",
    "             # Recall_sgd, Recall_linear_svc, Recall_decision_tree,Recall_kfold_rf,Recall_Voting_class,Recall_xgb,Recall_ada],\n",
    "    'F1':[accuracy_linear_SVM,accuracy_LR,\n",
    "              accuracy_RF]})\n",
    "models.sort_values(by='F1', ascending=False)"
   ]
  },
  {
   "cell_type": "code",
   "execution_count": 584,
   "metadata": {},
   "outputs": [
    {
     "name": "stdout",
     "output_type": "stream",
     "text": [
      "LR NearMiss(version= 1), WordLevel TFIDF:  0.2042904067879488\n",
      "LR NearMiss(version= 2), WordLevel TFIDF:  0.42860060877541567\n",
      "LR NearMiss(version= 3), WordLevel TFIDF:  0.3897130796901676\n",
      "SVC NearMiss(version= 1), WordLevel TFIDF:  0.284361558920669\n",
      "SVC NearMiss(version= 2), WordLevel TFIDF:  0.42417108611407756\n",
      "SVC NearMiss(version= 3), WordLevel TFIDF:  0.39762955417109686\n"
     ]
    }
   ],
   "source": [
    "#NearMiss\n",
    "for sampler in (NearMiss(version=1),NearMiss(version=2),NearMiss(version=3)):\n",
    "    nm_xtrain_tfidf, nm_train_y = sampler.fit_sample(xtrain_tfidf, train_y)\n",
    "    accuracysm = train_model(linear_model.LogisticRegression(random_state=0, solver='lbfgs',multi_class='multinomial'),nm_xtrain_tfidf, nm_train_y, xvalid_tfidf)\n",
    "    print (\"LR NearMiss(version= {0}), WordLevel TFIDF: \".format(sampler.version), accuracysm)\n",
    "\n",
    "for sampler in (NearMiss(version=1),NearMiss(version=2),NearMiss(version=3)):\n",
    "    nm_xtrain_tfidf, nm_train_y = sampler.fit_sample(xtrain_tfidf, train_y)\n",
    "    accuracysm = train_model(svm.LinearSVC(),nm_xtrain_tfidf, nm_train_y, xvalid_tfidf)\n",
    "    print (\"SVC NearMiss(version= {0}), WordLevel TFIDF: \".format(sampler.version), accuracysm)\n"
   ]
  },
  {
   "cell_type": "code",
   "execution_count": 585,
   "metadata": {},
   "outputs": [
    {
     "name": "stdout",
     "output_type": "stream",
     "text": [
      "LR TomekLinks, WordLevel TFIDF:  0.6112946168882363\n",
      "SVC TomekLinks, WordLevel TFIDF:  0.639405344690947\n"
     ]
    }
   ],
   "source": [
    "# Under-Sampling TomekLinks\n",
    "tl = TomekLinks()\n",
    "tl_xtrain_tfidf, tl_train_y = tl.fit_sample(xtrain_tfidf, train_y)\n",
    "accuracy = train_model(linear_model.LogisticRegression(random_state=0, solver='lbfgs',multi_class='multinomial'),tl_xtrain_tfidf, tl_train_y, xvalid_tfidf)\n",
    "print (\"LR TomekLinks, WordLevel TFIDF: \", accuracy)\n",
    "accuracy = train_model(svm.LinearSVC(),tl_xtrain_tfidf, tl_train_y, xvalid_tfidf)\n",
    "print (\"SVC TomekLinks, WordLevel TFIDF: \", accuracy)"
   ]
  },
  {
   "cell_type": "code",
   "execution_count": null,
   "metadata": {},
   "outputs": [],
   "source": []
  }
 ],
 "metadata": {
  "kernelspec": {
   "display_name": "Python 3",
   "language": "python",
   "name": "python3"
  },
  "language_info": {
   "codemirror_mode": {
    "name": "ipython",
    "version": 3
   },
   "file_extension": ".py",
   "mimetype": "text/x-python",
   "name": "python",
   "nbconvert_exporter": "python",
   "pygments_lexer": "ipython3",
   "version": "3.7.3"
  }
 },
 "nbformat": 4,
 "nbformat_minor": 2
}
